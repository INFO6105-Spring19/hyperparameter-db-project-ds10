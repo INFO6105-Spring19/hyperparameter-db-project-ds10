{
 "cells": [
  {
   "cell_type": "code",
   "execution_count": 1,
   "metadata": {},
   "outputs": [],
   "source": [
    "%matplotlib inline\n",
    "import pandas as pd\n",
    "import matplotlib.pyplot as plt\n",
    "import numpy as np\n",
    "from scipy import stats\n",
    "import seaborn as sns\n",
    "import random, os, sys\n",
    "from datetime import datetime\n",
    "import time"
   ]
  },
  {
   "cell_type": "code",
   "execution_count": 2,
   "metadata": {},
   "outputs": [],
   "source": [
    "# Loading the data set using pandas\n",
    "df=pd.read_csv(\"kc_house_data.csv\", sep=',')#We give decimal=',' to show that we are reading the comma separated file"
   ]
  },
  {
   "cell_type": "code",
   "execution_count": 3,
   "metadata": {},
   "outputs": [
    {
     "data": {
      "text/html": [
       "<div>\n",
       "<style scoped>\n",
       "    .dataframe tbody tr th:only-of-type {\n",
       "        vertical-align: middle;\n",
       "    }\n",
       "\n",
       "    .dataframe tbody tr th {\n",
       "        vertical-align: top;\n",
       "    }\n",
       "\n",
       "    .dataframe thead th {\n",
       "        text-align: right;\n",
       "    }\n",
       "</style>\n",
       "<table border=\"1\" class=\"dataframe\">\n",
       "  <thead>\n",
       "    <tr style=\"text-align: right;\">\n",
       "      <th></th>\n",
       "      <th>id</th>\n",
       "      <th>date</th>\n",
       "      <th>price</th>\n",
       "      <th>bedrooms</th>\n",
       "      <th>bathrooms</th>\n",
       "      <th>sqft_living</th>\n",
       "      <th>sqft_lot</th>\n",
       "      <th>floors</th>\n",
       "      <th>waterfront</th>\n",
       "      <th>view</th>\n",
       "      <th>...</th>\n",
       "      <th>grade</th>\n",
       "      <th>sqft_above</th>\n",
       "      <th>sqft_basement</th>\n",
       "      <th>yr_built</th>\n",
       "      <th>yr_renovated</th>\n",
       "      <th>zipcode</th>\n",
       "      <th>lat</th>\n",
       "      <th>long</th>\n",
       "      <th>sqft_living15</th>\n",
       "      <th>sqft_lot15</th>\n",
       "    </tr>\n",
       "  </thead>\n",
       "  <tbody>\n",
       "    <tr>\n",
       "      <th>0</th>\n",
       "      <td>7129300520</td>\n",
       "      <td>20141013T000000</td>\n",
       "      <td>221900</td>\n",
       "      <td>3</td>\n",
       "      <td>1.00</td>\n",
       "      <td>1180</td>\n",
       "      <td>5650</td>\n",
       "      <td>1.0</td>\n",
       "      <td>0</td>\n",
       "      <td>0</td>\n",
       "      <td>...</td>\n",
       "      <td>7</td>\n",
       "      <td>1180</td>\n",
       "      <td>0</td>\n",
       "      <td>1955</td>\n",
       "      <td>0</td>\n",
       "      <td>98178</td>\n",
       "      <td>47.5112</td>\n",
       "      <td>-122.257</td>\n",
       "      <td>1340</td>\n",
       "      <td>5650</td>\n",
       "    </tr>\n",
       "    <tr>\n",
       "      <th>1</th>\n",
       "      <td>6414100192</td>\n",
       "      <td>20141209T000000</td>\n",
       "      <td>538000</td>\n",
       "      <td>3</td>\n",
       "      <td>2.25</td>\n",
       "      <td>2570</td>\n",
       "      <td>7242</td>\n",
       "      <td>2.0</td>\n",
       "      <td>0</td>\n",
       "      <td>0</td>\n",
       "      <td>...</td>\n",
       "      <td>7</td>\n",
       "      <td>2170</td>\n",
       "      <td>400</td>\n",
       "      <td>1951</td>\n",
       "      <td>1991</td>\n",
       "      <td>98125</td>\n",
       "      <td>47.7210</td>\n",
       "      <td>-122.319</td>\n",
       "      <td>1690</td>\n",
       "      <td>7639</td>\n",
       "    </tr>\n",
       "    <tr>\n",
       "      <th>2</th>\n",
       "      <td>5631500400</td>\n",
       "      <td>20150225T000000</td>\n",
       "      <td>180000</td>\n",
       "      <td>2</td>\n",
       "      <td>1.00</td>\n",
       "      <td>770</td>\n",
       "      <td>10000</td>\n",
       "      <td>1.0</td>\n",
       "      <td>0</td>\n",
       "      <td>0</td>\n",
       "      <td>...</td>\n",
       "      <td>6</td>\n",
       "      <td>770</td>\n",
       "      <td>0</td>\n",
       "      <td>1933</td>\n",
       "      <td>0</td>\n",
       "      <td>98028</td>\n",
       "      <td>47.7379</td>\n",
       "      <td>-122.233</td>\n",
       "      <td>2720</td>\n",
       "      <td>8062</td>\n",
       "    </tr>\n",
       "    <tr>\n",
       "      <th>3</th>\n",
       "      <td>2487200875</td>\n",
       "      <td>20141209T000000</td>\n",
       "      <td>604000</td>\n",
       "      <td>4</td>\n",
       "      <td>3.00</td>\n",
       "      <td>1960</td>\n",
       "      <td>5000</td>\n",
       "      <td>1.0</td>\n",
       "      <td>0</td>\n",
       "      <td>0</td>\n",
       "      <td>...</td>\n",
       "      <td>7</td>\n",
       "      <td>1050</td>\n",
       "      <td>910</td>\n",
       "      <td>1965</td>\n",
       "      <td>0</td>\n",
       "      <td>98136</td>\n",
       "      <td>47.5208</td>\n",
       "      <td>-122.393</td>\n",
       "      <td>1360</td>\n",
       "      <td>5000</td>\n",
       "    </tr>\n",
       "    <tr>\n",
       "      <th>4</th>\n",
       "      <td>1954400510</td>\n",
       "      <td>20150218T000000</td>\n",
       "      <td>510000</td>\n",
       "      <td>3</td>\n",
       "      <td>2.00</td>\n",
       "      <td>1680</td>\n",
       "      <td>8080</td>\n",
       "      <td>1.0</td>\n",
       "      <td>0</td>\n",
       "      <td>0</td>\n",
       "      <td>...</td>\n",
       "      <td>8</td>\n",
       "      <td>1680</td>\n",
       "      <td>0</td>\n",
       "      <td>1987</td>\n",
       "      <td>0</td>\n",
       "      <td>98074</td>\n",
       "      <td>47.6168</td>\n",
       "      <td>-122.045</td>\n",
       "      <td>1800</td>\n",
       "      <td>7503</td>\n",
       "    </tr>\n",
       "  </tbody>\n",
       "</table>\n",
       "<p>5 rows × 21 columns</p>\n",
       "</div>"
      ],
      "text/plain": [
       "           id             date   price  bedrooms  bathrooms  sqft_living  \\\n",
       "0  7129300520  20141013T000000  221900         3       1.00         1180   \n",
       "1  6414100192  20141209T000000  538000         3       2.25         2570   \n",
       "2  5631500400  20150225T000000  180000         2       1.00          770   \n",
       "3  2487200875  20141209T000000  604000         4       3.00         1960   \n",
       "4  1954400510  20150218T000000  510000         3       2.00         1680   \n",
       "\n",
       "   sqft_lot  floors  waterfront  view     ...      grade  sqft_above  \\\n",
       "0      5650     1.0           0     0     ...          7        1180   \n",
       "1      7242     2.0           0     0     ...          7        2170   \n",
       "2     10000     1.0           0     0     ...          6         770   \n",
       "3      5000     1.0           0     0     ...          7        1050   \n",
       "4      8080     1.0           0     0     ...          8        1680   \n",
       "\n",
       "   sqft_basement  yr_built  yr_renovated  zipcode      lat     long  \\\n",
       "0              0      1955             0    98178  47.5112 -122.257   \n",
       "1            400      1951          1991    98125  47.7210 -122.319   \n",
       "2              0      1933             0    98028  47.7379 -122.233   \n",
       "3            910      1965             0    98136  47.5208 -122.393   \n",
       "4              0      1987             0    98074  47.6168 -122.045   \n",
       "\n",
       "   sqft_living15  sqft_lot15  \n",
       "0           1340        5650  \n",
       "1           1690        7639  \n",
       "2           2720        8062  \n",
       "3           1360        5000  \n",
       "4           1800        7503  \n",
       "\n",
       "[5 rows x 21 columns]"
      ]
     },
     "execution_count": 3,
     "metadata": {},
     "output_type": "execute_result"
    }
   ],
   "source": [
    "#To show the first 5 rows of the table and check if the data is correct\n",
    "df.head()"
   ]
  },
  {
   "cell_type": "code",
   "execution_count": 4,
   "metadata": {},
   "outputs": [
    {
     "data": {
      "text/html": [
       "<div>\n",
       "<style scoped>\n",
       "    .dataframe tbody tr th:only-of-type {\n",
       "        vertical-align: middle;\n",
       "    }\n",
       "\n",
       "    .dataframe tbody tr th {\n",
       "        vertical-align: top;\n",
       "    }\n",
       "\n",
       "    .dataframe thead th {\n",
       "        text-align: right;\n",
       "    }\n",
       "</style>\n",
       "<table border=\"1\" class=\"dataframe\">\n",
       "  <thead>\n",
       "    <tr style=\"text-align: right;\">\n",
       "      <th></th>\n",
       "      <th>id</th>\n",
       "      <th>price</th>\n",
       "      <th>bedrooms</th>\n",
       "      <th>bathrooms</th>\n",
       "      <th>sqft_living</th>\n",
       "      <th>sqft_lot</th>\n",
       "      <th>floors</th>\n",
       "      <th>waterfront</th>\n",
       "      <th>view</th>\n",
       "      <th>condition</th>\n",
       "      <th>grade</th>\n",
       "      <th>sqft_above</th>\n",
       "      <th>sqft_basement</th>\n",
       "      <th>yr_built</th>\n",
       "      <th>yr_renovated</th>\n",
       "      <th>zipcode</th>\n",
       "      <th>lat</th>\n",
       "      <th>long</th>\n",
       "      <th>sqft_living15</th>\n",
       "      <th>sqft_lot15</th>\n",
       "    </tr>\n",
       "  </thead>\n",
       "  <tbody>\n",
       "    <tr>\n",
       "      <th>count</th>\n",
       "      <td>2.161300e+04</td>\n",
       "      <td>2.161300e+04</td>\n",
       "      <td>21613.000000</td>\n",
       "      <td>21613.000000</td>\n",
       "      <td>21613.000000</td>\n",
       "      <td>2.161300e+04</td>\n",
       "      <td>21613.000000</td>\n",
       "      <td>21613.000000</td>\n",
       "      <td>21613.000000</td>\n",
       "      <td>21613.000000</td>\n",
       "      <td>21613.000000</td>\n",
       "      <td>21613.000000</td>\n",
       "      <td>21613.000000</td>\n",
       "      <td>21613.000000</td>\n",
       "      <td>21613.000000</td>\n",
       "      <td>21613.000000</td>\n",
       "      <td>21613.000000</td>\n",
       "      <td>21613.000000</td>\n",
       "      <td>21613.000000</td>\n",
       "      <td>21613.000000</td>\n",
       "    </tr>\n",
       "    <tr>\n",
       "      <th>mean</th>\n",
       "      <td>4.580302e+09</td>\n",
       "      <td>5.401822e+05</td>\n",
       "      <td>3.370842</td>\n",
       "      <td>2.114757</td>\n",
       "      <td>2079.899736</td>\n",
       "      <td>1.510697e+04</td>\n",
       "      <td>1.494309</td>\n",
       "      <td>0.007542</td>\n",
       "      <td>0.234303</td>\n",
       "      <td>3.409430</td>\n",
       "      <td>7.656873</td>\n",
       "      <td>1788.390691</td>\n",
       "      <td>291.509045</td>\n",
       "      <td>1971.005136</td>\n",
       "      <td>84.402258</td>\n",
       "      <td>98077.939805</td>\n",
       "      <td>47.560053</td>\n",
       "      <td>-122.213896</td>\n",
       "      <td>1986.552492</td>\n",
       "      <td>12768.455652</td>\n",
       "    </tr>\n",
       "    <tr>\n",
       "      <th>std</th>\n",
       "      <td>2.876566e+09</td>\n",
       "      <td>3.673622e+05</td>\n",
       "      <td>0.930062</td>\n",
       "      <td>0.770163</td>\n",
       "      <td>918.440897</td>\n",
       "      <td>4.142051e+04</td>\n",
       "      <td>0.539989</td>\n",
       "      <td>0.086517</td>\n",
       "      <td>0.766318</td>\n",
       "      <td>0.650743</td>\n",
       "      <td>1.175459</td>\n",
       "      <td>828.090978</td>\n",
       "      <td>442.575043</td>\n",
       "      <td>29.373411</td>\n",
       "      <td>401.679240</td>\n",
       "      <td>53.505026</td>\n",
       "      <td>0.138564</td>\n",
       "      <td>0.140828</td>\n",
       "      <td>685.391304</td>\n",
       "      <td>27304.179631</td>\n",
       "    </tr>\n",
       "    <tr>\n",
       "      <th>min</th>\n",
       "      <td>1.000102e+06</td>\n",
       "      <td>7.500000e+04</td>\n",
       "      <td>0.000000</td>\n",
       "      <td>0.000000</td>\n",
       "      <td>290.000000</td>\n",
       "      <td>5.200000e+02</td>\n",
       "      <td>1.000000</td>\n",
       "      <td>0.000000</td>\n",
       "      <td>0.000000</td>\n",
       "      <td>1.000000</td>\n",
       "      <td>1.000000</td>\n",
       "      <td>290.000000</td>\n",
       "      <td>0.000000</td>\n",
       "      <td>1900.000000</td>\n",
       "      <td>0.000000</td>\n",
       "      <td>98001.000000</td>\n",
       "      <td>47.155900</td>\n",
       "      <td>-122.519000</td>\n",
       "      <td>399.000000</td>\n",
       "      <td>651.000000</td>\n",
       "    </tr>\n",
       "    <tr>\n",
       "      <th>25%</th>\n",
       "      <td>2.123049e+09</td>\n",
       "      <td>3.219500e+05</td>\n",
       "      <td>3.000000</td>\n",
       "      <td>1.750000</td>\n",
       "      <td>1427.000000</td>\n",
       "      <td>5.040000e+03</td>\n",
       "      <td>1.000000</td>\n",
       "      <td>0.000000</td>\n",
       "      <td>0.000000</td>\n",
       "      <td>3.000000</td>\n",
       "      <td>7.000000</td>\n",
       "      <td>1190.000000</td>\n",
       "      <td>0.000000</td>\n",
       "      <td>1951.000000</td>\n",
       "      <td>0.000000</td>\n",
       "      <td>98033.000000</td>\n",
       "      <td>47.471000</td>\n",
       "      <td>-122.328000</td>\n",
       "      <td>1490.000000</td>\n",
       "      <td>5100.000000</td>\n",
       "    </tr>\n",
       "    <tr>\n",
       "      <th>50%</th>\n",
       "      <td>3.904930e+09</td>\n",
       "      <td>4.500000e+05</td>\n",
       "      <td>3.000000</td>\n",
       "      <td>2.250000</td>\n",
       "      <td>1910.000000</td>\n",
       "      <td>7.618000e+03</td>\n",
       "      <td>1.500000</td>\n",
       "      <td>0.000000</td>\n",
       "      <td>0.000000</td>\n",
       "      <td>3.000000</td>\n",
       "      <td>7.000000</td>\n",
       "      <td>1560.000000</td>\n",
       "      <td>0.000000</td>\n",
       "      <td>1975.000000</td>\n",
       "      <td>0.000000</td>\n",
       "      <td>98065.000000</td>\n",
       "      <td>47.571800</td>\n",
       "      <td>-122.230000</td>\n",
       "      <td>1840.000000</td>\n",
       "      <td>7620.000000</td>\n",
       "    </tr>\n",
       "    <tr>\n",
       "      <th>75%</th>\n",
       "      <td>7.308900e+09</td>\n",
       "      <td>6.450000e+05</td>\n",
       "      <td>4.000000</td>\n",
       "      <td>2.500000</td>\n",
       "      <td>2550.000000</td>\n",
       "      <td>1.068800e+04</td>\n",
       "      <td>2.000000</td>\n",
       "      <td>0.000000</td>\n",
       "      <td>0.000000</td>\n",
       "      <td>4.000000</td>\n",
       "      <td>8.000000</td>\n",
       "      <td>2210.000000</td>\n",
       "      <td>560.000000</td>\n",
       "      <td>1997.000000</td>\n",
       "      <td>0.000000</td>\n",
       "      <td>98118.000000</td>\n",
       "      <td>47.678000</td>\n",
       "      <td>-122.125000</td>\n",
       "      <td>2360.000000</td>\n",
       "      <td>10083.000000</td>\n",
       "    </tr>\n",
       "    <tr>\n",
       "      <th>max</th>\n",
       "      <td>9.900000e+09</td>\n",
       "      <td>7.700000e+06</td>\n",
       "      <td>33.000000</td>\n",
       "      <td>8.000000</td>\n",
       "      <td>13540.000000</td>\n",
       "      <td>1.651359e+06</td>\n",
       "      <td>3.500000</td>\n",
       "      <td>1.000000</td>\n",
       "      <td>4.000000</td>\n",
       "      <td>5.000000</td>\n",
       "      <td>13.000000</td>\n",
       "      <td>9410.000000</td>\n",
       "      <td>4820.000000</td>\n",
       "      <td>2015.000000</td>\n",
       "      <td>2015.000000</td>\n",
       "      <td>98199.000000</td>\n",
       "      <td>47.777600</td>\n",
       "      <td>-121.315000</td>\n",
       "      <td>6210.000000</td>\n",
       "      <td>871200.000000</td>\n",
       "    </tr>\n",
       "  </tbody>\n",
       "</table>\n",
       "</div>"
      ],
      "text/plain": [
       "                 id         price      bedrooms     bathrooms   sqft_living  \\\n",
       "count  2.161300e+04  2.161300e+04  21613.000000  21613.000000  21613.000000   \n",
       "mean   4.580302e+09  5.401822e+05      3.370842      2.114757   2079.899736   \n",
       "std    2.876566e+09  3.673622e+05      0.930062      0.770163    918.440897   \n",
       "min    1.000102e+06  7.500000e+04      0.000000      0.000000    290.000000   \n",
       "25%    2.123049e+09  3.219500e+05      3.000000      1.750000   1427.000000   \n",
       "50%    3.904930e+09  4.500000e+05      3.000000      2.250000   1910.000000   \n",
       "75%    7.308900e+09  6.450000e+05      4.000000      2.500000   2550.000000   \n",
       "max    9.900000e+09  7.700000e+06     33.000000      8.000000  13540.000000   \n",
       "\n",
       "           sqft_lot        floors    waterfront          view     condition  \\\n",
       "count  2.161300e+04  21613.000000  21613.000000  21613.000000  21613.000000   \n",
       "mean   1.510697e+04      1.494309      0.007542      0.234303      3.409430   \n",
       "std    4.142051e+04      0.539989      0.086517      0.766318      0.650743   \n",
       "min    5.200000e+02      1.000000      0.000000      0.000000      1.000000   \n",
       "25%    5.040000e+03      1.000000      0.000000      0.000000      3.000000   \n",
       "50%    7.618000e+03      1.500000      0.000000      0.000000      3.000000   \n",
       "75%    1.068800e+04      2.000000      0.000000      0.000000      4.000000   \n",
       "max    1.651359e+06      3.500000      1.000000      4.000000      5.000000   \n",
       "\n",
       "              grade    sqft_above  sqft_basement      yr_built  yr_renovated  \\\n",
       "count  21613.000000  21613.000000   21613.000000  21613.000000  21613.000000   \n",
       "mean       7.656873   1788.390691     291.509045   1971.005136     84.402258   \n",
       "std        1.175459    828.090978     442.575043     29.373411    401.679240   \n",
       "min        1.000000    290.000000       0.000000   1900.000000      0.000000   \n",
       "25%        7.000000   1190.000000       0.000000   1951.000000      0.000000   \n",
       "50%        7.000000   1560.000000       0.000000   1975.000000      0.000000   \n",
       "75%        8.000000   2210.000000     560.000000   1997.000000      0.000000   \n",
       "max       13.000000   9410.000000    4820.000000   2015.000000   2015.000000   \n",
       "\n",
       "            zipcode           lat          long  sqft_living15     sqft_lot15  \n",
       "count  21613.000000  21613.000000  21613.000000   21613.000000   21613.000000  \n",
       "mean   98077.939805     47.560053   -122.213896    1986.552492   12768.455652  \n",
       "std       53.505026      0.138564      0.140828     685.391304   27304.179631  \n",
       "min    98001.000000     47.155900   -122.519000     399.000000     651.000000  \n",
       "25%    98033.000000     47.471000   -122.328000    1490.000000    5100.000000  \n",
       "50%    98065.000000     47.571800   -122.230000    1840.000000    7620.000000  \n",
       "75%    98118.000000     47.678000   -122.125000    2360.000000   10083.000000  \n",
       "max    98199.000000     47.777600   -121.315000    6210.000000  871200.000000  "
      ]
     },
     "execution_count": 4,
     "metadata": {},
     "output_type": "execute_result"
    }
   ],
   "source": [
    "#To check the statistical properties like mean standard deviation etc of the data set\n",
    "df.describe()"
   ]
  },
  {
   "cell_type": "code",
   "execution_count": 5,
   "metadata": {},
   "outputs": [
    {
     "data": {
      "text/plain": [
       "(21613, 21)"
      ]
     },
     "execution_count": 5,
     "metadata": {},
     "output_type": "execute_result"
    }
   ],
   "source": [
    "df.shape"
   ]
  },
  {
   "cell_type": "code",
   "execution_count": 6,
   "metadata": {},
   "outputs": [
    {
     "data": {
      "text/plain": [
       "id                 int64\n",
       "date              object\n",
       "price              int64\n",
       "bedrooms           int64\n",
       "bathrooms        float64\n",
       "sqft_living        int64\n",
       "sqft_lot           int64\n",
       "floors           float64\n",
       "waterfront         int64\n",
       "view               int64\n",
       "condition          int64\n",
       "grade              int64\n",
       "sqft_above         int64\n",
       "sqft_basement      int64\n",
       "yr_built           int64\n",
       "yr_renovated       int64\n",
       "zipcode            int64\n",
       "lat              float64\n",
       "long             float64\n",
       "sqft_living15      int64\n",
       "sqft_lot15         int64\n",
       "dtype: object"
      ]
     },
     "execution_count": 6,
     "metadata": {},
     "output_type": "execute_result"
    }
   ],
   "source": [
    "#To check the data types\n",
    "df.dtypes"
   ]
  },
  {
   "cell_type": "code",
   "execution_count": 7,
   "metadata": {},
   "outputs": [
    {
     "data": {
      "text/plain": [
       "id               0\n",
       "date             0\n",
       "price            0\n",
       "bedrooms         0\n",
       "bathrooms        0\n",
       "sqft_living      0\n",
       "sqft_lot         0\n",
       "floors           0\n",
       "waterfront       0\n",
       "view             0\n",
       "condition        0\n",
       "grade            0\n",
       "sqft_above       0\n",
       "sqft_basement    0\n",
       "yr_built         0\n",
       "yr_renovated     0\n",
       "zipcode          0\n",
       "lat              0\n",
       "long             0\n",
       "sqft_living15    0\n",
       "sqft_lot15       0\n",
       "dtype: int64"
      ]
     },
     "execution_count": 7,
     "metadata": {},
     "output_type": "execute_result"
    }
   ],
   "source": [
    "#To show the total NULL Values present in the NULL Valued fields\n",
    "df.isnull().sum()"
   ]
  },
  {
   "cell_type": "code",
   "execution_count": 8,
   "metadata": {},
   "outputs": [
    {
     "data": {
      "text/plain": [
       "0"
      ]
     },
     "execution_count": 8,
     "metadata": {},
     "output_type": "execute_result"
    }
   ],
   "source": [
    "#To print the sum of the total number of NULL Values in the data set\n",
    "df.isnull().sum().sum()"
   ]
  },
  {
   "cell_type": "markdown",
   "metadata": {},
   "source": [
    "## Since there are no NULL values in the Dataset we can directly read the files using h2o and perform the analysis sing h2o"
   ]
  },
  {
   "cell_type": "code",
   "execution_count": 9,
   "metadata": {},
   "outputs": [],
   "source": [
    "import h2o\n",
    "from h2o.automl import H2OAutoML\n",
    "import json"
   ]
  },
  {
   "cell_type": "code",
   "execution_count": 10,
   "metadata": {},
   "outputs": [
    {
     "name": "stdout",
     "output_type": "stream",
     "text": [
      "Checking whether there is an H2O instance running at http://localhost:54321..... not found.\n",
      "Attempting to start a local H2O server...\n",
      "; Java HotSpot(TM) 64-Bit Server VM (build 24.80-b11, mixed mode)\n",
      "  Starting server from C:\\Users\\Samartha\\Anaconda3\\lib\\site-packages\\h2o\\backend\\bin\\h2o.jar\n",
      "  Ice root: C:\\Users\\Samartha\\AppData\\Local\\Temp\\tmp7sd9hzt1\n",
      "  JVM stdout: C:\\Users\\Samartha\\AppData\\Local\\Temp\\tmp7sd9hzt1\\h2o_Samartha_started_from_python.out\n",
      "  JVM stderr: C:\\Users\\Samartha\\AppData\\Local\\Temp\\tmp7sd9hzt1\\h2o_Samartha_started_from_python.err\n",
      "  Server is running at http://127.0.0.1:54321\n",
      "Connecting to H2O server at http://127.0.0.1:54321... successful.\n"
     ]
    },
    {
     "data": {
      "text/html": [
       "<div style=\"overflow:auto\"><table style=\"width:50%\"><tr><td>H2O cluster uptime:</td>\n",
       "<td>35 secs</td></tr>\n",
       "<tr><td>H2O cluster timezone:</td>\n",
       "<td>America/New_York</td></tr>\n",
       "<tr><td>H2O data parsing timezone:</td>\n",
       "<td>UTC</td></tr>\n",
       "<tr><td>H2O cluster version:</td>\n",
       "<td>3.22.1.3</td></tr>\n",
       "<tr><td>H2O cluster version age:</td>\n",
       "<td>2 months and 22 days </td></tr>\n",
       "<tr><td>H2O cluster name:</td>\n",
       "<td>H2O_from_python_Samartha_i9e7vu</td></tr>\n",
       "<tr><td>H2O cluster total nodes:</td>\n",
       "<td>1</td></tr>\n",
       "<tr><td>H2O cluster free memory:</td>\n",
       "<td>1.750 Gb</td></tr>\n",
       "<tr><td>H2O cluster total cores:</td>\n",
       "<td>4</td></tr>\n",
       "<tr><td>H2O cluster allowed cores:</td>\n",
       "<td>4</td></tr>\n",
       "<tr><td>H2O cluster status:</td>\n",
       "<td>accepting new members, healthy</td></tr>\n",
       "<tr><td>H2O connection url:</td>\n",
       "<td>http://127.0.0.1:54321</td></tr>\n",
       "<tr><td>H2O connection proxy:</td>\n",
       "<td>None</td></tr>\n",
       "<tr><td>H2O internal security:</td>\n",
       "<td>False</td></tr>\n",
       "<tr><td>H2O API Extensions:</td>\n",
       "<td>AutoML, Algos, Core V3, Core V4</td></tr>\n",
       "<tr><td>Python version:</td>\n",
       "<td>3.7.1 final</td></tr></table></div>"
      ],
      "text/plain": [
       "--------------------------  -------------------------------\n",
       "H2O cluster uptime:         35 secs\n",
       "H2O cluster timezone:       America/New_York\n",
       "H2O data parsing timezone:  UTC\n",
       "H2O cluster version:        3.22.1.3\n",
       "H2O cluster version age:    2 months and 22 days\n",
       "H2O cluster name:           H2O_from_python_Samartha_i9e7vu\n",
       "H2O cluster total nodes:    1\n",
       "H2O cluster free memory:    1.750 Gb\n",
       "H2O cluster total cores:    4\n",
       "H2O cluster allowed cores:  4\n",
       "H2O cluster status:         accepting new members, healthy\n",
       "H2O connection url:         http://127.0.0.1:54321\n",
       "H2O connection proxy:\n",
       "H2O internal security:      False\n",
       "H2O API Extensions:         AutoML, Algos, Core V3, Core V4\n",
       "Python version:             3.7.1 final\n",
       "--------------------------  -------------------------------"
      ]
     },
     "metadata": {},
     "output_type": "display_data"
    }
   ],
   "source": [
    "h2o.init(strict_version_check=False) # starting h2o"
   ]
  },
  {
   "cell_type": "code",
   "execution_count": 11,
   "metadata": {},
   "outputs": [],
   "source": [
    "import os"
   ]
  },
  {
   "cell_type": "code",
   "execution_count": 12,
   "metadata": {},
   "outputs": [
    {
     "name": "stdout",
     "output_type": "stream",
     "text": [
      "Parse progress: |█████████████████████████████████████████████████████████| 100%\n"
     ]
    }
   ],
   "source": [
    "df = h2o.import_file(\"kc_house_data.csv\")"
   ]
  },
  {
   "cell_type": "code",
   "execution_count": 13,
   "metadata": {},
   "outputs": [
    {
     "name": "stdout",
     "output_type": "stream",
     "text": [
      "Rows:21613\n",
      "Cols:21\n",
      "\n",
      "\n"
     ]
    },
    {
     "data": {
      "text/html": [
       "<table>\n",
       "<thead>\n",
       "<tr><th>       </th><th>id                </th><th>date           </th><th>price            </th><th>bedrooms          </th><th>bathrooms         </th><th>sqft_living      </th><th>sqft_lot          </th><th>floors            </th><th>waterfront          </th><th>view               </th><th>condition         </th><th>grade            </th><th>sqft_above        </th><th>sqft_basement     </th><th>yr_built          </th><th>yr_renovated      </th><th>zipcode          </th><th>lat                </th><th>long               </th><th>sqft_living15     </th><th>sqft_lot15        </th></tr>\n",
       "</thead>\n",
       "<tbody>\n",
       "<tr><td>type   </td><td>int               </td><td>enum           </td><td>int              </td><td>int               </td><td>real              </td><td>int              </td><td>int               </td><td>real              </td><td>int                 </td><td>int                </td><td>int               </td><td>int              </td><td>int               </td><td>int               </td><td>int               </td><td>int               </td><td>int              </td><td>real               </td><td>real               </td><td>int               </td><td>int               </td></tr>\n",
       "<tr><td>mins   </td><td>1000102.0         </td><td>               </td><td>75000.0          </td><td>0.0               </td><td>0.0               </td><td>290.0            </td><td>520.0             </td><td>1.0               </td><td>0.0                 </td><td>0.0                </td><td>1.0               </td><td>1.0              </td><td>290.0             </td><td>0.0               </td><td>1900.0            </td><td>0.0               </td><td>98001.0          </td><td>47.1559            </td><td>-122.519           </td><td>399.0             </td><td>651.0             </td></tr>\n",
       "<tr><td>mean   </td><td>4580301520.864986 </td><td>               </td><td>540182.1587933188</td><td>3.37084162309721  </td><td>2.1147573219821405</td><td>2079.899736269837</td><td>15106.967565816869</td><td>1.4943089807060563</td><td>0.007541757275713691</td><td>0.23430342849211128</td><td>3.40942951001712  </td><td>7.656873178179799</td><td>1788.3906907879523</td><td>291.50904548188583</td><td>1971.0051357978994</td><td>84.40225790033776 </td><td>98077.93980474718</td><td>47.56005251931708  </td><td>-122.21389640494147</td><td>1986.5524915560077</td><td>12768.455651691109</td></tr>\n",
       "<tr><td>maxs   </td><td>9900000190.0      </td><td>               </td><td>7700000.0        </td><td>33.0              </td><td>8.0               </td><td>13540.0          </td><td>1651359.0         </td><td>3.5               </td><td>1.0                 </td><td>4.0                </td><td>5.0               </td><td>13.0             </td><td>9410.0            </td><td>4820.0            </td><td>2015.0            </td><td>2015.0            </td><td>98199.0          </td><td>47.7776            </td><td>-121.315           </td><td>6210.0            </td><td>871200.0          </td></tr>\n",
       "<tr><td>sigma  </td><td>2876565571.3120565</td><td>               </td><td>367362.2317180084</td><td>0.9300618311474517</td><td>0.7701631572177421</td><td>918.4408970468114</td><td>41420.51151513547 </td><td>0.5399888951423462</td><td>0.08651719772788766 </td><td>0.7663175692736124 </td><td>0.6507430463662072</td><td>1.175458756974336</td><td>828.090977651917  </td><td>442.5750426774682 </td><td>29.37341080238648 </td><td>401.67924001917584</td><td>53.50502625747392</td><td>0.13856371024192485</td><td>0.1408283423813943 </td><td>685.3913042527776 </td><td>27304.179631338513</td></tr>\n",
       "<tr><td>zeros  </td><td>0                 </td><td>               </td><td>0                </td><td>13                </td><td>10                </td><td>0                </td><td>0                 </td><td>0                 </td><td>21450               </td><td>19489              </td><td>0                 </td><td>0                </td><td>0                 </td><td>13126             </td><td>0                 </td><td>20699             </td><td>0                </td><td>0                  </td><td>0                  </td><td>0                 </td><td>0                 </td></tr>\n",
       "<tr><td>missing</td><td>0                 </td><td>0              </td><td>0                </td><td>0                 </td><td>0                 </td><td>0                </td><td>0                 </td><td>0                 </td><td>0                   </td><td>0                  </td><td>0                 </td><td>0                </td><td>0                 </td><td>0                 </td><td>0                 </td><td>0                 </td><td>0                </td><td>0                  </td><td>0                  </td><td>0                 </td><td>0                 </td></tr>\n",
       "<tr><td>0      </td><td>7129300520.0      </td><td>20141013T000000</td><td>221900.0         </td><td>3.0               </td><td>1.0               </td><td>1180.0           </td><td>5650.0            </td><td>1.0               </td><td>0.0                 </td><td>0.0                </td><td>3.0               </td><td>7.0              </td><td>1180.0            </td><td>0.0               </td><td>1955.0            </td><td>0.0               </td><td>98178.0          </td><td>47.5112            </td><td>-122.257           </td><td>1340.0            </td><td>5650.0            </td></tr>\n",
       "<tr><td>1      </td><td>6414100192.0      </td><td>20141209T000000</td><td>538000.0         </td><td>3.0               </td><td>2.25              </td><td>2570.0           </td><td>7242.0            </td><td>2.0               </td><td>0.0                 </td><td>0.0                </td><td>3.0               </td><td>7.0              </td><td>2170.0            </td><td>400.0             </td><td>1951.0            </td><td>1991.0            </td><td>98125.0          </td><td>47.721             </td><td>-122.319           </td><td>1690.0            </td><td>7639.0            </td></tr>\n",
       "<tr><td>2      </td><td>5631500400.0      </td><td>20150225T000000</td><td>180000.0         </td><td>2.0               </td><td>1.0               </td><td>770.0            </td><td>10000.0           </td><td>1.0               </td><td>0.0                 </td><td>0.0                </td><td>3.0               </td><td>6.0              </td><td>770.0             </td><td>0.0               </td><td>1933.0            </td><td>0.0               </td><td>98028.0          </td><td>47.7379            </td><td>-122.233           </td><td>2720.0            </td><td>8062.0            </td></tr>\n",
       "<tr><td>3      </td><td>2487200875.0      </td><td>20141209T000000</td><td>604000.0         </td><td>4.0               </td><td>3.0               </td><td>1960.0           </td><td>5000.0            </td><td>1.0               </td><td>0.0                 </td><td>0.0                </td><td>5.0               </td><td>7.0              </td><td>1050.0            </td><td>910.0             </td><td>1965.0            </td><td>0.0               </td><td>98136.0          </td><td>47.5208            </td><td>-122.393           </td><td>1360.0            </td><td>5000.0            </td></tr>\n",
       "<tr><td>4      </td><td>1954400510.0      </td><td>20150218T000000</td><td>510000.0         </td><td>3.0               </td><td>2.0               </td><td>1680.0           </td><td>8080.0            </td><td>1.0               </td><td>0.0                 </td><td>0.0                </td><td>3.0               </td><td>8.0              </td><td>1680.0            </td><td>0.0               </td><td>1987.0            </td><td>0.0               </td><td>98074.0          </td><td>47.6168            </td><td>-122.045           </td><td>1800.0            </td><td>7503.0            </td></tr>\n",
       "<tr><td>5      </td><td>7237550310.0      </td><td>20140512T000000</td><td>1230000.0        </td><td>4.0               </td><td>4.5               </td><td>5420.0           </td><td>101930.0          </td><td>1.0               </td><td>0.0                 </td><td>0.0                </td><td>3.0               </td><td>11.0             </td><td>3890.0            </td><td>1530.0            </td><td>2001.0            </td><td>0.0               </td><td>98053.0          </td><td>47.6561            </td><td>-122.005           </td><td>4760.0            </td><td>101930.0          </td></tr>\n",
       "<tr><td>6      </td><td>1321400060.0      </td><td>20140627T000000</td><td>257500.0         </td><td>3.0               </td><td>2.25              </td><td>1715.0           </td><td>6819.0            </td><td>2.0               </td><td>0.0                 </td><td>0.0                </td><td>3.0               </td><td>7.0              </td><td>1715.0            </td><td>0.0               </td><td>1995.0            </td><td>0.0               </td><td>98003.0          </td><td>47.3097            </td><td>-122.327           </td><td>2238.0            </td><td>6819.0            </td></tr>\n",
       "<tr><td>7      </td><td>2008000270.0      </td><td>20150115T000000</td><td>291850.0         </td><td>3.0               </td><td>1.5               </td><td>1060.0           </td><td>9711.0            </td><td>1.0               </td><td>0.0                 </td><td>0.0                </td><td>3.0               </td><td>7.0              </td><td>1060.0            </td><td>0.0               </td><td>1963.0            </td><td>0.0               </td><td>98198.0          </td><td>47.4095            </td><td>-122.315           </td><td>1650.0            </td><td>9711.0            </td></tr>\n",
       "<tr><td>8      </td><td>2414600126.0      </td><td>20150415T000000</td><td>229500.0         </td><td>3.0               </td><td>1.0               </td><td>1780.0           </td><td>7470.0            </td><td>1.0               </td><td>0.0                 </td><td>0.0                </td><td>3.0               </td><td>7.0              </td><td>1050.0            </td><td>730.0             </td><td>1960.0            </td><td>0.0               </td><td>98146.0          </td><td>47.5123            </td><td>-122.337           </td><td>1780.0            </td><td>8113.0            </td></tr>\n",
       "<tr><td>9      </td><td>3793500160.0      </td><td>20150312T000000</td><td>323000.0         </td><td>3.0               </td><td>2.5               </td><td>1890.0           </td><td>6560.0            </td><td>2.0               </td><td>0.0                 </td><td>0.0                </td><td>3.0               </td><td>7.0              </td><td>1890.0            </td><td>0.0               </td><td>2003.0            </td><td>0.0               </td><td>98038.0          </td><td>47.3684            </td><td>-122.031           </td><td>2390.0            </td><td>7570.0            </td></tr>\n",
       "</tbody>\n",
       "</table>"
      ]
     },
     "metadata": {},
     "output_type": "display_data"
    }
   ],
   "source": [
    "df.describe()"
   ]
  },
  {
   "cell_type": "code",
   "execution_count": 14,
   "metadata": {},
   "outputs": [
    {
     "data": {
      "text/html": [
       "<table>\n",
       "<thead>\n",
       "<tr><th style=\"text-align: right;\">         id</th><th>date           </th><th style=\"text-align: right;\">        price</th><th style=\"text-align: right;\">  bedrooms</th><th style=\"text-align: right;\">  bathrooms</th><th style=\"text-align: right;\">  sqft_living</th><th style=\"text-align: right;\">  sqft_lot</th><th style=\"text-align: right;\">  floors</th><th style=\"text-align: right;\">  waterfront</th><th style=\"text-align: right;\">  view</th><th style=\"text-align: right;\">  condition</th><th style=\"text-align: right;\">  grade</th><th style=\"text-align: right;\">  sqft_above</th><th style=\"text-align: right;\">  sqft_basement</th><th style=\"text-align: right;\">  yr_built</th><th style=\"text-align: right;\">  yr_renovated</th><th style=\"text-align: right;\">  zipcode</th><th style=\"text-align: right;\">    lat</th><th style=\"text-align: right;\">    long</th><th style=\"text-align: right;\">  sqft_living15</th><th style=\"text-align: right;\">  sqft_lot15</th></tr>\n",
       "</thead>\n",
       "<tbody>\n",
       "<tr><td style=\"text-align: right;\">7.1293e+09 </td><td>20141013T000000</td><td style=\"text-align: right;\">221900       </td><td style=\"text-align: right;\">         3</td><td style=\"text-align: right;\">       1   </td><td style=\"text-align: right;\">         1180</td><td style=\"text-align: right;\">      5650</td><td style=\"text-align: right;\">       1</td><td style=\"text-align: right;\">           0</td><td style=\"text-align: right;\">     0</td><td style=\"text-align: right;\">          3</td><td style=\"text-align: right;\">      7</td><td style=\"text-align: right;\">        1180</td><td style=\"text-align: right;\">              0</td><td style=\"text-align: right;\">      1955</td><td style=\"text-align: right;\">             0</td><td style=\"text-align: right;\">    98178</td><td style=\"text-align: right;\">47.5112</td><td style=\"text-align: right;\">-122.257</td><td style=\"text-align: right;\">           1340</td><td style=\"text-align: right;\">        5650</td></tr>\n",
       "<tr><td style=\"text-align: right;\">6.4141e+09 </td><td>20141209T000000</td><td style=\"text-align: right;\">538000       </td><td style=\"text-align: right;\">         3</td><td style=\"text-align: right;\">       2.25</td><td style=\"text-align: right;\">         2570</td><td style=\"text-align: right;\">      7242</td><td style=\"text-align: right;\">       2</td><td style=\"text-align: right;\">           0</td><td style=\"text-align: right;\">     0</td><td style=\"text-align: right;\">          3</td><td style=\"text-align: right;\">      7</td><td style=\"text-align: right;\">        2170</td><td style=\"text-align: right;\">            400</td><td style=\"text-align: right;\">      1951</td><td style=\"text-align: right;\">          1991</td><td style=\"text-align: right;\">    98125</td><td style=\"text-align: right;\">47.721 </td><td style=\"text-align: right;\">-122.319</td><td style=\"text-align: right;\">           1690</td><td style=\"text-align: right;\">        7639</td></tr>\n",
       "<tr><td style=\"text-align: right;\">5.6315e+09 </td><td>20150225T000000</td><td style=\"text-align: right;\">180000       </td><td style=\"text-align: right;\">         2</td><td style=\"text-align: right;\">       1   </td><td style=\"text-align: right;\">          770</td><td style=\"text-align: right;\">     10000</td><td style=\"text-align: right;\">       1</td><td style=\"text-align: right;\">           0</td><td style=\"text-align: right;\">     0</td><td style=\"text-align: right;\">          3</td><td style=\"text-align: right;\">      6</td><td style=\"text-align: right;\">         770</td><td style=\"text-align: right;\">              0</td><td style=\"text-align: right;\">      1933</td><td style=\"text-align: right;\">             0</td><td style=\"text-align: right;\">    98028</td><td style=\"text-align: right;\">47.7379</td><td style=\"text-align: right;\">-122.233</td><td style=\"text-align: right;\">           2720</td><td style=\"text-align: right;\">        8062</td></tr>\n",
       "<tr><td style=\"text-align: right;\">2.4872e+09 </td><td>20141209T000000</td><td style=\"text-align: right;\">604000       </td><td style=\"text-align: right;\">         4</td><td style=\"text-align: right;\">       3   </td><td style=\"text-align: right;\">         1960</td><td style=\"text-align: right;\">      5000</td><td style=\"text-align: right;\">       1</td><td style=\"text-align: right;\">           0</td><td style=\"text-align: right;\">     0</td><td style=\"text-align: right;\">          5</td><td style=\"text-align: right;\">      7</td><td style=\"text-align: right;\">        1050</td><td style=\"text-align: right;\">            910</td><td style=\"text-align: right;\">      1965</td><td style=\"text-align: right;\">             0</td><td style=\"text-align: right;\">    98136</td><td style=\"text-align: right;\">47.5208</td><td style=\"text-align: right;\">-122.393</td><td style=\"text-align: right;\">           1360</td><td style=\"text-align: right;\">        5000</td></tr>\n",
       "<tr><td style=\"text-align: right;\">1.9544e+09 </td><td>20150218T000000</td><td style=\"text-align: right;\">510000       </td><td style=\"text-align: right;\">         3</td><td style=\"text-align: right;\">       2   </td><td style=\"text-align: right;\">         1680</td><td style=\"text-align: right;\">      8080</td><td style=\"text-align: right;\">       1</td><td style=\"text-align: right;\">           0</td><td style=\"text-align: right;\">     0</td><td style=\"text-align: right;\">          3</td><td style=\"text-align: right;\">      8</td><td style=\"text-align: right;\">        1680</td><td style=\"text-align: right;\">              0</td><td style=\"text-align: right;\">      1987</td><td style=\"text-align: right;\">             0</td><td style=\"text-align: right;\">    98074</td><td style=\"text-align: right;\">47.6168</td><td style=\"text-align: right;\">-122.045</td><td style=\"text-align: right;\">           1800</td><td style=\"text-align: right;\">        7503</td></tr>\n",
       "<tr><td style=\"text-align: right;\">7.23755e+09</td><td>20140512T000000</td><td style=\"text-align: right;\">     1.23e+06</td><td style=\"text-align: right;\">         4</td><td style=\"text-align: right;\">       4.5 </td><td style=\"text-align: right;\">         5420</td><td style=\"text-align: right;\">    101930</td><td style=\"text-align: right;\">       1</td><td style=\"text-align: right;\">           0</td><td style=\"text-align: right;\">     0</td><td style=\"text-align: right;\">          3</td><td style=\"text-align: right;\">     11</td><td style=\"text-align: right;\">        3890</td><td style=\"text-align: right;\">           1530</td><td style=\"text-align: right;\">      2001</td><td style=\"text-align: right;\">             0</td><td style=\"text-align: right;\">    98053</td><td style=\"text-align: right;\">47.6561</td><td style=\"text-align: right;\">-122.005</td><td style=\"text-align: right;\">           4760</td><td style=\"text-align: right;\">      101930</td></tr>\n",
       "<tr><td style=\"text-align: right;\">1.3214e+09 </td><td>20140627T000000</td><td style=\"text-align: right;\">257500       </td><td style=\"text-align: right;\">         3</td><td style=\"text-align: right;\">       2.25</td><td style=\"text-align: right;\">         1715</td><td style=\"text-align: right;\">      6819</td><td style=\"text-align: right;\">       2</td><td style=\"text-align: right;\">           0</td><td style=\"text-align: right;\">     0</td><td style=\"text-align: right;\">          3</td><td style=\"text-align: right;\">      7</td><td style=\"text-align: right;\">        1715</td><td style=\"text-align: right;\">              0</td><td style=\"text-align: right;\">      1995</td><td style=\"text-align: right;\">             0</td><td style=\"text-align: right;\">    98003</td><td style=\"text-align: right;\">47.3097</td><td style=\"text-align: right;\">-122.327</td><td style=\"text-align: right;\">           2238</td><td style=\"text-align: right;\">        6819</td></tr>\n",
       "<tr><td style=\"text-align: right;\">2.008e+09  </td><td>20150115T000000</td><td style=\"text-align: right;\">291850       </td><td style=\"text-align: right;\">         3</td><td style=\"text-align: right;\">       1.5 </td><td style=\"text-align: right;\">         1060</td><td style=\"text-align: right;\">      9711</td><td style=\"text-align: right;\">       1</td><td style=\"text-align: right;\">           0</td><td style=\"text-align: right;\">     0</td><td style=\"text-align: right;\">          3</td><td style=\"text-align: right;\">      7</td><td style=\"text-align: right;\">        1060</td><td style=\"text-align: right;\">              0</td><td style=\"text-align: right;\">      1963</td><td style=\"text-align: right;\">             0</td><td style=\"text-align: right;\">    98198</td><td style=\"text-align: right;\">47.4095</td><td style=\"text-align: right;\">-122.315</td><td style=\"text-align: right;\">           1650</td><td style=\"text-align: right;\">        9711</td></tr>\n",
       "<tr><td style=\"text-align: right;\">2.4146e+09 </td><td>20150415T000000</td><td style=\"text-align: right;\">229500       </td><td style=\"text-align: right;\">         3</td><td style=\"text-align: right;\">       1   </td><td style=\"text-align: right;\">         1780</td><td style=\"text-align: right;\">      7470</td><td style=\"text-align: right;\">       1</td><td style=\"text-align: right;\">           0</td><td style=\"text-align: right;\">     0</td><td style=\"text-align: right;\">          3</td><td style=\"text-align: right;\">      7</td><td style=\"text-align: right;\">        1050</td><td style=\"text-align: right;\">            730</td><td style=\"text-align: right;\">      1960</td><td style=\"text-align: right;\">             0</td><td style=\"text-align: right;\">    98146</td><td style=\"text-align: right;\">47.5123</td><td style=\"text-align: right;\">-122.337</td><td style=\"text-align: right;\">           1780</td><td style=\"text-align: right;\">        8113</td></tr>\n",
       "<tr><td style=\"text-align: right;\">3.7935e+09 </td><td>20150312T000000</td><td style=\"text-align: right;\">323000       </td><td style=\"text-align: right;\">         3</td><td style=\"text-align: right;\">       2.5 </td><td style=\"text-align: right;\">         1890</td><td style=\"text-align: right;\">      6560</td><td style=\"text-align: right;\">       2</td><td style=\"text-align: right;\">           0</td><td style=\"text-align: right;\">     0</td><td style=\"text-align: right;\">          3</td><td style=\"text-align: right;\">      7</td><td style=\"text-align: right;\">        1890</td><td style=\"text-align: right;\">              0</td><td style=\"text-align: right;\">      2003</td><td style=\"text-align: right;\">             0</td><td style=\"text-align: right;\">    98038</td><td style=\"text-align: right;\">47.3684</td><td style=\"text-align: right;\">-122.031</td><td style=\"text-align: right;\">           2390</td><td style=\"text-align: right;\">        7570</td></tr>\n",
       "</tbody>\n",
       "</table>"
      ]
     },
     "metadata": {},
     "output_type": "display_data"
    },
    {
     "data": {
      "text/plain": []
     },
     "execution_count": 14,
     "metadata": {},
     "output_type": "execute_result"
    }
   ],
   "source": [
    "df.head()"
   ]
  },
  {
   "cell_type": "code",
   "execution_count": 15,
   "metadata": {},
   "outputs": [],
   "source": [
    "def hyperparameter_json(hyperparameter,name):\n",
    "    i = json.dumps(hyperparameter, indent=4)\n",
    "    f = open(name, 'w')\n",
    "    print(i, file=f)\n",
    "    f.close()"
   ]
  },
  {
   "cell_type": "markdown",
   "metadata": {},
   "source": [
    "### Function for the run id"
   ]
  },
  {
   "cell_type": "code",
   "execution_count": 17,
   "metadata": {},
   "outputs": [],
   "source": [
    "def run_id(n):\n",
    "    letter='0123456789abcdefghijklmnopqrstuvwxyzABCDEFGHIJKLMNOPQRSTUVWXYZ'    \n",
    "    str=''\n",
    "    r=len(letter)-1   \n",
    "    while len(str)<n:\n",
    "        i=random.randint(0,r)\n",
    "        str+=letter[i]   \n",
    "    return str\n",
    "server_path=None"
   ]
  },
  {
   "cell_type": "code",
   "execution_count": 54,
   "metadata": {},
   "outputs": [],
   "source": [
    "data_path=None\n",
    "all_variables=None\n",
    "test_path=None\n",
    "target=None\n",
    "nthreads=1 \n",
    "min_mem_size=6 \n",
    "run_time=200\n",
    "regression=True\n",
    "#scale=False\n",
    "max_models=10   \n",
    "model_path=None\n",
    "balance_y=False \n",
    "balance_threshold=0.2\n",
    "name=None \n",
    "server_path=None  \n",
    "#analysis=0"
   ]
  },
  {
   "cell_type": "code",
   "execution_count": 55,
   "metadata": {},
   "outputs": [],
   "source": [
    "def meta_data(run_id,server,data,test,model_path,target,run_time,regression,model,balance,balance_threshold,name,path,nthreads,min_mem_size):\n",
    "    m_data={}\n",
    "    m_data['start_time'] = time.time()\n",
    "    m_data['target']=target\n",
    "    m_data['server_path']=server\n",
    "    m_data['data_path']=data \n",
    "    m_data['test_path']=test\n",
    "    m_data['max_models']=model\n",
    "    m_data['run_time']=run_time\n",
    "    m_data['run_id'] =run_id\n",
    "   # m_data['scale']=scale\n",
    "    m_data['regression']=regression\n",
    "    m_data['scale']=False\n",
    "    m_data['model_path']=model_path\n",
    "    m_data['balance']=balance\n",
    "    m_data['balance_threshold']=balance_threshold\n",
    "    m_data['project'] =name\n",
    "    m_data['end_time'] = time.time()\n",
    "    m_data['execution_time'] = 0.0\n",
    "    m_data['run_path'] =path\n",
    "    m_data['nthreads'] = nthreads\n",
    "    m_data['min_mem_size'] = min_mem_size\n",
    "   # m_data['analysis'] = analysis\n",
    "    return m_data"
   ]
  },
  {
   "cell_type": "code",
   "execution_count": 56,
   "metadata": {},
   "outputs": [],
   "source": [
    "target='price' "
   ]
  },
  {
   "cell_type": "code",
   "execution_count": 57,
   "metadata": {},
   "outputs": [
    {
     "name": "stdout",
     "output_type": "stream",
     "text": [
      "price\n",
      "['id', 'date', 'bedrooms', 'bathrooms', 'sqft_living', 'sqft_lot', 'floors', 'waterfront', 'view', 'condition', 'grade', 'sqft_above', 'sqft_basement', 'yr_built', 'yr_renovated', 'zipcode', 'lat', 'long', 'sqft_living15', 'sqft_lot15']\n"
     ]
    }
   ],
   "source": [
    "# assign target and inputs for linear regression\n",
    "y = target\n",
    "X = [name for name in df.columns if name != y]\n",
    "print(y)\n",
    "print(X)"
   ]
  },
  {
   "cell_type": "code",
   "execution_count": 58,
   "metadata": {},
   "outputs": [],
   "source": [
    "project =\"automl_run\"\n",
    "run_time=200"
   ]
  },
  {
   "cell_type": "code",
   "execution_count": 59,
   "metadata": {},
   "outputs": [
    {
     "name": "stdout",
     "output_type": "stream",
     "text": [
      "AutoML progress: |████████████████████████████████████████████████████████| 100%\n"
     ]
    }
   ],
   "source": [
    "aml = H2OAutoML(max_runtime_secs=run_time,project_name = project) # run auto ml for 200 seconds\n",
    "aml.train(x=X,  \n",
    "           y=y,\n",
    "           training_frame=df)"
   ]
  },
  {
   "cell_type": "code",
   "execution_count": 60,
   "metadata": {},
   "outputs": [
    {
     "name": "stdout",
     "output_type": "stream",
     "text": [
      "ghkITpYICF\n"
     ]
    }
   ],
   "source": [
    "runid=run_id(10)\n",
    "if server_path==None:\n",
    "    server_path=os.path.abspath(os.curdir)\n",
    "os.chdir(server_path) \n",
    "run_dir = os.path.join(server_path,runid)\n",
    "os.mkdir(run_dir)\n",
    "os.chdir(run_dir)    \n",
    "\n",
    "# run_id to std out\n",
    "print (runid)"
   ]
  },
  {
   "cell_type": "code",
   "execution_count": 28,
   "metadata": {},
   "outputs": [
    {
     "data": {
      "text/html": [
       "<table>\n",
       "<thead>\n",
       "<tr><th>model_id                    </th><th style=\"text-align: right;\">  mean_residual_deviance</th><th style=\"text-align: right;\">  rmse</th><th style=\"text-align: right;\">        mse</th><th style=\"text-align: right;\">    mae</th><th style=\"text-align: right;\">   rmsle</th></tr>\n",
       "</thead>\n",
       "<tbody>\n",
       "<tr><td>DRF_1_AutoML_20190417_105821</td><td style=\"text-align: right;\">             2.71687e+10</td><td style=\"text-align: right;\">164829</td><td style=\"text-align: right;\">2.71687e+10</td><td style=\"text-align: right;\">83609.3</td><td style=\"text-align: right;\">0.200009</td></tr>\n",
       "</tbody>\n",
       "</table>"
      ]
     },
     "metadata": {},
     "output_type": "display_data"
    },
    {
     "data": {
      "text/plain": []
     },
     "execution_count": 28,
     "metadata": {},
     "output_type": "execute_result"
    }
   ],
   "source": [
    "# view leaderboard\n",
    "lb = aml.leaderboard\n",
    "lb.head(500)"
   ]
  },
  {
   "cell_type": "code",
   "execution_count": 20,
   "metadata": {},
   "outputs": [
    {
     "data": {
      "text/html": [
       "<table>\n",
       "<thead>\n",
       "<tr><th>model_id                    </th><th style=\"text-align: right;\">  mean_residual_deviance</th><th style=\"text-align: right;\">  rmse</th><th style=\"text-align: right;\">        mse</th><th style=\"text-align: right;\">  mae</th><th style=\"text-align: right;\">   rmsle</th></tr>\n",
       "</thead>\n",
       "<tbody>\n",
       "<tr><td>DRF_1_AutoML_20190415_205714</td><td style=\"text-align: right;\">             2.61698e+10</td><td style=\"text-align: right;\">161771</td><td style=\"text-align: right;\">2.61698e+10</td><td style=\"text-align: right;\">83389</td><td style=\"text-align: right;\">0.200014</td></tr>\n",
       "</tbody>\n",
       "</table>"
      ]
     },
     "metadata": {},
     "output_type": "execute_result"
    },
    {
     "data": {
      "text/plain": []
     },
     "execution_count": 20,
     "metadata": {},
     "output_type": "execute_result"
    }
   ],
   "source": [
    "# view leaderboard\n",
    "lb = aml.leaderboard\n",
    "lb.head(500)"
   ]
  },
  {
   "cell_type": "code",
   "execution_count": 21,
   "metadata": {},
   "outputs": [
    {
     "data": {
      "text/plain": [
       "0    DRF_1_AutoML_20190415_205714\n",
       "Name: model_id, dtype: object"
      ]
     },
     "execution_count": 21,
     "metadata": {},
     "output_type": "execute_result"
    }
   ],
   "source": [
    "aml_leaderboard_df=aml.leaderboard.as_data_frame()\n",
    "model_set=aml_leaderboard_df['model_id']\n",
    "model_set"
   ]
  },
  {
   "cell_type": "code",
   "execution_count": 61,
   "metadata": {},
   "outputs": [
    {
     "name": "stdout",
     "output_type": "stream",
     "text": [
      "{'start_time': 1555514852.2007616, 'target': 'price', 'server_path': 'C:\\\\Users\\\\Samartha\\\\Desktop\\\\ML_Project\\\\8b8zChwtBp\\\\rnPfAUKCEQ\\\\ER0YMNYr4\\\\LG06TboLD', 'data_path': None, 'test_path': None, 'max_models': 10, 'run_time': 200, 'run_id': 'ghkITpYICF', 'regression': True, 'scale': False, 'model_path': None, 'balance': False, 'balance_threshold': 0.2, 'project': None, 'end_time': 1555514852.2007616, 'execution_time': 0.0, 'run_path': 'C:\\\\Users\\\\Samartha\\\\Desktop\\\\ML_Project\\\\8b8zChwtBp\\\\rnPfAUKCEQ\\\\ER0YMNYr4\\\\LG06TboLD\\\\ghkITpYICF', 'nthreads': 1, 'min_mem_size': 6}\n"
     ]
    }
   ],
   "source": [
    "# meta data\n",
    "metadata = meta_data(runid,server_path,data_path,test_path,model_path,target,run_time,regression,max_models,balance_y,balance_threshold,name,run_dir,nthreads,min_mem_size)\n",
    "print(metadata)"
   ]
  },
  {
   "cell_type": "markdown",
   "metadata": {},
   "source": [
    "## DRF Model Hyperparameters for 200 seconds run time"
   ]
  },
  {
   "cell_type": "code",
   "execution_count": 23,
   "metadata": {},
   "outputs": [
    {
     "data": {
      "text/plain": [
       "{'model_id': {'default': None,\n",
       "  'actual': {'__meta': {'schema_version': 3,\n",
       "    'schema_name': 'ModelKeyV3',\n",
       "    'schema_type': 'Key<Model>'},\n",
       "   'name': 'DRF_1_AutoML_20190415_205714',\n",
       "   'type': 'Key<Model>',\n",
       "   'URL': '/3/Models/DRF_1_AutoML_20190415_205714'}},\n",
       " 'training_frame': {'default': None,\n",
       "  'actual': {'__meta': {'schema_version': 3,\n",
       "    'schema_name': 'FrameKeyV3',\n",
       "    'schema_type': 'Key<Frame>'},\n",
       "   'name': 'automl_training_kc_house_data.hex',\n",
       "   'type': 'Key<Frame>',\n",
       "   'URL': '/3/Frames/automl_training_kc_house_data.hex'}},\n",
       " 'validation_frame': {'default': None, 'actual': None},\n",
       " 'nfolds': {'default': 0, 'actual': 5},\n",
       " 'keep_cross_validation_models': {'default': True, 'actual': False},\n",
       " 'keep_cross_validation_predictions': {'default': False, 'actual': True},\n",
       " 'keep_cross_validation_fold_assignment': {'default': False, 'actual': False},\n",
       " 'score_each_iteration': {'default': False, 'actual': False},\n",
       " 'score_tree_interval': {'default': 0, 'actual': 0},\n",
       " 'fold_assignment': {'default': 'AUTO', 'actual': 'Modulo'},\n",
       " 'fold_column': {'default': None, 'actual': None},\n",
       " 'response_column': {'default': None,\n",
       "  'actual': {'__meta': {'schema_version': 3,\n",
       "    'schema_name': 'ColSpecifierV3',\n",
       "    'schema_type': 'VecSpecifier'},\n",
       "   'column_name': 'price',\n",
       "   'is_member_of_frames': None}},\n",
       " 'ignored_columns': {'default': None, 'actual': []},\n",
       " 'ignore_const_cols': {'default': True, 'actual': True},\n",
       " 'offset_column': {'default': None, 'actual': None},\n",
       " 'weights_column': {'default': None, 'actual': None},\n",
       " 'balance_classes': {'default': False, 'actual': False},\n",
       " 'class_sampling_factors': {'default': None, 'actual': None},\n",
       " 'max_after_balance_size': {'default': 5.0, 'actual': 5.0},\n",
       " 'max_confusion_matrix_size': {'default': 20, 'actual': 20},\n",
       " 'max_hit_ratio_k': {'default': 0, 'actual': 0},\n",
       " 'ntrees': {'default': 50, 'actual': 50},\n",
       " 'max_depth': {'default': 20, 'actual': 20},\n",
       " 'min_rows': {'default': 1.0, 'actual': 1.0},\n",
       " 'nbins': {'default': 20, 'actual': 20},\n",
       " 'nbins_top_level': {'default': 1024, 'actual': 1024},\n",
       " 'nbins_cats': {'default': 1024, 'actual': 1024},\n",
       " 'r2_stopping': {'default': 1.7976931348623157e+308,\n",
       "  'actual': 1.7976931348623157e+308},\n",
       " 'stopping_rounds': {'default': 0, 'actual': 0},\n",
       " 'stopping_metric': {'default': 'AUTO', 'actual': 'AUTO'},\n",
       " 'stopping_tolerance': {'default': 0.001, 'actual': 0.006802091556591675},\n",
       " 'max_runtime_secs': {'default': 0.0, 'actual': 0.0},\n",
       " 'seed': {'default': -1, 'actual': 8581272521533921537},\n",
       " 'build_tree_one_node': {'default': False, 'actual': False},\n",
       " 'mtries': {'default': -1, 'actual': -1},\n",
       " 'sample_rate': {'default': 0.6320000290870667, 'actual': 0.6320000290870667},\n",
       " 'sample_rate_per_class': {'default': None, 'actual': None},\n",
       " 'binomial_double_trees': {'default': False, 'actual': False},\n",
       " 'checkpoint': {'default': None, 'actual': None},\n",
       " 'col_sample_rate_change_per_level': {'default': 1.0, 'actual': 1.0},\n",
       " 'col_sample_rate_per_tree': {'default': 1.0, 'actual': 1.0},\n",
       " 'min_split_improvement': {'default': 1e-05, 'actual': 1e-05},\n",
       " 'histogram_type': {'default': 'AUTO', 'actual': 'AUTO'},\n",
       " 'categorical_encoding': {'default': 'AUTO', 'actual': 'AUTO'},\n",
       " 'calibrate_model': {'default': False, 'actual': False},\n",
       " 'calibration_frame': {'default': None, 'actual': None},\n",
       " 'distribution': {'default': 'AUTO', 'actual': 'gaussian'},\n",
       " 'custom_metric_func': {'default': None, 'actual': None},\n",
       " 'export_checkpoints_dir': {'default': None, 'actual': None}}"
      ]
     },
     "execution_count": 23,
     "metadata": {},
     "output_type": "execute_result"
    }
   ],
   "source": [
    "mod_best0=h2o.get_model(model_set[0])\n",
    "mod_best0.params"
   ]
  },
  {
   "cell_type": "code",
   "execution_count": 27,
   "metadata": {},
   "outputs": [],
   "source": [
    "hyperparameters = [mod_best0.params]\n",
    "hyperparameter_json(hyperparameters,'DRF_200_seconds')"
   ]
  },
  {
   "cell_type": "code",
   "execution_count": 31,
   "metadata": {},
   "outputs": [
    {
     "name": "stdout",
     "output_type": "stream",
     "text": [
      "Model Details\n",
      "=============\n",
      "H2ORandomForestEstimator :  Distributed Random Forest\n",
      "Model Key:  DRF_1_AutoML_20190415_205714\n",
      "\n",
      "\n",
      "ModelMetricsRegression: drf\n",
      "** Reported on train data. **\n",
      "\n",
      "MSE: 26790475945.542625\n",
      "RMSE: 163677.9641416114\n",
      "MAE: 83823.16648286015\n",
      "RMSLE: 0.20129259269966338\n",
      "Mean Residual Deviance: 26790475945.542625\n",
      "\n",
      "ModelMetricsRegression: drf\n",
      "** Reported on cross-validation data. **\n",
      "\n",
      "MSE: 26169814896.12704\n",
      "RMSE: 161770.8715935197\n",
      "MAE: 83389.04161745102\n",
      "RMSLE: 0.20001395384236412\n",
      "Mean Residual Deviance: 26169814896.12704\n",
      "Cross-Validation Metrics Summary: \n"
     ]
    },
    {
     "data": {
      "text/html": [
       "<div style=\"overflow:auto\"><table style=\"width:50%\"><tr><td><b></b></td>\n",
       "<td><b>mean</b></td>\n",
       "<td><b>sd</b></td>\n",
       "<td><b>cv_1_valid</b></td>\n",
       "<td><b>cv_2_valid</b></td>\n",
       "<td><b>cv_3_valid</b></td>\n",
       "<td><b>cv_4_valid</b></td>\n",
       "<td><b>cv_5_valid</b></td></tr>\n",
       "<tr><td>mae</td>\n",
       "<td>83389.1</td>\n",
       "<td>790.3918</td>\n",
       "<td>83940.516</td>\n",
       "<td>82357.64</td>\n",
       "<td>82606.48</td>\n",
       "<td>82703.32</td>\n",
       "<td>85337.55</td></tr>\n",
       "<tr><td>mean_residual_deviance</td>\n",
       "<td>26169886700.0000000</td>\n",
       "<td>1779736580.0000000</td>\n",
       "<td>26739064800.0000000</td>\n",
       "<td>23750615000.0000000</td>\n",
       "<td>26451779600.0000000</td>\n",
       "<td>23476295700.0000000</td>\n",
       "<td>30431680500.0000000</td></tr>\n",
       "<tr><td>mse</td>\n",
       "<td>26169886700.0000000</td>\n",
       "<td>1779736580.0000000</td>\n",
       "<td>26739064800.0000000</td>\n",
       "<td>23750615000.0000000</td>\n",
       "<td>26451779600.0000000</td>\n",
       "<td>23476295700.0000000</td>\n",
       "<td>30431680500.0000000</td></tr>\n",
       "<tr><td>r2</td>\n",
       "<td>0.8063424</td>\n",
       "<td>0.0087906</td>\n",
       "<td>0.8038474</td>\n",
       "<td>0.8092517</td>\n",
       "<td>0.8105396</td>\n",
       "<td>0.8231392</td>\n",
       "<td>0.7849342</td></tr>\n",
       "<tr><td>residual_deviance</td>\n",
       "<td>26169886700.0000000</td>\n",
       "<td>1779736580.0000000</td>\n",
       "<td>26739064800.0000000</td>\n",
       "<td>23750615000.0000000</td>\n",
       "<td>26451779600.0000000</td>\n",
       "<td>23476295700.0000000</td>\n",
       "<td>30431680500.0000000</td></tr>\n",
       "<tr><td>rmse</td>\n",
       "<td>161587.95</td>\n",
       "<td>5441.542</td>\n",
       "<td>163520.84</td>\n",
       "<td>154112.34</td>\n",
       "<td>162640.03</td>\n",
       "<td>153219.77</td>\n",
       "<td>174446.78</td></tr>\n",
       "<tr><td>rmsle</td>\n",
       "<td>0.2000103</td>\n",
       "<td>0.0008540</td>\n",
       "<td>0.2002659</td>\n",
       "<td>0.1985368</td>\n",
       "<td>0.2013404</td>\n",
       "<td>0.1986733</td>\n",
       "<td>0.2012351</td></tr></table></div>"
      ],
      "text/plain": [
       "                        mean         sd           cv_1_valid    cv_2_valid    cv_3_valid    cv_4_valid    cv_5_valid\n",
       "----------------------  -----------  -----------  ------------  ------------  ------------  ------------  ------------\n",
       "mae                     83389.1      790.392      83940.5       82357.6       82606.5       82703.3       85337.6\n",
       "mean_residual_deviance  2.61699e+10  1.77974e+09  2.67391e+10   2.37506e+10   2.64518e+10   2.34763e+10   3.04317e+10\n",
       "mse                     2.61699e+10  1.77974e+09  2.67391e+10   2.37506e+10   2.64518e+10   2.34763e+10   3.04317e+10\n",
       "r2                      0.806342     0.00879062   0.803847      0.809252      0.81054       0.823139      0.784934\n",
       "residual_deviance       2.61699e+10  1.77974e+09  2.67391e+10   2.37506e+10   2.64518e+10   2.34763e+10   3.04317e+10\n",
       "rmse                    161588       5441.54      163521        154112        162640        153220        174447\n",
       "rmsle                   0.20001      0.000854018  0.200266      0.198537      0.20134       0.198673      0.201235"
      ]
     },
     "metadata": {},
     "output_type": "execute_result"
    },
    {
     "name": "stdout",
     "output_type": "stream",
     "text": [
      "Scoring History: \n"
     ]
    },
    {
     "data": {
      "text/html": [
       "<div style=\"overflow:auto\"><table style=\"width:50%\"><tr><td><b></b></td>\n",
       "<td><b>timestamp</b></td>\n",
       "<td><b>duration</b></td>\n",
       "<td><b>number_of_trees</b></td>\n",
       "<td><b>training_rmse</b></td>\n",
       "<td><b>training_mae</b></td>\n",
       "<td><b>training_deviance</b></td></tr>\n",
       "<tr><td></td>\n",
       "<td>2019-04-15 20:58:57</td>\n",
       "<td> 1 min 42.305 sec</td>\n",
       "<td>0.0</td>\n",
       "<td>nan</td>\n",
       "<td>nan</td>\n",
       "<td>nan</td></tr>\n",
       "<tr><td></td>\n",
       "<td>2019-04-15 20:58:57</td>\n",
       "<td> 1 min 42.829 sec</td>\n",
       "<td>1.0</td>\n",
       "<td>242971.0732648</td>\n",
       "<td>129921.4372126</td>\n",
       "<td>59034942443.4593048</td></tr>\n",
       "<tr><td></td>\n",
       "<td>2019-04-15 20:58:58</td>\n",
       "<td> 1 min 43.317 sec</td>\n",
       "<td>2.0</td>\n",
       "<td>224214.3271453</td>\n",
       "<td>120533.7749120</td>\n",
       "<td>50272064497.2035828</td></tr>\n",
       "<tr><td></td>\n",
       "<td>2019-04-15 20:58:58</td>\n",
       "<td> 1 min 43.775 sec</td>\n",
       "<td>3.0</td>\n",
       "<td>218783.6252082</td>\n",
       "<td>116088.7403278</td>\n",
       "<td>47866274659.2366180</td></tr>\n",
       "<tr><td></td>\n",
       "<td>2019-04-15 20:58:59</td>\n",
       "<td> 1 min 44.180 sec</td>\n",
       "<td>4.0</td>\n",
       "<td>213940.9481389</td>\n",
       "<td>114097.4955579</td>\n",
       "<td>45770729290.5796661</td></tr>\n",
       "<tr><td></td>\n",
       "<td>2019-04-15 20:58:59</td>\n",
       "<td> 1 min 44.595 sec</td>\n",
       "<td>5.0</td>\n",
       "<td>208022.8970177</td>\n",
       "<td>110507.8013438</td>\n",
       "<td>43273525683.6304932</td></tr>\n",
       "<tr><td></td>\n",
       "<td>2019-04-15 20:59:00</td>\n",
       "<td> 1 min 45.012 sec</td>\n",
       "<td>6.0</td>\n",
       "<td>203058.7908241</td>\n",
       "<td>107165.6649699</td>\n",
       "<td>41232872530.9484940</td></tr>\n",
       "<tr><td></td>\n",
       "<td>2019-04-15 20:59:00</td>\n",
       "<td> 1 min 45.416 sec</td>\n",
       "<td>7.0</td>\n",
       "<td>197015.7267448</td>\n",
       "<td>104184.5448155</td>\n",
       "<td>38815196584.7713013</td></tr>\n",
       "<tr><td></td>\n",
       "<td>2019-04-15 20:59:00</td>\n",
       "<td> 1 min 45.814 sec</td>\n",
       "<td>8.0</td>\n",
       "<td>193518.2216796</td>\n",
       "<td>102368.7419255</td>\n",
       "<td>37449302122.0206070</td></tr>\n",
       "<tr><td></td>\n",
       "<td>2019-04-15 20:59:01</td>\n",
       "<td> 1 min 46.240 sec</td>\n",
       "<td>9.0</td>\n",
       "<td>187254.4914693</td>\n",
       "<td>99798.9358507</td>\n",
       "<td>35064244575.4307327</td></tr>\n",
       "<tr><td></td>\n",
       "<td>2019-04-15 20:59:05</td>\n",
       "<td> 1 min 50.255 sec</td>\n",
       "<td>19.0</td>\n",
       "<td>174052.5316451</td>\n",
       "<td>89846.3433909</td>\n",
       "<td>30294283772.0626144</td></tr>\n",
       "<tr><td></td>\n",
       "<td>2019-04-15 20:59:09</td>\n",
       "<td> 1 min 54.578 sec</td>\n",
       "<td>30.0</td>\n",
       "<td>167729.3170720</td>\n",
       "<td>86077.7386035</td>\n",
       "<td>28133123805.4364662</td></tr>\n",
       "<tr><td></td>\n",
       "<td>2019-04-15 20:59:13</td>\n",
       "<td> 1 min 58.636 sec</td>\n",
       "<td>40.0</td>\n",
       "<td>166143.5630353</td>\n",
       "<td>85022.0099396</td>\n",
       "<td>27603683538.0805702</td></tr>\n",
       "<tr><td></td>\n",
       "<td>2019-04-15 20:59:17</td>\n",
       "<td> 2 min  2.863 sec</td>\n",
       "<td>50.0</td>\n",
       "<td>163677.9641416</td>\n",
       "<td>83823.1664829</td>\n",
       "<td>26790475945.5426254</td></tr></table></div>"
      ],
      "text/plain": [
       "    timestamp            duration          number_of_trees    training_rmse    training_mae    training_deviance\n",
       "--  -------------------  ----------------  -----------------  ---------------  --------------  -------------------\n",
       "    2019-04-15 20:58:57  1 min 42.305 sec  0                  nan              nan             nan\n",
       "    2019-04-15 20:58:57  1 min 42.829 sec  1                  242971           129921          5.90349e+10\n",
       "    2019-04-15 20:58:58  1 min 43.317 sec  2                  224214           120534          5.02721e+10\n",
       "    2019-04-15 20:58:58  1 min 43.775 sec  3                  218784           116089          4.78663e+10\n",
       "    2019-04-15 20:58:59  1 min 44.180 sec  4                  213941           114097          4.57707e+10\n",
       "    2019-04-15 20:58:59  1 min 44.595 sec  5                  208023           110508          4.32735e+10\n",
       "    2019-04-15 20:59:00  1 min 45.012 sec  6                  203059           107166          4.12329e+10\n",
       "    2019-04-15 20:59:00  1 min 45.416 sec  7                  197016           104185          3.88152e+10\n",
       "    2019-04-15 20:59:00  1 min 45.814 sec  8                  193518           102369          3.74493e+10\n",
       "    2019-04-15 20:59:01  1 min 46.240 sec  9                  187254           99798.9         3.50642e+10\n",
       "    2019-04-15 20:59:05  1 min 50.255 sec  19                 174053           89846.3         3.02943e+10\n",
       "    2019-04-15 20:59:09  1 min 54.578 sec  30                 167729           86077.7         2.81331e+10\n",
       "    2019-04-15 20:59:13  1 min 58.636 sec  40                 166144           85022           2.76037e+10\n",
       "    2019-04-15 20:59:17  2 min  2.863 sec  50                 163678           83823.2         2.67905e+10"
      ]
     },
     "metadata": {},
     "output_type": "execute_result"
    },
    {
     "name": "stdout",
     "output_type": "stream",
     "text": [
      "Variable Importances: \n"
     ]
    },
    {
     "data": {
      "text/html": [
       "<div style=\"overflow:auto\"><table style=\"width:50%\"><tr><td><b>variable</b></td>\n",
       "<td><b>relative_importance</b></td>\n",
       "<td><b>scaled_importance</b></td>\n",
       "<td><b>percentage</b></td></tr>\n",
       "<tr><td>grade</td>\n",
       "<td>25146112247595008.0000000</td>\n",
       "<td>1.0</td>\n",
       "<td>0.2347888</td></tr>\n",
       "<tr><td>sqft_living</td>\n",
       "<td>22356455826915328.0000000</td>\n",
       "<td>0.8890621</td>\n",
       "<td>0.2087418</td></tr>\n",
       "<tr><td>date</td>\n",
       "<td>14569500804382720.0000000</td>\n",
       "<td>0.5793938</td>\n",
       "<td>0.1360351</td></tr>\n",
       "<tr><td>lat</td>\n",
       "<td>10673246059888640.0000000</td>\n",
       "<td>0.4244492</td>\n",
       "<td>0.0996559</td></tr>\n",
       "<tr><td>sqft_above</td>\n",
       "<td>7584554151837696.0000000</td>\n",
       "<td>0.3016194</td>\n",
       "<td>0.0708168</td></tr>\n",
       "<tr><td>sqft_living15</td>\n",
       "<td>5913814021177344.0000000</td>\n",
       "<td>0.2351781</td>\n",
       "<td>0.0552172</td></tr>\n",
       "<tr><td>bathrooms</td>\n",
       "<td>5597932598329344.0000000</td>\n",
       "<td>0.2226162</td>\n",
       "<td>0.0522678</td></tr>\n",
       "<tr><td>long</td>\n",
       "<td>3923044066131968.0000000</td>\n",
       "<td>0.1560100</td>\n",
       "<td>0.0366294</td></tr>\n",
       "<tr><td>yr_built</td>\n",
       "<td>2445134545289216.0000000</td>\n",
       "<td>0.0972371</td>\n",
       "<td>0.0228302</td></tr>\n",
       "<tr><td>view</td>\n",
       "<td>2193266925633536.0000000</td>\n",
       "<td>0.0872209</td>\n",
       "<td>0.0204785</td></tr>\n",
       "<tr><td>waterfront</td>\n",
       "<td>1729077195046912.0000000</td>\n",
       "<td>0.0687612</td>\n",
       "<td>0.0161444</td></tr>\n",
       "<tr><td>sqft_basement</td>\n",
       "<td>1290721155874816.0000000</td>\n",
       "<td>0.0513289</td>\n",
       "<td>0.0120514</td></tr>\n",
       "<tr><td>zipcode</td>\n",
       "<td>1050176680624128.0000000</td>\n",
       "<td>0.0417630</td>\n",
       "<td>0.0098055</td></tr>\n",
       "<tr><td>sqft_lot15</td>\n",
       "<td>606659231612928.0000000</td>\n",
       "<td>0.0241254</td>\n",
       "<td>0.0056644</td></tr>\n",
       "<tr><td>id</td>\n",
       "<td>579850582622208.0000000</td>\n",
       "<td>0.0230593</td>\n",
       "<td>0.0054141</td></tr>\n",
       "<tr><td>sqft_lot</td>\n",
       "<td>465389335085056.0000000</td>\n",
       "<td>0.0185074</td>\n",
       "<td>0.0043453</td></tr>\n",
       "<tr><td>condition</td>\n",
       "<td>306503730855936.0000000</td>\n",
       "<td>0.0121889</td>\n",
       "<td>0.0028618</td></tr>\n",
       "<tr><td>bedrooms</td>\n",
       "<td>275671687364608.0000000</td>\n",
       "<td>0.0109628</td>\n",
       "<td>0.0025739</td></tr>\n",
       "<tr><td>floors</td>\n",
       "<td>267469541343232.0000000</td>\n",
       "<td>0.0106366</td>\n",
       "<td>0.0024974</td></tr>\n",
       "<tr><td>yr_renovated</td>\n",
       "<td>126422219751424.0000000</td>\n",
       "<td>0.0050275</td>\n",
       "<td>0.0011804</td></tr></table></div>"
      ],
      "text/plain": [
       "variable       relative_importance    scaled_importance    percentage\n",
       "-------------  ---------------------  -------------------  ------------\n",
       "grade          2.51461e+16            1                    0.234789\n",
       "sqft_living    2.23565e+16            0.889062             0.208742\n",
       "date           1.45695e+16            0.579394             0.136035\n",
       "lat            1.06732e+16            0.424449             0.0996559\n",
       "sqft_above     7.58455e+15            0.301619             0.0708168\n",
       "sqft_living15  5.91381e+15            0.235178             0.0552172\n",
       "bathrooms      5.59793e+15            0.222616             0.0522678\n",
       "long           3.92304e+15            0.15601              0.0366294\n",
       "yr_built       2.44513e+15            0.0972371            0.0228302\n",
       "view           2.19327e+15            0.0872209            0.0204785\n",
       "waterfront     1.72908e+15            0.0687612            0.0161444\n",
       "sqft_basement  1.29072e+15            0.0513289            0.0120514\n",
       "zipcode        1.05018e+15            0.041763             0.00980548\n",
       "sqft_lot15     6.06659e+14            0.0241254            0.00566437\n",
       "id             5.79851e+14            0.0230593            0.00541405\n",
       "sqft_lot       4.65389e+14            0.0185074            0.00434533\n",
       "condition      3.06504e+14            0.0121889            0.00286182\n",
       "bedrooms       2.75672e+14            0.0109628            0.00257394\n",
       "floors         2.6747e+14             0.0106366            0.00249736\n",
       "yr_renovated   1.26422e+14            0.00502751           0.0011804"
      ]
     },
     "metadata": {},
     "output_type": "execute_result"
    },
    {
     "data": {
      "text/plain": []
     },
     "execution_count": 31,
     "metadata": {},
     "output_type": "execute_result"
    }
   ],
   "source": [
    "# view best model \n",
    "best = aml.leader\n",
    "best "
   ]
  },
  {
   "cell_type": "code",
   "execution_count": 32,
   "metadata": {},
   "outputs": [],
   "source": [
    "best_model = h2o.get_model(aml.leaderboard[0,'model_id'])#Getting the best model based on the leaderboard"
   ]
  },
  {
   "cell_type": "code",
   "execution_count": 33,
   "metadata": {},
   "outputs": [
    {
     "data": {
      "text/plain": [
       "'drf'"
      ]
     },
     "execution_count": 33,
     "metadata": {},
     "output_type": "execute_result"
    }
   ],
   "source": [
    "best_model.algo"
   ]
  },
  {
   "cell_type": "markdown",
   "metadata": {},
   "source": [
    "## 300 seconds"
   ]
  },
  {
   "cell_type": "code",
   "execution_count": 62,
   "metadata": {},
   "outputs": [],
   "source": [
    "project =\"automl_run\"\n",
    "run_time=300"
   ]
  },
  {
   "cell_type": "code",
   "execution_count": 63,
   "metadata": {},
   "outputs": [
    {
     "name": "stdout",
     "output_type": "stream",
     "text": [
      "AutoML progress: |████████████████████████████████████████████████████████| 100%\n"
     ]
    }
   ],
   "source": [
    "aml = H2OAutoML(max_runtime_secs=run_time,project_name = project) #  run automl for 300 seconds\n",
    "aml.train(x=X,  \n",
    "           y=y,\n",
    "           training_frame=df)"
   ]
  },
  {
   "cell_type": "code",
   "execution_count": 64,
   "metadata": {},
   "outputs": [
    {
     "name": "stdout",
     "output_type": "stream",
     "text": [
      "LubDhsp6GL\n"
     ]
    }
   ],
   "source": [
    "runid=run_id(10)\n",
    "if server_path==None:\n",
    "    server_path=os.path.abspath(os.curdir)\n",
    "os.chdir(server_path) \n",
    "run_dir = os.path.join(server_path,runid)\n",
    "os.mkdir(run_dir)\n",
    "os.chdir(run_dir)    \n",
    "\n",
    "# run_id to std out\n",
    "print (runid)"
   ]
  },
  {
   "cell_type": "code",
   "execution_count": 43,
   "metadata": {},
   "outputs": [
    {
     "data": {
      "text/html": [
       "<table>\n",
       "<thead>\n",
       "<tr><th>model_id                    </th><th style=\"text-align: right;\">  mean_residual_deviance</th><th style=\"text-align: right;\">  rmse</th><th style=\"text-align: right;\">        mse</th><th style=\"text-align: right;\">  mae</th><th style=\"text-align: right;\">   rmsle</th></tr>\n",
       "</thead>\n",
       "<tbody>\n",
       "<tr><td>DRF_1_AutoML_20190415_205714</td><td style=\"text-align: right;\">             2.61698e+10</td><td style=\"text-align: right;\">161771</td><td style=\"text-align: right;\">2.61698e+10</td><td style=\"text-align: right;\">83389</td><td style=\"text-align: right;\">0.200014</td></tr>\n",
       "<tr><td>DRF_1_AutoML_20190415_211555</td><td style=\"text-align: right;\">             2.79403e+10</td><td style=\"text-align: right;\">167153</td><td style=\"text-align: right;\">2.79403e+10</td><td style=\"text-align: right;\">84201</td><td style=\"text-align: right;\">0.20076 </td></tr>\n",
       "</tbody>\n",
       "</table>"
      ]
     },
     "metadata": {},
     "output_type": "execute_result"
    },
    {
     "data": {
      "text/plain": []
     },
     "execution_count": 43,
     "metadata": {},
     "output_type": "execute_result"
    }
   ],
   "source": [
    "# view leaderboard\n",
    "lb = aml.leaderboard\n",
    "lb.head(500)"
   ]
  },
  {
   "cell_type": "code",
   "execution_count": 44,
   "metadata": {},
   "outputs": [
    {
     "data": {
      "text/plain": [
       "0    DRF_1_AutoML_20190415_205714\n",
       "1    DRF_1_AutoML_20190415_211555\n",
       "Name: model_id, dtype: object"
      ]
     },
     "execution_count": 44,
     "metadata": {},
     "output_type": "execute_result"
    }
   ],
   "source": [
    "aml_leaderboard_df=aml.leaderboard.as_data_frame()\n",
    "model_set=aml_leaderboard_df['model_id']\n",
    "model_set"
   ]
  },
  {
   "cell_type": "code",
   "execution_count": 65,
   "metadata": {},
   "outputs": [
    {
     "name": "stdout",
     "output_type": "stream",
     "text": [
      "{'start_time': 1555515560.0710373, 'target': 'price', 'server_path': 'C:\\\\Users\\\\Samartha\\\\Desktop\\\\ML_Project\\\\8b8zChwtBp\\\\rnPfAUKCEQ\\\\ER0YMNYr4\\\\LG06TboLD', 'data_path': None, 'test_path': None, 'max_models': 10, 'run_time': 300, 'run_id': 'LubDhsp6GL', 'regression': True, 'scale': False, 'model_path': None, 'balance': False, 'balance_threshold': 0.2, 'project': None, 'end_time': 1555515560.0710373, 'execution_time': 0.0, 'run_path': 'C:\\\\Users\\\\Samartha\\\\Desktop\\\\ML_Project\\\\8b8zChwtBp\\\\rnPfAUKCEQ\\\\ER0YMNYr4\\\\LG06TboLD\\\\LubDhsp6GL', 'nthreads': 1, 'min_mem_size': 6}\n"
     ]
    }
   ],
   "source": [
    "# meta data\n",
    "metadata = meta_data(runid,server_path,data_path,test_path,model_path,target,run_time,regression,max_models,balance_y,balance_threshold,name,run_dir,nthreads,min_mem_size)\n",
    "print(metadata)"
   ]
  },
  {
   "cell_type": "markdown",
   "metadata": {},
   "source": [
    "### DRF Models for 300 seconds run time"
   ]
  },
  {
   "cell_type": "code",
   "execution_count": 45,
   "metadata": {},
   "outputs": [
    {
     "data": {
      "text/plain": [
       "{'model_id': {'default': None,\n",
       "  'actual': {'__meta': {'schema_version': 3,\n",
       "    'schema_name': 'ModelKeyV3',\n",
       "    'schema_type': 'Key<Model>'},\n",
       "   'name': 'DRF_1_AutoML_20190415_205714',\n",
       "   'type': 'Key<Model>',\n",
       "   'URL': '/3/Models/DRF_1_AutoML_20190415_205714'}},\n",
       " 'training_frame': {'default': None,\n",
       "  'actual': {'__meta': {'schema_version': 3,\n",
       "    'schema_name': 'FrameKeyV3',\n",
       "    'schema_type': 'Key<Frame>'},\n",
       "   'name': 'automl_training_kc_house_data.hex',\n",
       "   'type': 'Key<Frame>',\n",
       "   'URL': '/3/Frames/automl_training_kc_house_data.hex'}},\n",
       " 'validation_frame': {'default': None, 'actual': None},\n",
       " 'nfolds': {'default': 0, 'actual': 5},\n",
       " 'keep_cross_validation_models': {'default': True, 'actual': False},\n",
       " 'keep_cross_validation_predictions': {'default': False, 'actual': True},\n",
       " 'keep_cross_validation_fold_assignment': {'default': False, 'actual': False},\n",
       " 'score_each_iteration': {'default': False, 'actual': False},\n",
       " 'score_tree_interval': {'default': 0, 'actual': 0},\n",
       " 'fold_assignment': {'default': 'AUTO', 'actual': 'Modulo'},\n",
       " 'fold_column': {'default': None, 'actual': None},\n",
       " 'response_column': {'default': None,\n",
       "  'actual': {'__meta': {'schema_version': 3,\n",
       "    'schema_name': 'ColSpecifierV3',\n",
       "    'schema_type': 'VecSpecifier'},\n",
       "   'column_name': 'price',\n",
       "   'is_member_of_frames': None}},\n",
       " 'ignored_columns': {'default': None, 'actual': []},\n",
       " 'ignore_const_cols': {'default': True, 'actual': True},\n",
       " 'offset_column': {'default': None, 'actual': None},\n",
       " 'weights_column': {'default': None, 'actual': None},\n",
       " 'balance_classes': {'default': False, 'actual': False},\n",
       " 'class_sampling_factors': {'default': None, 'actual': None},\n",
       " 'max_after_balance_size': {'default': 5.0, 'actual': 5.0},\n",
       " 'max_confusion_matrix_size': {'default': 20, 'actual': 20},\n",
       " 'max_hit_ratio_k': {'default': 0, 'actual': 0},\n",
       " 'ntrees': {'default': 50, 'actual': 50},\n",
       " 'max_depth': {'default': 20, 'actual': 20},\n",
       " 'min_rows': {'default': 1.0, 'actual': 1.0},\n",
       " 'nbins': {'default': 20, 'actual': 20},\n",
       " 'nbins_top_level': {'default': 1024, 'actual': 1024},\n",
       " 'nbins_cats': {'default': 1024, 'actual': 1024},\n",
       " 'r2_stopping': {'default': 1.7976931348623157e+308,\n",
       "  'actual': 1.7976931348623157e+308},\n",
       " 'stopping_rounds': {'default': 0, 'actual': 0},\n",
       " 'stopping_metric': {'default': 'AUTO', 'actual': 'AUTO'},\n",
       " 'stopping_tolerance': {'default': 0.001, 'actual': 0.006802091556591675},\n",
       " 'max_runtime_secs': {'default': 0.0, 'actual': 0.0},\n",
       " 'seed': {'default': -1, 'actual': 8581272521533921537},\n",
       " 'build_tree_one_node': {'default': False, 'actual': False},\n",
       " 'mtries': {'default': -1, 'actual': -1},\n",
       " 'sample_rate': {'default': 0.6320000290870667, 'actual': 0.6320000290870667},\n",
       " 'sample_rate_per_class': {'default': None, 'actual': None},\n",
       " 'binomial_double_trees': {'default': False, 'actual': False},\n",
       " 'checkpoint': {'default': None, 'actual': None},\n",
       " 'col_sample_rate_change_per_level': {'default': 1.0, 'actual': 1.0},\n",
       " 'col_sample_rate_per_tree': {'default': 1.0, 'actual': 1.0},\n",
       " 'min_split_improvement': {'default': 1e-05, 'actual': 1e-05},\n",
       " 'histogram_type': {'default': 'AUTO', 'actual': 'AUTO'},\n",
       " 'categorical_encoding': {'default': 'AUTO', 'actual': 'AUTO'},\n",
       " 'calibrate_model': {'default': False, 'actual': False},\n",
       " 'calibration_frame': {'default': None, 'actual': None},\n",
       " 'distribution': {'default': 'AUTO', 'actual': 'gaussian'},\n",
       " 'custom_metric_func': {'default': None, 'actual': None},\n",
       " 'export_checkpoints_dir': {'default': None, 'actual': None}}"
      ]
     },
     "execution_count": 45,
     "metadata": {},
     "output_type": "execute_result"
    }
   ],
   "source": [
    "aml_leaderboard_df=aml.leaderboard.as_data_frame()\n",
    "model_set=aml_leaderboard_df['model_id']\n",
    "mod_best0=h2o.get_model(model_set[0])# Model 0\n",
    "mod_best0.params"
   ]
  },
  {
   "cell_type": "code",
   "execution_count": 46,
   "metadata": {},
   "outputs": [
    {
     "data": {
      "text/plain": [
       "{'model_id': {'default': None,\n",
       "  'actual': {'__meta': {'schema_version': 3,\n",
       "    'schema_name': 'ModelKeyV3',\n",
       "    'schema_type': 'Key<Model>'},\n",
       "   'name': 'DRF_1_AutoML_20190415_211555',\n",
       "   'type': 'Key<Model>',\n",
       "   'URL': '/3/Models/DRF_1_AutoML_20190415_211555'}},\n",
       " 'training_frame': {'default': None,\n",
       "  'actual': {'__meta': {'schema_version': 3,\n",
       "    'schema_name': 'FrameKeyV3',\n",
       "    'schema_type': 'Key<Frame>'},\n",
       "   'name': 'automl_training_kc_house_data.hex',\n",
       "   'type': 'Key<Frame>',\n",
       "   'URL': '/3/Frames/automl_training_kc_house_data.hex'}},\n",
       " 'validation_frame': {'default': None, 'actual': None},\n",
       " 'nfolds': {'default': 0, 'actual': 5},\n",
       " 'keep_cross_validation_models': {'default': True, 'actual': False},\n",
       " 'keep_cross_validation_predictions': {'default': False, 'actual': True},\n",
       " 'keep_cross_validation_fold_assignment': {'default': False, 'actual': False},\n",
       " 'score_each_iteration': {'default': False, 'actual': False},\n",
       " 'score_tree_interval': {'default': 0, 'actual': 0},\n",
       " 'fold_assignment': {'default': 'AUTO', 'actual': 'Modulo'},\n",
       " 'fold_column': {'default': None, 'actual': None},\n",
       " 'response_column': {'default': None,\n",
       "  'actual': {'__meta': {'schema_version': 3,\n",
       "    'schema_name': 'ColSpecifierV3',\n",
       "    'schema_type': 'VecSpecifier'},\n",
       "   'column_name': 'price',\n",
       "   'is_member_of_frames': None}},\n",
       " 'ignored_columns': {'default': None, 'actual': []},\n",
       " 'ignore_const_cols': {'default': True, 'actual': True},\n",
       " 'offset_column': {'default': None, 'actual': None},\n",
       " 'weights_column': {'default': None, 'actual': None},\n",
       " 'balance_classes': {'default': False, 'actual': False},\n",
       " 'class_sampling_factors': {'default': None, 'actual': None},\n",
       " 'max_after_balance_size': {'default': 5.0, 'actual': 5.0},\n",
       " 'max_confusion_matrix_size': {'default': 20, 'actual': 20},\n",
       " 'max_hit_ratio_k': {'default': 0, 'actual': 0},\n",
       " 'ntrees': {'default': 50, 'actual': 50},\n",
       " 'max_depth': {'default': 20, 'actual': 20},\n",
       " 'min_rows': {'default': 1.0, 'actual': 1.0},\n",
       " 'nbins': {'default': 20, 'actual': 20},\n",
       " 'nbins_top_level': {'default': 1024, 'actual': 1024},\n",
       " 'nbins_cats': {'default': 1024, 'actual': 1024},\n",
       " 'r2_stopping': {'default': 1.7976931348623157e+308,\n",
       "  'actual': 1.7976931348623157e+308},\n",
       " 'stopping_rounds': {'default': 0, 'actual': 0},\n",
       " 'stopping_metric': {'default': 'AUTO', 'actual': 'deviance'},\n",
       " 'stopping_tolerance': {'default': 0.001, 'actual': 0.006802091556591675},\n",
       " 'max_runtime_secs': {'default': 0.0, 'actual': 0.0},\n",
       " 'seed': {'default': -1, 'actual': 3582472035998997326},\n",
       " 'build_tree_one_node': {'default': False, 'actual': False},\n",
       " 'mtries': {'default': -1, 'actual': -1},\n",
       " 'sample_rate': {'default': 0.6320000290870667, 'actual': 0.6320000290870667},\n",
       " 'sample_rate_per_class': {'default': None, 'actual': None},\n",
       " 'binomial_double_trees': {'default': False, 'actual': False},\n",
       " 'checkpoint': {'default': None, 'actual': None},\n",
       " 'col_sample_rate_change_per_level': {'default': 1.0, 'actual': 1.0},\n",
       " 'col_sample_rate_per_tree': {'default': 1.0, 'actual': 1.0},\n",
       " 'min_split_improvement': {'default': 1e-05, 'actual': 1e-05},\n",
       " 'histogram_type': {'default': 'AUTO', 'actual': 'AUTO'},\n",
       " 'categorical_encoding': {'default': 'AUTO', 'actual': 'AUTO'},\n",
       " 'calibrate_model': {'default': False, 'actual': False},\n",
       " 'calibration_frame': {'default': None, 'actual': None},\n",
       " 'distribution': {'default': 'AUTO', 'actual': 'gaussian'},\n",
       " 'custom_metric_func': {'default': None, 'actual': None},\n",
       " 'export_checkpoints_dir': {'default': None, 'actual': None}}"
      ]
     },
     "execution_count": 46,
     "metadata": {},
     "output_type": "execute_result"
    }
   ],
   "source": [
    "# For Model 1\n",
    "mod_best1=h2o.get_model(model_set[1])\n",
    "mod_best1.params"
   ]
  },
  {
   "cell_type": "code",
   "execution_count": 47,
   "metadata": {},
   "outputs": [],
   "source": [
    "hyperparameters = [mod_best0.params]\n",
    "hyperparameter_json(hyperparameters,'DRF1_300_seconds')"
   ]
  },
  {
   "cell_type": "code",
   "execution_count": 48,
   "metadata": {},
   "outputs": [],
   "source": [
    "hyperparameters = [mod_best1.params]\n",
    "hyperparameter_json(hyperparameters,'DRF2_300_seconds')"
   ]
  },
  {
   "cell_type": "code",
   "execution_count": 49,
   "metadata": {},
   "outputs": [
    {
     "name": "stdout",
     "output_type": "stream",
     "text": [
      "Model Details\n",
      "=============\n",
      "H2ORandomForestEstimator :  Distributed Random Forest\n",
      "Model Key:  DRF_1_AutoML_20190415_205714\n",
      "\n",
      "\n",
      "ModelMetricsRegression: drf\n",
      "** Reported on train data. **\n",
      "\n",
      "MSE: 26790475945.542625\n",
      "RMSE: 163677.9641416114\n",
      "MAE: 83823.16648286015\n",
      "RMSLE: 0.20129259269966338\n",
      "Mean Residual Deviance: 26790475945.542625\n",
      "\n",
      "ModelMetricsRegression: drf\n",
      "** Reported on cross-validation data. **\n",
      "\n",
      "MSE: 26169814896.12704\n",
      "RMSE: 161770.8715935197\n",
      "MAE: 83389.04161745102\n",
      "RMSLE: 0.20001395384236412\n",
      "Mean Residual Deviance: 26169814896.12704\n",
      "Cross-Validation Metrics Summary: \n"
     ]
    },
    {
     "data": {
      "text/html": [
       "<div style=\"overflow:auto\"><table style=\"width:50%\"><tr><td><b></b></td>\n",
       "<td><b>mean</b></td>\n",
       "<td><b>sd</b></td>\n",
       "<td><b>cv_1_valid</b></td>\n",
       "<td><b>cv_2_valid</b></td>\n",
       "<td><b>cv_3_valid</b></td>\n",
       "<td><b>cv_4_valid</b></td>\n",
       "<td><b>cv_5_valid</b></td></tr>\n",
       "<tr><td>mae</td>\n",
       "<td>83389.1</td>\n",
       "<td>790.3918</td>\n",
       "<td>83940.516</td>\n",
       "<td>82357.64</td>\n",
       "<td>82606.48</td>\n",
       "<td>82703.32</td>\n",
       "<td>85337.55</td></tr>\n",
       "<tr><td>mean_residual_deviance</td>\n",
       "<td>26169886700.0000000</td>\n",
       "<td>1779736580.0000000</td>\n",
       "<td>26739064800.0000000</td>\n",
       "<td>23750615000.0000000</td>\n",
       "<td>26451779600.0000000</td>\n",
       "<td>23476295700.0000000</td>\n",
       "<td>30431680500.0000000</td></tr>\n",
       "<tr><td>mse</td>\n",
       "<td>26169886700.0000000</td>\n",
       "<td>1779736580.0000000</td>\n",
       "<td>26739064800.0000000</td>\n",
       "<td>23750615000.0000000</td>\n",
       "<td>26451779600.0000000</td>\n",
       "<td>23476295700.0000000</td>\n",
       "<td>30431680500.0000000</td></tr>\n",
       "<tr><td>r2</td>\n",
       "<td>0.8063424</td>\n",
       "<td>0.0087906</td>\n",
       "<td>0.8038474</td>\n",
       "<td>0.8092517</td>\n",
       "<td>0.8105396</td>\n",
       "<td>0.8231392</td>\n",
       "<td>0.7849342</td></tr>\n",
       "<tr><td>residual_deviance</td>\n",
       "<td>26169886700.0000000</td>\n",
       "<td>1779736580.0000000</td>\n",
       "<td>26739064800.0000000</td>\n",
       "<td>23750615000.0000000</td>\n",
       "<td>26451779600.0000000</td>\n",
       "<td>23476295700.0000000</td>\n",
       "<td>30431680500.0000000</td></tr>\n",
       "<tr><td>rmse</td>\n",
       "<td>161587.95</td>\n",
       "<td>5441.542</td>\n",
       "<td>163520.84</td>\n",
       "<td>154112.34</td>\n",
       "<td>162640.03</td>\n",
       "<td>153219.77</td>\n",
       "<td>174446.78</td></tr>\n",
       "<tr><td>rmsle</td>\n",
       "<td>0.2000103</td>\n",
       "<td>0.0008540</td>\n",
       "<td>0.2002659</td>\n",
       "<td>0.1985368</td>\n",
       "<td>0.2013404</td>\n",
       "<td>0.1986733</td>\n",
       "<td>0.2012351</td></tr></table></div>"
      ],
      "text/plain": [
       "                        mean         sd           cv_1_valid    cv_2_valid    cv_3_valid    cv_4_valid    cv_5_valid\n",
       "----------------------  -----------  -----------  ------------  ------------  ------------  ------------  ------------\n",
       "mae                     83389.1      790.392      83940.5       82357.6       82606.5       82703.3       85337.6\n",
       "mean_residual_deviance  2.61699e+10  1.77974e+09  2.67391e+10   2.37506e+10   2.64518e+10   2.34763e+10   3.04317e+10\n",
       "mse                     2.61699e+10  1.77974e+09  2.67391e+10   2.37506e+10   2.64518e+10   2.34763e+10   3.04317e+10\n",
       "r2                      0.806342     0.00879062   0.803847      0.809252      0.81054       0.823139      0.784934\n",
       "residual_deviance       2.61699e+10  1.77974e+09  2.67391e+10   2.37506e+10   2.64518e+10   2.34763e+10   3.04317e+10\n",
       "rmse                    161588       5441.54      163521        154112        162640        153220        174447\n",
       "rmsle                   0.20001      0.000854018  0.200266      0.198537      0.20134       0.198673      0.201235"
      ]
     },
     "metadata": {},
     "output_type": "execute_result"
    },
    {
     "name": "stdout",
     "output_type": "stream",
     "text": [
      "Scoring History: \n"
     ]
    },
    {
     "data": {
      "text/html": [
       "<div style=\"overflow:auto\"><table style=\"width:50%\"><tr><td><b></b></td>\n",
       "<td><b>timestamp</b></td>\n",
       "<td><b>duration</b></td>\n",
       "<td><b>number_of_trees</b></td>\n",
       "<td><b>training_rmse</b></td>\n",
       "<td><b>training_mae</b></td>\n",
       "<td><b>training_deviance</b></td></tr>\n",
       "<tr><td></td>\n",
       "<td>2019-04-15 20:58:57</td>\n",
       "<td> 1 min 42.305 sec</td>\n",
       "<td>0.0</td>\n",
       "<td>nan</td>\n",
       "<td>nan</td>\n",
       "<td>nan</td></tr>\n",
       "<tr><td></td>\n",
       "<td>2019-04-15 20:58:57</td>\n",
       "<td> 1 min 42.829 sec</td>\n",
       "<td>1.0</td>\n",
       "<td>242971.0732648</td>\n",
       "<td>129921.4372126</td>\n",
       "<td>59034942443.4593048</td></tr>\n",
       "<tr><td></td>\n",
       "<td>2019-04-15 20:58:58</td>\n",
       "<td> 1 min 43.317 sec</td>\n",
       "<td>2.0</td>\n",
       "<td>224214.3271453</td>\n",
       "<td>120533.7749120</td>\n",
       "<td>50272064497.2035828</td></tr>\n",
       "<tr><td></td>\n",
       "<td>2019-04-15 20:58:58</td>\n",
       "<td> 1 min 43.775 sec</td>\n",
       "<td>3.0</td>\n",
       "<td>218783.6252082</td>\n",
       "<td>116088.7403278</td>\n",
       "<td>47866274659.2366180</td></tr>\n",
       "<tr><td></td>\n",
       "<td>2019-04-15 20:58:59</td>\n",
       "<td> 1 min 44.180 sec</td>\n",
       "<td>4.0</td>\n",
       "<td>213940.9481389</td>\n",
       "<td>114097.4955579</td>\n",
       "<td>45770729290.5796661</td></tr>\n",
       "<tr><td></td>\n",
       "<td>2019-04-15 20:58:59</td>\n",
       "<td> 1 min 44.595 sec</td>\n",
       "<td>5.0</td>\n",
       "<td>208022.8970177</td>\n",
       "<td>110507.8013438</td>\n",
       "<td>43273525683.6304932</td></tr>\n",
       "<tr><td></td>\n",
       "<td>2019-04-15 20:59:00</td>\n",
       "<td> 1 min 45.012 sec</td>\n",
       "<td>6.0</td>\n",
       "<td>203058.7908241</td>\n",
       "<td>107165.6649699</td>\n",
       "<td>41232872530.9484940</td></tr>\n",
       "<tr><td></td>\n",
       "<td>2019-04-15 20:59:00</td>\n",
       "<td> 1 min 45.416 sec</td>\n",
       "<td>7.0</td>\n",
       "<td>197015.7267448</td>\n",
       "<td>104184.5448155</td>\n",
       "<td>38815196584.7713013</td></tr>\n",
       "<tr><td></td>\n",
       "<td>2019-04-15 20:59:00</td>\n",
       "<td> 1 min 45.814 sec</td>\n",
       "<td>8.0</td>\n",
       "<td>193518.2216796</td>\n",
       "<td>102368.7419255</td>\n",
       "<td>37449302122.0206070</td></tr>\n",
       "<tr><td></td>\n",
       "<td>2019-04-15 20:59:01</td>\n",
       "<td> 1 min 46.240 sec</td>\n",
       "<td>9.0</td>\n",
       "<td>187254.4914693</td>\n",
       "<td>99798.9358507</td>\n",
       "<td>35064244575.4307327</td></tr>\n",
       "<tr><td></td>\n",
       "<td>2019-04-15 20:59:05</td>\n",
       "<td> 1 min 50.255 sec</td>\n",
       "<td>19.0</td>\n",
       "<td>174052.5316451</td>\n",
       "<td>89846.3433909</td>\n",
       "<td>30294283772.0626144</td></tr>\n",
       "<tr><td></td>\n",
       "<td>2019-04-15 20:59:09</td>\n",
       "<td> 1 min 54.578 sec</td>\n",
       "<td>30.0</td>\n",
       "<td>167729.3170720</td>\n",
       "<td>86077.7386035</td>\n",
       "<td>28133123805.4364662</td></tr>\n",
       "<tr><td></td>\n",
       "<td>2019-04-15 20:59:13</td>\n",
       "<td> 1 min 58.636 sec</td>\n",
       "<td>40.0</td>\n",
       "<td>166143.5630353</td>\n",
       "<td>85022.0099396</td>\n",
       "<td>27603683538.0805702</td></tr>\n",
       "<tr><td></td>\n",
       "<td>2019-04-15 20:59:17</td>\n",
       "<td> 2 min  2.863 sec</td>\n",
       "<td>50.0</td>\n",
       "<td>163677.9641416</td>\n",
       "<td>83823.1664829</td>\n",
       "<td>26790475945.5426254</td></tr></table></div>"
      ],
      "text/plain": [
       "    timestamp            duration          number_of_trees    training_rmse    training_mae    training_deviance\n",
       "--  -------------------  ----------------  -----------------  ---------------  --------------  -------------------\n",
       "    2019-04-15 20:58:57  1 min 42.305 sec  0                  nan              nan             nan\n",
       "    2019-04-15 20:58:57  1 min 42.829 sec  1                  242971           129921          5.90349e+10\n",
       "    2019-04-15 20:58:58  1 min 43.317 sec  2                  224214           120534          5.02721e+10\n",
       "    2019-04-15 20:58:58  1 min 43.775 sec  3                  218784           116089          4.78663e+10\n",
       "    2019-04-15 20:58:59  1 min 44.180 sec  4                  213941           114097          4.57707e+10\n",
       "    2019-04-15 20:58:59  1 min 44.595 sec  5                  208023           110508          4.32735e+10\n",
       "    2019-04-15 20:59:00  1 min 45.012 sec  6                  203059           107166          4.12329e+10\n",
       "    2019-04-15 20:59:00  1 min 45.416 sec  7                  197016           104185          3.88152e+10\n",
       "    2019-04-15 20:59:00  1 min 45.814 sec  8                  193518           102369          3.74493e+10\n",
       "    2019-04-15 20:59:01  1 min 46.240 sec  9                  187254           99798.9         3.50642e+10\n",
       "    2019-04-15 20:59:05  1 min 50.255 sec  19                 174053           89846.3         3.02943e+10\n",
       "    2019-04-15 20:59:09  1 min 54.578 sec  30                 167729           86077.7         2.81331e+10\n",
       "    2019-04-15 20:59:13  1 min 58.636 sec  40                 166144           85022           2.76037e+10\n",
       "    2019-04-15 20:59:17  2 min  2.863 sec  50                 163678           83823.2         2.67905e+10"
      ]
     },
     "metadata": {},
     "output_type": "execute_result"
    },
    {
     "name": "stdout",
     "output_type": "stream",
     "text": [
      "Variable Importances: \n"
     ]
    },
    {
     "data": {
      "text/html": [
       "<div style=\"overflow:auto\"><table style=\"width:50%\"><tr><td><b>variable</b></td>\n",
       "<td><b>relative_importance</b></td>\n",
       "<td><b>scaled_importance</b></td>\n",
       "<td><b>percentage</b></td></tr>\n",
       "<tr><td>grade</td>\n",
       "<td>25146112247595008.0000000</td>\n",
       "<td>1.0</td>\n",
       "<td>0.2347888</td></tr>\n",
       "<tr><td>sqft_living</td>\n",
       "<td>22356455826915328.0000000</td>\n",
       "<td>0.8890621</td>\n",
       "<td>0.2087418</td></tr>\n",
       "<tr><td>date</td>\n",
       "<td>14569500804382720.0000000</td>\n",
       "<td>0.5793938</td>\n",
       "<td>0.1360351</td></tr>\n",
       "<tr><td>lat</td>\n",
       "<td>10673246059888640.0000000</td>\n",
       "<td>0.4244492</td>\n",
       "<td>0.0996559</td></tr>\n",
       "<tr><td>sqft_above</td>\n",
       "<td>7584554151837696.0000000</td>\n",
       "<td>0.3016194</td>\n",
       "<td>0.0708168</td></tr>\n",
       "<tr><td>sqft_living15</td>\n",
       "<td>5913814021177344.0000000</td>\n",
       "<td>0.2351781</td>\n",
       "<td>0.0552172</td></tr>\n",
       "<tr><td>bathrooms</td>\n",
       "<td>5597932598329344.0000000</td>\n",
       "<td>0.2226162</td>\n",
       "<td>0.0522678</td></tr>\n",
       "<tr><td>long</td>\n",
       "<td>3923044066131968.0000000</td>\n",
       "<td>0.1560100</td>\n",
       "<td>0.0366294</td></tr>\n",
       "<tr><td>yr_built</td>\n",
       "<td>2445134545289216.0000000</td>\n",
       "<td>0.0972371</td>\n",
       "<td>0.0228302</td></tr>\n",
       "<tr><td>view</td>\n",
       "<td>2193266925633536.0000000</td>\n",
       "<td>0.0872209</td>\n",
       "<td>0.0204785</td></tr>\n",
       "<tr><td>waterfront</td>\n",
       "<td>1729077195046912.0000000</td>\n",
       "<td>0.0687612</td>\n",
       "<td>0.0161444</td></tr>\n",
       "<tr><td>sqft_basement</td>\n",
       "<td>1290721155874816.0000000</td>\n",
       "<td>0.0513289</td>\n",
       "<td>0.0120514</td></tr>\n",
       "<tr><td>zipcode</td>\n",
       "<td>1050176680624128.0000000</td>\n",
       "<td>0.0417630</td>\n",
       "<td>0.0098055</td></tr>\n",
       "<tr><td>sqft_lot15</td>\n",
       "<td>606659231612928.0000000</td>\n",
       "<td>0.0241254</td>\n",
       "<td>0.0056644</td></tr>\n",
       "<tr><td>id</td>\n",
       "<td>579850582622208.0000000</td>\n",
       "<td>0.0230593</td>\n",
       "<td>0.0054141</td></tr>\n",
       "<tr><td>sqft_lot</td>\n",
       "<td>465389335085056.0000000</td>\n",
       "<td>0.0185074</td>\n",
       "<td>0.0043453</td></tr>\n",
       "<tr><td>condition</td>\n",
       "<td>306503730855936.0000000</td>\n",
       "<td>0.0121889</td>\n",
       "<td>0.0028618</td></tr>\n",
       "<tr><td>bedrooms</td>\n",
       "<td>275671687364608.0000000</td>\n",
       "<td>0.0109628</td>\n",
       "<td>0.0025739</td></tr>\n",
       "<tr><td>floors</td>\n",
       "<td>267469541343232.0000000</td>\n",
       "<td>0.0106366</td>\n",
       "<td>0.0024974</td></tr>\n",
       "<tr><td>yr_renovated</td>\n",
       "<td>126422219751424.0000000</td>\n",
       "<td>0.0050275</td>\n",
       "<td>0.0011804</td></tr></table></div>"
      ],
      "text/plain": [
       "variable       relative_importance    scaled_importance    percentage\n",
       "-------------  ---------------------  -------------------  ------------\n",
       "grade          2.51461e+16            1                    0.234789\n",
       "sqft_living    2.23565e+16            0.889062             0.208742\n",
       "date           1.45695e+16            0.579394             0.136035\n",
       "lat            1.06732e+16            0.424449             0.0996559\n",
       "sqft_above     7.58455e+15            0.301619             0.0708168\n",
       "sqft_living15  5.91381e+15            0.235178             0.0552172\n",
       "bathrooms      5.59793e+15            0.222616             0.0522678\n",
       "long           3.92304e+15            0.15601              0.0366294\n",
       "yr_built       2.44513e+15            0.0972371            0.0228302\n",
       "view           2.19327e+15            0.0872209            0.0204785\n",
       "waterfront     1.72908e+15            0.0687612            0.0161444\n",
       "sqft_basement  1.29072e+15            0.0513289            0.0120514\n",
       "zipcode        1.05018e+15            0.041763             0.00980548\n",
       "sqft_lot15     6.06659e+14            0.0241254            0.00566437\n",
       "id             5.79851e+14            0.0230593            0.00541405\n",
       "sqft_lot       4.65389e+14            0.0185074            0.00434533\n",
       "condition      3.06504e+14            0.0121889            0.00286182\n",
       "bedrooms       2.75672e+14            0.0109628            0.00257394\n",
       "floors         2.6747e+14             0.0106366            0.00249736\n",
       "yr_renovated   1.26422e+14            0.00502751           0.0011804"
      ]
     },
     "metadata": {},
     "output_type": "execute_result"
    },
    {
     "data": {
      "text/plain": []
     },
     "execution_count": 49,
     "metadata": {},
     "output_type": "execute_result"
    }
   ],
   "source": [
    "best = aml.leader\n",
    "best "
   ]
  },
  {
   "cell_type": "code",
   "execution_count": 50,
   "metadata": {},
   "outputs": [],
   "source": [
    "best_model = h2o.get_model(aml.leaderboard[0,'model_id'])#Getting the best model based on the leaderboard"
   ]
  },
  {
   "cell_type": "code",
   "execution_count": 51,
   "metadata": {},
   "outputs": [
    {
     "data": {
      "text/plain": [
       "'drf'"
      ]
     },
     "execution_count": 51,
     "metadata": {},
     "output_type": "execute_result"
    }
   ],
   "source": [
    "best_model.algo# Name of the Algorithm for the best model"
   ]
  },
  {
   "cell_type": "markdown",
   "metadata": {},
   "source": [
    "## 500 Seconds"
   ]
  },
  {
   "cell_type": "code",
   "execution_count": 66,
   "metadata": {},
   "outputs": [],
   "source": [
    "project =\"automl_run\"\n",
    "run_time=500"
   ]
  },
  {
   "cell_type": "code",
   "execution_count": 67,
   "metadata": {},
   "outputs": [
    {
     "name": "stdout",
     "output_type": "stream",
     "text": [
      "AutoML progress: |████████████████████████████████████████████████████████| 100%\n"
     ]
    }
   ],
   "source": [
    "aml = H2OAutoML(max_runtime_secs=run_time,project_name = project) # init automl, run for 500 seconds\n",
    "aml.train(x=X,  \n",
    "           y=y,\n",
    "           training_frame=df)"
   ]
  },
  {
   "cell_type": "code",
   "execution_count": 68,
   "metadata": {},
   "outputs": [
    {
     "name": "stdout",
     "output_type": "stream",
     "text": [
      "NNuvPhBbmZ\n"
     ]
    }
   ],
   "source": [
    "runid=run_id(10)\n",
    "if server_path==None:\n",
    "    server_path=os.path.abspath(os.curdir)\n",
    "os.chdir(server_path) \n",
    "run_dir = os.path.join(server_path,runid)\n",
    "os.mkdir(run_dir)\n",
    "os.chdir(run_dir)    \n",
    "\n",
    "# run_id to std out\n",
    "print (runid)"
   ]
  },
  {
   "cell_type": "code",
   "execution_count": 56,
   "metadata": {},
   "outputs": [
    {
     "data": {
      "text/html": [
       "<table>\n",
       "<thead>\n",
       "<tr><th>model_id                                 </th><th style=\"text-align: right;\">  mean_residual_deviance</th><th style=\"text-align: right;\">  rmse</th><th style=\"text-align: right;\">        mse</th><th style=\"text-align: right;\">     mae</th><th style=\"text-align: right;\">   rmsle</th></tr>\n",
       "</thead>\n",
       "<tbody>\n",
       "<tr><td>XRT_1_AutoML_20190415_212612             </td><td style=\"text-align: right;\">             1.76265e+10</td><td style=\"text-align: right;\">132765</td><td style=\"text-align: right;\">1.76265e+10</td><td style=\"text-align: right;\"> 73268.3</td><td style=\"text-align: right;\">0.183189</td></tr>\n",
       "<tr><td>DeepLearning_1_AutoML_20190415_212612    </td><td style=\"text-align: right;\">             2.00119e+10</td><td style=\"text-align: right;\">141464</td><td style=\"text-align: right;\">2.00119e+10</td><td style=\"text-align: right;\"> 84587.3</td><td style=\"text-align: right;\">0.206921</td></tr>\n",
       "<tr><td>GBM_1_AutoML_20190415_212612             </td><td style=\"text-align: right;\">             2.43296e+10</td><td style=\"text-align: right;\">155979</td><td style=\"text-align: right;\">2.43296e+10</td><td style=\"text-align: right;\"> 80240.3</td><td style=\"text-align: right;\">0.192445</td></tr>\n",
       "<tr><td>GBM_2_AutoML_20190415_212612             </td><td style=\"text-align: right;\">             2.47106e+10</td><td style=\"text-align: right;\">157196</td><td style=\"text-align: right;\">2.47106e+10</td><td style=\"text-align: right;\"> 81600  </td><td style=\"text-align: right;\">0.195109</td></tr>\n",
       "<tr><td>GBM_grid_1_AutoML_20190415_212612_model_1</td><td style=\"text-align: right;\">             2.5225e+10 </td><td style=\"text-align: right;\">158824</td><td style=\"text-align: right;\">2.5225e+10 </td><td style=\"text-align: right;\"> 87012.8</td><td style=\"text-align: right;\">0.21356 </td></tr>\n",
       "<tr><td>GBM_3_AutoML_20190415_212612             </td><td style=\"text-align: right;\">             2.59592e+10</td><td style=\"text-align: right;\">161119</td><td style=\"text-align: right;\">2.59592e+10</td><td style=\"text-align: right;\"> 82321.7</td><td style=\"text-align: right;\">0.196141</td></tr>\n",
       "<tr><td>DRF_1_AutoML_20190415_205714             </td><td style=\"text-align: right;\">             2.61698e+10</td><td style=\"text-align: right;\">161771</td><td style=\"text-align: right;\">2.61698e+10</td><td style=\"text-align: right;\"> 83389  </td><td style=\"text-align: right;\">0.200014</td></tr>\n",
       "<tr><td>GBM_4_AutoML_20190415_212612             </td><td style=\"text-align: right;\">             2.64289e+10</td><td style=\"text-align: right;\">162570</td><td style=\"text-align: right;\">2.64289e+10</td><td style=\"text-align: right;\"> 84011.1</td><td style=\"text-align: right;\">0.200328</td></tr>\n",
       "<tr><td>GBM_5_AutoML_20190415_212612             </td><td style=\"text-align: right;\">             2.67067e+10</td><td style=\"text-align: right;\">163422</td><td style=\"text-align: right;\">2.67067e+10</td><td style=\"text-align: right;\"> 83666.8</td><td style=\"text-align: right;\">0.199823</td></tr>\n",
       "<tr><td>DRF_1_AutoML_20190415_212612             </td><td style=\"text-align: right;\">             2.6827e+10 </td><td style=\"text-align: right;\">163790</td><td style=\"text-align: right;\">2.6827e+10 </td><td style=\"text-align: right;\"> 83899.9</td><td style=\"text-align: right;\">0.200731</td></tr>\n",
       "<tr><td>DRF_1_AutoML_20190415_211555             </td><td style=\"text-align: right;\">             2.79403e+10</td><td style=\"text-align: right;\">167153</td><td style=\"text-align: right;\">2.79403e+10</td><td style=\"text-align: right;\"> 84201  </td><td style=\"text-align: right;\">0.20076 </td></tr>\n",
       "<tr><td>GLM_grid_1_AutoML_20190415_212612_model_1</td><td style=\"text-align: right;\">             1.34955e+11</td><td style=\"text-align: right;\">367363</td><td style=\"text-align: right;\">1.34955e+11</td><td style=\"text-align: right;\">234075  </td><td style=\"text-align: right;\">0.548253</td></tr>\n",
       "</tbody>\n",
       "</table>"
      ]
     },
     "metadata": {},
     "output_type": "execute_result"
    },
    {
     "data": {
      "text/plain": []
     },
     "execution_count": 56,
     "metadata": {},
     "output_type": "execute_result"
    }
   ],
   "source": [
    "# view leaderboard\n",
    "lb = aml.leaderboard\n",
    "lb.head(500)"
   ]
  },
  {
   "cell_type": "code",
   "execution_count": 57,
   "metadata": {},
   "outputs": [
    {
     "data": {
      "text/plain": [
       "0                  XRT_1_AutoML_20190415_212612\n",
       "1         DeepLearning_1_AutoML_20190415_212612\n",
       "2                  GBM_1_AutoML_20190415_212612\n",
       "3                  GBM_2_AutoML_20190415_212612\n",
       "4     GBM_grid_1_AutoML_20190415_212612_model_1\n",
       "5                  GBM_3_AutoML_20190415_212612\n",
       "6                  DRF_1_AutoML_20190415_205714\n",
       "7                  GBM_4_AutoML_20190415_212612\n",
       "8                  GBM_5_AutoML_20190415_212612\n",
       "9                  DRF_1_AutoML_20190415_212612\n",
       "10                 DRF_1_AutoML_20190415_211555\n",
       "11    GLM_grid_1_AutoML_20190415_212612_model_1\n",
       "Name: model_id, dtype: object"
      ]
     },
     "execution_count": 57,
     "metadata": {},
     "output_type": "execute_result"
    }
   ],
   "source": [
    "aml_leaderboard_df=aml.leaderboard.as_data_frame()\n",
    "model_set=aml_leaderboard_df['model_id']\n",
    "model_set"
   ]
  },
  {
   "cell_type": "code",
   "execution_count": 69,
   "metadata": {},
   "outputs": [
    {
     "name": "stdout",
     "output_type": "stream",
     "text": [
      "{'start_time': 1555516184.172141, 'target': 'price', 'server_path': 'C:\\\\Users\\\\Samartha\\\\Desktop\\\\ML_Project\\\\8b8zChwtBp\\\\rnPfAUKCEQ\\\\ER0YMNYr4\\\\LG06TboLD', 'data_path': None, 'test_path': None, 'max_models': 10, 'run_time': 500, 'run_id': 'NNuvPhBbmZ', 'regression': True, 'scale': False, 'model_path': None, 'balance': False, 'balance_threshold': 0.2, 'project': None, 'end_time': 1555516184.172141, 'execution_time': 0.0, 'run_path': 'C:\\\\Users\\\\Samartha\\\\Desktop\\\\ML_Project\\\\8b8zChwtBp\\\\rnPfAUKCEQ\\\\ER0YMNYr4\\\\LG06TboLD\\\\NNuvPhBbmZ', 'nthreads': 1, 'min_mem_size': 6}\n"
     ]
    }
   ],
   "source": [
    "# meta data\n",
    "metadata = meta_data(runid,server_path,data_path,test_path,model_path,target,run_time,regression,max_models,balance_y,balance_threshold,name,run_dir,nthreads,min_mem_size)\n",
    "print(metadata)"
   ]
  },
  {
   "cell_type": "markdown",
   "metadata": {},
   "source": [
    "### XRT Models for 500 seconds run_time"
   ]
  },
  {
   "cell_type": "code",
   "execution_count": 59,
   "metadata": {},
   "outputs": [
    {
     "data": {
      "text/plain": [
       "{'model_id': {'default': None,\n",
       "  'actual': {'__meta': {'schema_version': 3,\n",
       "    'schema_name': 'ModelKeyV3',\n",
       "    'schema_type': 'Key<Model>'},\n",
       "   'name': 'XRT_1_AutoML_20190415_212612',\n",
       "   'type': 'Key<Model>',\n",
       "   'URL': '/3/Models/XRT_1_AutoML_20190415_212612'}},\n",
       " 'training_frame': {'default': None,\n",
       "  'actual': {'__meta': {'schema_version': 3,\n",
       "    'schema_name': 'FrameKeyV3',\n",
       "    'schema_type': 'Key<Frame>'},\n",
       "   'name': 'automl_training_kc_house_data.hex',\n",
       "   'type': 'Key<Frame>',\n",
       "   'URL': '/3/Frames/automl_training_kc_house_data.hex'}},\n",
       " 'validation_frame': {'default': None, 'actual': None},\n",
       " 'nfolds': {'default': 0, 'actual': 5},\n",
       " 'keep_cross_validation_models': {'default': True, 'actual': False},\n",
       " 'keep_cross_validation_predictions': {'default': False, 'actual': True},\n",
       " 'keep_cross_validation_fold_assignment': {'default': False, 'actual': False},\n",
       " 'score_each_iteration': {'default': False, 'actual': False},\n",
       " 'score_tree_interval': {'default': 0, 'actual': 0},\n",
       " 'fold_assignment': {'default': 'AUTO', 'actual': 'Modulo'},\n",
       " 'fold_column': {'default': None, 'actual': None},\n",
       " 'response_column': {'default': None,\n",
       "  'actual': {'__meta': {'schema_version': 3,\n",
       "    'schema_name': 'ColSpecifierV3',\n",
       "    'schema_type': 'VecSpecifier'},\n",
       "   'column_name': 'price',\n",
       "   'is_member_of_frames': None}},\n",
       " 'ignored_columns': {'default': None, 'actual': []},\n",
       " 'ignore_const_cols': {'default': True, 'actual': True},\n",
       " 'offset_column': {'default': None, 'actual': None},\n",
       " 'weights_column': {'default': None, 'actual': None},\n",
       " 'balance_classes': {'default': False, 'actual': False},\n",
       " 'class_sampling_factors': {'default': None, 'actual': None},\n",
       " 'max_after_balance_size': {'default': 5.0, 'actual': 5.0},\n",
       " 'max_confusion_matrix_size': {'default': 20, 'actual': 20},\n",
       " 'max_hit_ratio_k': {'default': 0, 'actual': 0},\n",
       " 'ntrees': {'default': 50, 'actual': 50},\n",
       " 'max_depth': {'default': 20, 'actual': 20},\n",
       " 'min_rows': {'default': 1.0, 'actual': 1.0},\n",
       " 'nbins': {'default': 20, 'actual': 20},\n",
       " 'nbins_top_level': {'default': 1024, 'actual': 1024},\n",
       " 'nbins_cats': {'default': 1024, 'actual': 1024},\n",
       " 'r2_stopping': {'default': 1.7976931348623157e+308,\n",
       "  'actual': 1.7976931348623157e+308},\n",
       " 'stopping_rounds': {'default': 0, 'actual': 0},\n",
       " 'stopping_metric': {'default': 'AUTO', 'actual': 'deviance'},\n",
       " 'stopping_tolerance': {'default': 0.001, 'actual': 0.006802091556591675},\n",
       " 'max_runtime_secs': {'default': 0.0, 'actual': 0.0},\n",
       " 'seed': {'default': -1, 'actual': -9114167429941750415},\n",
       " 'build_tree_one_node': {'default': False, 'actual': False},\n",
       " 'mtries': {'default': -1, 'actual': -1},\n",
       " 'sample_rate': {'default': 0.6320000290870667, 'actual': 0.6320000290870667},\n",
       " 'sample_rate_per_class': {'default': None, 'actual': None},\n",
       " 'binomial_double_trees': {'default': False, 'actual': False},\n",
       " 'checkpoint': {'default': None, 'actual': None},\n",
       " 'col_sample_rate_change_per_level': {'default': 1.0, 'actual': 1.0},\n",
       " 'col_sample_rate_per_tree': {'default': 1.0, 'actual': 1.0},\n",
       " 'min_split_improvement': {'default': 1e-05, 'actual': 1e-05},\n",
       " 'histogram_type': {'default': 'AUTO', 'actual': 'Random'},\n",
       " 'categorical_encoding': {'default': 'AUTO', 'actual': 'AUTO'},\n",
       " 'calibrate_model': {'default': False, 'actual': False},\n",
       " 'calibration_frame': {'default': None, 'actual': None},\n",
       " 'distribution': {'default': 'AUTO', 'actual': 'gaussian'},\n",
       " 'custom_metric_func': {'default': None, 'actual': None},\n",
       " 'export_checkpoints_dir': {'default': None, 'actual': None}}"
      ]
     },
     "execution_count": 59,
     "metadata": {},
     "output_type": "execute_result"
    }
   ],
   "source": [
    "aml_leaderboard_df=aml.leaderboard.as_data_frame()\n",
    "model_set=aml_leaderboard_df['model_id']\n",
    "mod_best0=h2o.get_model(model_set[0])# Model 0\n",
    "mod_best0.params"
   ]
  },
  {
   "cell_type": "code",
   "execution_count": 60,
   "metadata": {},
   "outputs": [],
   "source": [
    "hyperparameters = [mod_best0.params]\n",
    "hyperparameter_json(hyperparameters,'XRT_500_seconds')"
   ]
  },
  {
   "cell_type": "markdown",
   "metadata": {},
   "source": [
    "## GBM Models 500 seconds 2,3,5,7,8"
   ]
  },
  {
   "cell_type": "code",
   "execution_count": 61,
   "metadata": {},
   "outputs": [],
   "source": [
    "mod_best2=h2o.get_model(model_set[2])\n",
    "mod_best3=h2o.get_model(model_set[3])\n",
    "mod_best5=h2o.get_model(model_set[5])\n",
    "mod_best7=h2o.get_model(model_set[7])\n",
    "mod_best8=h2o.get_model(model_set[8])"
   ]
  },
  {
   "cell_type": "code",
   "execution_count": 64,
   "metadata": {},
   "outputs": [
    {
     "data": {
      "text/plain": [
       "{'model_id': {'default': None,\n",
       "  'actual': {'__meta': {'schema_version': 3,\n",
       "    'schema_name': 'ModelKeyV3',\n",
       "    'schema_type': 'Key<Model>'},\n",
       "   'name': 'GBM_5_AutoML_20190415_212612',\n",
       "   'type': 'Key<Model>',\n",
       "   'URL': '/3/Models/GBM_5_AutoML_20190415_212612'}},\n",
       " 'training_frame': {'default': None,\n",
       "  'actual': {'__meta': {'schema_version': 3,\n",
       "    'schema_name': 'FrameKeyV3',\n",
       "    'schema_type': 'Key<Frame>'},\n",
       "   'name': 'automl_training_kc_house_data.hex',\n",
       "   'type': 'Key<Frame>',\n",
       "   'URL': '/3/Frames/automl_training_kc_house_data.hex'}},\n",
       " 'validation_frame': {'default': None, 'actual': None},\n",
       " 'nfolds': {'default': 0, 'actual': 5},\n",
       " 'keep_cross_validation_models': {'default': True, 'actual': False},\n",
       " 'keep_cross_validation_predictions': {'default': False, 'actual': True},\n",
       " 'keep_cross_validation_fold_assignment': {'default': False, 'actual': False},\n",
       " 'score_each_iteration': {'default': False, 'actual': False},\n",
       " 'score_tree_interval': {'default': 0, 'actual': 5},\n",
       " 'fold_assignment': {'default': 'AUTO', 'actual': 'Modulo'},\n",
       " 'fold_column': {'default': None, 'actual': None},\n",
       " 'response_column': {'default': None,\n",
       "  'actual': {'__meta': {'schema_version': 3,\n",
       "    'schema_name': 'ColSpecifierV3',\n",
       "    'schema_type': 'VecSpecifier'},\n",
       "   'column_name': 'price',\n",
       "   'is_member_of_frames': None}},\n",
       " 'ignored_columns': {'default': None, 'actual': []},\n",
       " 'ignore_const_cols': {'default': True, 'actual': True},\n",
       " 'offset_column': {'default': None, 'actual': None},\n",
       " 'weights_column': {'default': None, 'actual': None},\n",
       " 'balance_classes': {'default': False, 'actual': False},\n",
       " 'class_sampling_factors': {'default': None, 'actual': None},\n",
       " 'max_after_balance_size': {'default': 5.0, 'actual': 5.0},\n",
       " 'max_confusion_matrix_size': {'default': 20, 'actual': 20},\n",
       " 'max_hit_ratio_k': {'default': 0, 'actual': 0},\n",
       " 'ntrees': {'default': 50, 'actual': 82},\n",
       " 'max_depth': {'default': 5, 'actual': 15},\n",
       " 'min_rows': {'default': 10.0, 'actual': 100.0},\n",
       " 'nbins': {'default': 20, 'actual': 20},\n",
       " 'nbins_top_level': {'default': 1024, 'actual': 1024},\n",
       " 'nbins_cats': {'default': 1024, 'actual': 1024},\n",
       " 'r2_stopping': {'default': 1.7976931348623157e+308,\n",
       "  'actual': 1.7976931348623157e+308},\n",
       " 'stopping_rounds': {'default': 0, 'actual': 0},\n",
       " 'stopping_metric': {'default': 'AUTO', 'actual': 'deviance'},\n",
       " 'stopping_tolerance': {'default': 0.001, 'actual': 0.006802091556591675},\n",
       " 'max_runtime_secs': {'default': 0.0, 'actual': 0.0},\n",
       " 'seed': {'default': -1, 'actual': -8403081786912669824},\n",
       " 'build_tree_one_node': {'default': False, 'actual': False},\n",
       " 'learn_rate': {'default': 0.1, 'actual': 0.1},\n",
       " 'learn_rate_annealing': {'default': 1.0, 'actual': 1.0},\n",
       " 'distribution': {'default': 'AUTO', 'actual': 'gaussian'},\n",
       " 'quantile_alpha': {'default': 0.5, 'actual': 0.5},\n",
       " 'tweedie_power': {'default': 1.5, 'actual': 1.5},\n",
       " 'huber_alpha': {'default': 0.9, 'actual': 0.9},\n",
       " 'checkpoint': {'default': None, 'actual': None},\n",
       " 'sample_rate': {'default': 1.0, 'actual': 0.8},\n",
       " 'sample_rate_per_class': {'default': None, 'actual': None},\n",
       " 'col_sample_rate': {'default': 1.0, 'actual': 0.8},\n",
       " 'col_sample_rate_change_per_level': {'default': 1.0, 'actual': 1.0},\n",
       " 'col_sample_rate_per_tree': {'default': 1.0, 'actual': 0.8},\n",
       " 'min_split_improvement': {'default': 1e-05, 'actual': 1e-05},\n",
       " 'histogram_type': {'default': 'AUTO', 'actual': 'AUTO'},\n",
       " 'max_abs_leafnode_pred': {'default': 1.7976931348623157e+308,\n",
       "  'actual': 1.7976931348623157e+308},\n",
       " 'pred_noise_bandwidth': {'default': 0.0, 'actual': 0.0},\n",
       " 'categorical_encoding': {'default': 'AUTO', 'actual': 'AUTO'},\n",
       " 'calibrate_model': {'default': False, 'actual': False},\n",
       " 'calibration_frame': {'default': None, 'actual': None},\n",
       " 'custom_metric_func': {'default': None, 'actual': None},\n",
       " 'export_checkpoints_dir': {'default': None, 'actual': None},\n",
       " 'monotone_constraints': {'default': None, 'actual': None}}"
      ]
     },
     "execution_count": 64,
     "metadata": {},
     "output_type": "execute_result"
    }
   ],
   "source": [
    "mod_best2.params\n",
    "mod_best3.params\n",
    "mod_best5.params\n",
    "mod_best7.params\n",
    "mod_best8.params"
   ]
  },
  {
   "cell_type": "code",
   "execution_count": 65,
   "metadata": {},
   "outputs": [],
   "source": [
    "hyperparameters = [mod_best2.params]\n",
    "hyperparameter_json(hyperparameters,'GBM1_500_seconds')"
   ]
  },
  {
   "cell_type": "code",
   "execution_count": 66,
   "metadata": {},
   "outputs": [],
   "source": [
    "hyperparameters = [mod_best3.params]\n",
    "hyperparameter_json(hyperparameters,'GBM2_500_seconds')"
   ]
  },
  {
   "cell_type": "code",
   "execution_count": 67,
   "metadata": {},
   "outputs": [],
   "source": [
    "hyperparameters = [mod_best5.params]\n",
    "hyperparameter_json(hyperparameters,'GBM3_500_seconds')"
   ]
  },
  {
   "cell_type": "code",
   "execution_count": 68,
   "metadata": {},
   "outputs": [],
   "source": [
    "hyperparameters = [mod_best7.params]\n",
    "hyperparameter_json(hyperparameters,'GBM4_500_seconds')"
   ]
  },
  {
   "cell_type": "code",
   "execution_count": 69,
   "metadata": {},
   "outputs": [],
   "source": [
    "hyperparameters = [mod_best8.params]\n",
    "hyperparameter_json(hyperparameters,'GBM5_500_seconds')"
   ]
  },
  {
   "cell_type": "markdown",
   "metadata": {},
   "source": [
    "## GBM_Gird 500 seconds"
   ]
  },
  {
   "cell_type": "code",
   "execution_count": 70,
   "metadata": {},
   "outputs": [
    {
     "data": {
      "text/plain": [
       "{'model_id': {'default': None,\n",
       "  'actual': {'__meta': {'schema_version': 3,\n",
       "    'schema_name': 'ModelKeyV3',\n",
       "    'schema_type': 'Key<Model>'},\n",
       "   'name': 'GBM_grid_1_AutoML_20190415_212612_model_1',\n",
       "   'type': 'Key<Model>',\n",
       "   'URL': '/3/Models/GBM_grid_1_AutoML_20190415_212612_model_1'}},\n",
       " 'training_frame': {'default': None,\n",
       "  'actual': {'__meta': {'schema_version': 3,\n",
       "    'schema_name': 'FrameKeyV3',\n",
       "    'schema_type': 'Key<Frame>'},\n",
       "   'name': 'automl_training_kc_house_data.hex',\n",
       "   'type': 'Key<Frame>',\n",
       "   'URL': '/3/Frames/automl_training_kc_house_data.hex'}},\n",
       " 'validation_frame': {'default': None, 'actual': None},\n",
       " 'nfolds': {'default': 0, 'actual': 5},\n",
       " 'keep_cross_validation_models': {'default': True, 'actual': False},\n",
       " 'keep_cross_validation_predictions': {'default': False, 'actual': True},\n",
       " 'keep_cross_validation_fold_assignment': {'default': False, 'actual': False},\n",
       " 'score_each_iteration': {'default': False, 'actual': False},\n",
       " 'score_tree_interval': {'default': 0, 'actual': 5},\n",
       " 'fold_assignment': {'default': 'AUTO', 'actual': 'Modulo'},\n",
       " 'fold_column': {'default': None, 'actual': None},\n",
       " 'response_column': {'default': None,\n",
       "  'actual': {'__meta': {'schema_version': 3,\n",
       "    'schema_name': 'ColSpecifierV3',\n",
       "    'schema_type': 'VecSpecifier'},\n",
       "   'column_name': 'price',\n",
       "   'is_member_of_frames': None}},\n",
       " 'ignored_columns': {'default': None, 'actual': []},\n",
       " 'ignore_const_cols': {'default': True, 'actual': True},\n",
       " 'offset_column': {'default': None, 'actual': None},\n",
       " 'weights_column': {'default': None, 'actual': None},\n",
       " 'balance_classes': {'default': False, 'actual': False},\n",
       " 'class_sampling_factors': {'default': None, 'actual': None},\n",
       " 'max_after_balance_size': {'default': 5.0, 'actual': 5.0},\n",
       " 'max_confusion_matrix_size': {'default': 20, 'actual': 20},\n",
       " 'max_hit_ratio_k': {'default': 0, 'actual': 0},\n",
       " 'ntrees': {'default': 50, 'actual': 37},\n",
       " 'max_depth': {'default': 5, 'actual': 12},\n",
       " 'min_rows': {'default': 10.0, 'actual': 1.0},\n",
       " 'nbins': {'default': 20, 'actual': 20},\n",
       " 'nbins_top_level': {'default': 1024, 'actual': 1024},\n",
       " 'nbins_cats': {'default': 1024, 'actual': 1024},\n",
       " 'r2_stopping': {'default': 1.7976931348623157e+308,\n",
       "  'actual': 1.7976931348623157e+308},\n",
       " 'stopping_rounds': {'default': 0, 'actual': 0},\n",
       " 'stopping_metric': {'default': 'AUTO', 'actual': 'deviance'},\n",
       " 'stopping_tolerance': {'default': 0.001, 'actual': 0.006802091556591675},\n",
       " 'max_runtime_secs': {'default': 0.0, 'actual': 0.0},\n",
       " 'seed': {'default': -1, 'actual': 7143314955496120147},\n",
       " 'build_tree_one_node': {'default': False, 'actual': False},\n",
       " 'learn_rate': {'default': 0.1, 'actual': 0.08},\n",
       " 'learn_rate_annealing': {'default': 1.0, 'actual': 1.0},\n",
       " 'distribution': {'default': 'AUTO', 'actual': 'gaussian'},\n",
       " 'quantile_alpha': {'default': 0.5, 'actual': 0.5},\n",
       " 'tweedie_power': {'default': 1.5, 'actual': 1.5},\n",
       " 'huber_alpha': {'default': 0.9, 'actual': 0.9},\n",
       " 'checkpoint': {'default': None, 'actual': None},\n",
       " 'sample_rate': {'default': 1.0, 'actual': 0.9},\n",
       " 'sample_rate_per_class': {'default': None, 'actual': None},\n",
       " 'col_sample_rate': {'default': 1.0, 'actual': 1.0},\n",
       " 'col_sample_rate_change_per_level': {'default': 1.0, 'actual': 1.0},\n",
       " 'col_sample_rate_per_tree': {'default': 1.0, 'actual': 0.4},\n",
       " 'min_split_improvement': {'default': 1e-05, 'actual': 1e-05},\n",
       " 'histogram_type': {'default': 'AUTO', 'actual': 'AUTO'},\n",
       " 'max_abs_leafnode_pred': {'default': 1.7976931348623157e+308,\n",
       "  'actual': 1.7976931348623157e+308},\n",
       " 'pred_noise_bandwidth': {'default': 0.0, 'actual': 0.0},\n",
       " 'categorical_encoding': {'default': 'AUTO', 'actual': 'AUTO'},\n",
       " 'calibrate_model': {'default': False, 'actual': False},\n",
       " 'calibration_frame': {'default': None, 'actual': None},\n",
       " 'custom_metric_func': {'default': None, 'actual': None},\n",
       " 'export_checkpoints_dir': {'default': None, 'actual': None},\n",
       " 'monotone_constraints': {'default': None, 'actual': None}}"
      ]
     },
     "execution_count": 70,
     "metadata": {},
     "output_type": "execute_result"
    }
   ],
   "source": [
    "mod_best4=h2o.get_model(model_set[4])\n",
    "mod_best4.params"
   ]
  },
  {
   "cell_type": "code",
   "execution_count": 71,
   "metadata": {},
   "outputs": [],
   "source": [
    "hyperparameters = [mod_best4.params]\n",
    "hyperparameter_json(hyperparameters,'GBM_Grid_500_seconds')"
   ]
  },
  {
   "cell_type": "code",
   "execution_count": 80,
   "metadata": {},
   "outputs": [
    {
     "data": {
      "text/plain": [
       "{'model_id': {'default': None,\n",
       "  'actual': {'__meta': {'schema_version': 3,\n",
       "    'schema_name': 'ModelKeyV3',\n",
       "    'schema_type': 'Key<Model>'},\n",
       "   'name': 'GLM_grid_1_AutoML_20190415_212612_model_1',\n",
       "   'type': 'Key<Model>',\n",
       "   'URL': '/3/Models/GLM_grid_1_AutoML_20190415_212612_model_1'}},\n",
       " 'training_frame': {'default': None,\n",
       "  'actual': {'__meta': {'schema_version': 3,\n",
       "    'schema_name': 'FrameKeyV3',\n",
       "    'schema_type': 'Key<Frame>'},\n",
       "   'name': 'automl_training_kc_house_data.hex',\n",
       "   'type': 'Key<Frame>',\n",
       "   'URL': '/3/Frames/automl_training_kc_house_data.hex'}},\n",
       " 'validation_frame': {'default': None, 'actual': None},\n",
       " 'nfolds': {'default': 0, 'actual': 5},\n",
       " 'seed': {'default': -1, 'actual': 5318133524785865346},\n",
       " 'keep_cross_validation_models': {'default': True, 'actual': False},\n",
       " 'keep_cross_validation_predictions': {'default': False, 'actual': True},\n",
       " 'keep_cross_validation_fold_assignment': {'default': False, 'actual': False},\n",
       " 'fold_assignment': {'default': 'AUTO', 'actual': 'Modulo'},\n",
       " 'fold_column': {'default': None, 'actual': None},\n",
       " 'response_column': {'default': None,\n",
       "  'actual': {'__meta': {'schema_version': 3,\n",
       "    'schema_name': 'ColSpecifierV3',\n",
       "    'schema_type': 'VecSpecifier'},\n",
       "   'column_name': 'price',\n",
       "   'is_member_of_frames': None}},\n",
       " 'ignored_columns': {'default': None, 'actual': []},\n",
       " 'ignore_const_cols': {'default': True, 'actual': True},\n",
       " 'score_each_iteration': {'default': False, 'actual': False},\n",
       " 'offset_column': {'default': None, 'actual': None},\n",
       " 'weights_column': {'default': None, 'actual': None},\n",
       " 'family': {'default': 'gaussian', 'actual': 'gaussian'},\n",
       " 'tweedie_variance_power': {'default': 0.0, 'actual': 0.0},\n",
       " 'tweedie_link_power': {'default': 1.0, 'actual': 1.0},\n",
       " 'solver': {'default': 'AUTO', 'actual': 'COORDINATE_DESCENT'},\n",
       " 'alpha': {'default': None, 'actual': [0.0, 0.2, 0.4, 0.6, 0.8, 1.0]},\n",
       " 'lambda': {'default': None,\n",
       "  'actual': [25789241.536127478,\n",
       "   16015555.912468724,\n",
       "   9945931.555454643,\n",
       "   6176591.998831225,\n",
       "   3835768.2744260547]},\n",
       " 'lambda_search': {'default': False, 'actual': True},\n",
       " 'early_stopping': {'default': True, 'actual': True},\n",
       " 'nlambdas': {'default': -1, 'actual': 30},\n",
       " 'standardize': {'default': True, 'actual': True},\n",
       " 'missing_values_handling': {'default': 'MeanImputation',\n",
       "  'actual': 'MeanImputation'},\n",
       " 'compute_p_values': {'default': False, 'actual': False},\n",
       " 'remove_collinear_columns': {'default': False, 'actual': False},\n",
       " 'intercept': {'default': True, 'actual': True},\n",
       " 'non_negative': {'default': False, 'actual': False},\n",
       " 'max_iterations': {'default': -1, 'actual': 300},\n",
       " 'objective_epsilon': {'default': -1.0, 'actual': 0.0001},\n",
       " 'beta_epsilon': {'default': 0.0001, 'actual': 0.0001},\n",
       " 'gradient_epsilon': {'default': -1.0, 'actual': 1.0000000000000002e-06},\n",
       " 'link': {'default': 'family_default', 'actual': 'identity'},\n",
       " 'prior': {'default': -1.0, 'actual': -1.0},\n",
       " 'lambda_min_ratio': {'default': -1.0, 'actual': 1.0000000000000002e-06},\n",
       " 'beta_constraints': {'default': None, 'actual': None},\n",
       " 'max_active_predictors': {'default': -1, 'actual': 5000},\n",
       " 'interactions': {'default': None, 'actual': None},\n",
       " 'interaction_pairs': {'default': None, 'actual': None},\n",
       " 'obj_reg': {'default': -1.0, 'actual': 4.6268449544255775e-05},\n",
       " 'export_checkpoints_dir': {'default': None, 'actual': None},\n",
       " 'balance_classes': {'default': False, 'actual': False},\n",
       " 'class_sampling_factors': {'default': None, 'actual': None},\n",
       " 'max_after_balance_size': {'default': 5.0, 'actual': 5.0},\n",
       " 'max_confusion_matrix_size': {'default': 20, 'actual': 20},\n",
       " 'max_hit_ratio_k': {'default': 0, 'actual': 0},\n",
       " 'max_runtime_secs': {'default': 0.0, 'actual': 3.0},\n",
       " 'custom_metric_func': {'default': None, 'actual': None}}"
      ]
     },
     "execution_count": 80,
     "metadata": {},
     "output_type": "execute_result"
    }
   ],
   "source": [
    "mod_best11=h2o.get_model(model_set[11])\n",
    "mod_best11.params"
   ]
  },
  {
   "cell_type": "code",
   "execution_count": 81,
   "metadata": {},
   "outputs": [],
   "source": [
    "hyperparameters = [mod_best11.params]\n",
    "hyperparameter_json(hyperparameters,'GBM_Grid2_500_seconds')"
   ]
  },
  {
   "cell_type": "markdown",
   "metadata": {},
   "source": [
    "## Deep Learning 500 seconds"
   ]
  },
  {
   "cell_type": "code",
   "execution_count": 72,
   "metadata": {},
   "outputs": [
    {
     "data": {
      "text/plain": [
       "{'model_id': {'default': None,\n",
       "  'actual': {'__meta': {'schema_version': 3,\n",
       "    'schema_name': 'ModelKeyV3',\n",
       "    'schema_type': 'Key<Model>'},\n",
       "   'name': 'DeepLearning_1_AutoML_20190415_212612',\n",
       "   'type': 'Key<Model>',\n",
       "   'URL': '/3/Models/DeepLearning_1_AutoML_20190415_212612'}},\n",
       " 'training_frame': {'default': None,\n",
       "  'actual': {'__meta': {'schema_version': 3,\n",
       "    'schema_name': 'FrameKeyV3',\n",
       "    'schema_type': 'Key<Frame>'},\n",
       "   'name': 'automl_training_kc_house_data.hex',\n",
       "   'type': 'Key<Frame>',\n",
       "   'URL': '/3/Frames/automl_training_kc_house_data.hex'}},\n",
       " 'validation_frame': {'default': None, 'actual': None},\n",
       " 'nfolds': {'default': 0, 'actual': 5},\n",
       " 'keep_cross_validation_models': {'default': True, 'actual': False},\n",
       " 'keep_cross_validation_predictions': {'default': False, 'actual': True},\n",
       " 'keep_cross_validation_fold_assignment': {'default': False, 'actual': False},\n",
       " 'fold_assignment': {'default': 'AUTO', 'actual': 'Modulo'},\n",
       " 'fold_column': {'default': None, 'actual': None},\n",
       " 'response_column': {'default': None,\n",
       "  'actual': {'__meta': {'schema_version': 3,\n",
       "    'schema_name': 'ColSpecifierV3',\n",
       "    'schema_type': 'VecSpecifier'},\n",
       "   'column_name': 'price',\n",
       "   'is_member_of_frames': None}},\n",
       " 'ignored_columns': {'default': None, 'actual': []},\n",
       " 'ignore_const_cols': {'default': True, 'actual': True},\n",
       " 'score_each_iteration': {'default': False, 'actual': False},\n",
       " 'weights_column': {'default': None, 'actual': None},\n",
       " 'offset_column': {'default': None, 'actual': None},\n",
       " 'balance_classes': {'default': False, 'actual': False},\n",
       " 'class_sampling_factors': {'default': None, 'actual': None},\n",
       " 'max_after_balance_size': {'default': 5.0, 'actual': 5.0},\n",
       " 'max_confusion_matrix_size': {'default': 20, 'actual': 20},\n",
       " 'max_hit_ratio_k': {'default': 0, 'actual': 0},\n",
       " 'checkpoint': {'default': None, 'actual': None},\n",
       " 'pretrained_autoencoder': {'default': None, 'actual': None},\n",
       " 'overwrite_with_best_model': {'default': True, 'actual': False},\n",
       " 'use_all_factor_levels': {'default': True, 'actual': True},\n",
       " 'standardize': {'default': True, 'actual': True},\n",
       " 'activation': {'default': 'Rectifier', 'actual': 'Rectifier'},\n",
       " 'hidden': {'default': [200, 200], 'actual': [10, 10, 10]},\n",
       " 'epochs': {'default': 10.0, 'actual': 10.405704558705725},\n",
       " 'train_samples_per_iteration': {'default': -2, 'actual': -2},\n",
       " 'target_ratio_comm_to_comp': {'default': 0.05, 'actual': 0.05},\n",
       " 'seed': {'default': -1, 'actual': 1048666160111208200},\n",
       " 'adaptive_rate': {'default': True, 'actual': True},\n",
       " 'rho': {'default': 0.99, 'actual': 0.99},\n",
       " 'epsilon': {'default': 1e-08, 'actual': 1e-08},\n",
       " 'rate': {'default': 0.005, 'actual': 0.005},\n",
       " 'rate_annealing': {'default': 1e-06, 'actual': 1e-06},\n",
       " 'rate_decay': {'default': 1.0, 'actual': 1.0},\n",
       " 'momentum_start': {'default': 0.0, 'actual': 0.0},\n",
       " 'momentum_ramp': {'default': 1000000.0, 'actual': 1000000.0},\n",
       " 'momentum_stable': {'default': 0.0, 'actual': 0.0},\n",
       " 'nesterov_accelerated_gradient': {'default': True, 'actual': True},\n",
       " 'input_dropout_ratio': {'default': 0.0, 'actual': 0.0},\n",
       " 'hidden_dropout_ratios': {'default': None, 'actual': None},\n",
       " 'l1': {'default': 0.0, 'actual': 0.0},\n",
       " 'l2': {'default': 0.0, 'actual': 0.0},\n",
       " 'max_w2': {'default': 3.4028235e+38, 'actual': 3.4028235e+38},\n",
       " 'initial_weight_distribution': {'default': 'UniformAdaptive',\n",
       "  'actual': 'UniformAdaptive'},\n",
       " 'initial_weight_scale': {'default': 1.0, 'actual': 1.0},\n",
       " 'initial_weights': {'default': None, 'actual': None},\n",
       " 'initial_biases': {'default': None, 'actual': None},\n",
       " 'loss': {'default': 'Automatic', 'actual': 'Automatic'},\n",
       " 'distribution': {'default': 'AUTO', 'actual': 'AUTO'},\n",
       " 'quantile_alpha': {'default': 0.5, 'actual': 0.5},\n",
       " 'tweedie_power': {'default': 1.5, 'actual': 1.5},\n",
       " 'huber_alpha': {'default': 0.9, 'actual': 0.9},\n",
       " 'score_interval': {'default': 5.0, 'actual': 5.0},\n",
       " 'score_training_samples': {'default': 10000, 'actual': 10000},\n",
       " 'score_validation_samples': {'default': 0, 'actual': 0},\n",
       " 'score_duty_cycle': {'default': 0.1, 'actual': 0.1},\n",
       " 'classification_stop': {'default': 0.0, 'actual': 0.0},\n",
       " 'regression_stop': {'default': 1e-06, 'actual': 1e-06},\n",
       " 'stopping_rounds': {'default': 5, 'actual': 0},\n",
       " 'stopping_metric': {'default': 'AUTO', 'actual': 'deviance'},\n",
       " 'stopping_tolerance': {'default': 0.0, 'actual': 0.006802091556591675},\n",
       " 'max_runtime_secs': {'default': 0.0, 'actual': 0.0},\n",
       " 'score_validation_sampling': {'default': 'Uniform', 'actual': 'Uniform'},\n",
       " 'diagnostics': {'default': True, 'actual': True},\n",
       " 'fast_mode': {'default': True, 'actual': True},\n",
       " 'force_load_balance': {'default': True, 'actual': True},\n",
       " 'variable_importances': {'default': True, 'actual': True},\n",
       " 'replicate_training_data': {'default': True, 'actual': True},\n",
       " 'single_node_mode': {'default': False, 'actual': False},\n",
       " 'shuffle_training_data': {'default': False, 'actual': False},\n",
       " 'missing_values_handling': {'default': 'MeanImputation',\n",
       "  'actual': 'MeanImputation'},\n",
       " 'quiet_mode': {'default': False, 'actual': False},\n",
       " 'autoencoder': {'default': False, 'actual': False},\n",
       " 'sparse': {'default': False, 'actual': False},\n",
       " 'col_major': {'default': False, 'actual': False},\n",
       " 'average_activation': {'default': 0.0, 'actual': 0.0},\n",
       " 'sparsity_beta': {'default': 0.0, 'actual': 0.0},\n",
       " 'max_categorical_features': {'default': 2147483647, 'actual': 2147483647},\n",
       " 'reproducible': {'default': False, 'actual': False},\n",
       " 'export_weights_and_biases': {'default': False, 'actual': False},\n",
       " 'mini_batch_size': {'default': 1, 'actual': 1},\n",
       " 'categorical_encoding': {'default': 'AUTO', 'actual': 'AUTO'},\n",
       " 'elastic_averaging': {'default': False, 'actual': False},\n",
       " 'elastic_averaging_moving_rate': {'default': 0.9, 'actual': 0.9},\n",
       " 'elastic_averaging_regularization': {'default': 0.001, 'actual': 0.001},\n",
       " 'export_checkpoints_dir': {'default': None, 'actual': None}}"
      ]
     },
     "execution_count": 72,
     "metadata": {},
     "output_type": "execute_result"
    }
   ],
   "source": [
    "mod_best1=h2o.get_model(model_set[1])\n",
    "mod_best1.params"
   ]
  },
  {
   "cell_type": "code",
   "execution_count": 73,
   "metadata": {},
   "outputs": [],
   "source": [
    "hyperparameters = [mod_best1.params]\n",
    "hyperparameter_json(hyperparameters,'Deep_Learning_500_seconds')"
   ]
  },
  {
   "cell_type": "markdown",
   "metadata": {},
   "source": [
    "## DRF models 500 seconds"
   ]
  },
  {
   "cell_type": "code",
   "execution_count": 74,
   "metadata": {},
   "outputs": [
    {
     "data": {
      "text/plain": [
       "{'model_id': {'default': None,\n",
       "  'actual': {'__meta': {'schema_version': 3,\n",
       "    'schema_name': 'ModelKeyV3',\n",
       "    'schema_type': 'Key<Model>'},\n",
       "   'name': 'DRF_1_AutoML_20190415_212612',\n",
       "   'type': 'Key<Model>',\n",
       "   'URL': '/3/Models/DRF_1_AutoML_20190415_212612'}},\n",
       " 'training_frame': {'default': None,\n",
       "  'actual': {'__meta': {'schema_version': 3,\n",
       "    'schema_name': 'FrameKeyV3',\n",
       "    'schema_type': 'Key<Frame>'},\n",
       "   'name': 'automl_training_kc_house_data.hex',\n",
       "   'type': 'Key<Frame>',\n",
       "   'URL': '/3/Frames/automl_training_kc_house_data.hex'}},\n",
       " 'validation_frame': {'default': None, 'actual': None},\n",
       " 'nfolds': {'default': 0, 'actual': 5},\n",
       " 'keep_cross_validation_models': {'default': True, 'actual': False},\n",
       " 'keep_cross_validation_predictions': {'default': False, 'actual': True},\n",
       " 'keep_cross_validation_fold_assignment': {'default': False, 'actual': False},\n",
       " 'score_each_iteration': {'default': False, 'actual': False},\n",
       " 'score_tree_interval': {'default': 0, 'actual': 0},\n",
       " 'fold_assignment': {'default': 'AUTO', 'actual': 'Modulo'},\n",
       " 'fold_column': {'default': None, 'actual': None},\n",
       " 'response_column': {'default': None,\n",
       "  'actual': {'__meta': {'schema_version': 3,\n",
       "    'schema_name': 'ColSpecifierV3',\n",
       "    'schema_type': 'VecSpecifier'},\n",
       "   'column_name': 'price',\n",
       "   'is_member_of_frames': None}},\n",
       " 'ignored_columns': {'default': None, 'actual': []},\n",
       " 'ignore_const_cols': {'default': True, 'actual': True},\n",
       " 'offset_column': {'default': None, 'actual': None},\n",
       " 'weights_column': {'default': None, 'actual': None},\n",
       " 'balance_classes': {'default': False, 'actual': False},\n",
       " 'class_sampling_factors': {'default': None, 'actual': None},\n",
       " 'max_after_balance_size': {'default': 5.0, 'actual': 5.0},\n",
       " 'max_confusion_matrix_size': {'default': 20, 'actual': 20},\n",
       " 'max_hit_ratio_k': {'default': 0, 'actual': 0},\n",
       " 'ntrees': {'default': 50, 'actual': 50},\n",
       " 'max_depth': {'default': 20, 'actual': 20},\n",
       " 'min_rows': {'default': 1.0, 'actual': 1.0},\n",
       " 'nbins': {'default': 20, 'actual': 20},\n",
       " 'nbins_top_level': {'default': 1024, 'actual': 1024},\n",
       " 'nbins_cats': {'default': 1024, 'actual': 1024},\n",
       " 'r2_stopping': {'default': 1.7976931348623157e+308,\n",
       "  'actual': 1.7976931348623157e+308},\n",
       " 'stopping_rounds': {'default': 0, 'actual': 0},\n",
       " 'stopping_metric': {'default': 'AUTO', 'actual': 'deviance'},\n",
       " 'stopping_tolerance': {'default': 0.001, 'actual': 0.006802091556591675},\n",
       " 'max_runtime_secs': {'default': 0.0, 'actual': 0.0},\n",
       " 'seed': {'default': -1, 'actual': 8103707241923509008},\n",
       " 'build_tree_one_node': {'default': False, 'actual': False},\n",
       " 'mtries': {'default': -1, 'actual': -1},\n",
       " 'sample_rate': {'default': 0.6320000290870667, 'actual': 0.6320000290870667},\n",
       " 'sample_rate_per_class': {'default': None, 'actual': None},\n",
       " 'binomial_double_trees': {'default': False, 'actual': False},\n",
       " 'checkpoint': {'default': None, 'actual': None},\n",
       " 'col_sample_rate_change_per_level': {'default': 1.0, 'actual': 1.0},\n",
       " 'col_sample_rate_per_tree': {'default': 1.0, 'actual': 1.0},\n",
       " 'min_split_improvement': {'default': 1e-05, 'actual': 1e-05},\n",
       " 'histogram_type': {'default': 'AUTO', 'actual': 'AUTO'},\n",
       " 'categorical_encoding': {'default': 'AUTO', 'actual': 'AUTO'},\n",
       " 'calibrate_model': {'default': False, 'actual': False},\n",
       " 'calibration_frame': {'default': None, 'actual': None},\n",
       " 'distribution': {'default': 'AUTO', 'actual': 'gaussian'},\n",
       " 'custom_metric_func': {'default': None, 'actual': None},\n",
       " 'export_checkpoints_dir': {'default': None, 'actual': None}}"
      ]
     },
     "execution_count": 74,
     "metadata": {},
     "output_type": "execute_result"
    }
   ],
   "source": [
    "mod_best9=h2o.get_model(model_set[9])\n",
    "mod_best9.params"
   ]
  },
  {
   "cell_type": "code",
   "execution_count": 77,
   "metadata": {},
   "outputs": [],
   "source": [
    "hyperparameters = [mod_best9.params]\n",
    "hyperparameter_json(hyperparameters,'DRF1_500_seconds')"
   ]
  },
  {
   "cell_type": "code",
   "execution_count": 78,
   "metadata": {},
   "outputs": [
    {
     "data": {
      "text/plain": [
       "{'model_id': {'default': None,\n",
       "  'actual': {'__meta': {'schema_version': 3,\n",
       "    'schema_name': 'ModelKeyV3',\n",
       "    'schema_type': 'Key<Model>'},\n",
       "   'name': 'DRF_1_AutoML_20190415_211555',\n",
       "   'type': 'Key<Model>',\n",
       "   'URL': '/3/Models/DRF_1_AutoML_20190415_211555'}},\n",
       " 'training_frame': {'default': None,\n",
       "  'actual': {'__meta': {'schema_version': 3,\n",
       "    'schema_name': 'FrameKeyV3',\n",
       "    'schema_type': 'Key<Frame>'},\n",
       "   'name': 'automl_training_kc_house_data.hex',\n",
       "   'type': 'Key<Frame>',\n",
       "   'URL': '/3/Frames/automl_training_kc_house_data.hex'}},\n",
       " 'validation_frame': {'default': None, 'actual': None},\n",
       " 'nfolds': {'default': 0, 'actual': 5},\n",
       " 'keep_cross_validation_models': {'default': True, 'actual': False},\n",
       " 'keep_cross_validation_predictions': {'default': False, 'actual': True},\n",
       " 'keep_cross_validation_fold_assignment': {'default': False, 'actual': False},\n",
       " 'score_each_iteration': {'default': False, 'actual': False},\n",
       " 'score_tree_interval': {'default': 0, 'actual': 0},\n",
       " 'fold_assignment': {'default': 'AUTO', 'actual': 'Modulo'},\n",
       " 'fold_column': {'default': None, 'actual': None},\n",
       " 'response_column': {'default': None,\n",
       "  'actual': {'__meta': {'schema_version': 3,\n",
       "    'schema_name': 'ColSpecifierV3',\n",
       "    'schema_type': 'VecSpecifier'},\n",
       "   'column_name': 'price',\n",
       "   'is_member_of_frames': None}},\n",
       " 'ignored_columns': {'default': None, 'actual': []},\n",
       " 'ignore_const_cols': {'default': True, 'actual': True},\n",
       " 'offset_column': {'default': None, 'actual': None},\n",
       " 'weights_column': {'default': None, 'actual': None},\n",
       " 'balance_classes': {'default': False, 'actual': False},\n",
       " 'class_sampling_factors': {'default': None, 'actual': None},\n",
       " 'max_after_balance_size': {'default': 5.0, 'actual': 5.0},\n",
       " 'max_confusion_matrix_size': {'default': 20, 'actual': 20},\n",
       " 'max_hit_ratio_k': {'default': 0, 'actual': 0},\n",
       " 'ntrees': {'default': 50, 'actual': 50},\n",
       " 'max_depth': {'default': 20, 'actual': 20},\n",
       " 'min_rows': {'default': 1.0, 'actual': 1.0},\n",
       " 'nbins': {'default': 20, 'actual': 20},\n",
       " 'nbins_top_level': {'default': 1024, 'actual': 1024},\n",
       " 'nbins_cats': {'default': 1024, 'actual': 1024},\n",
       " 'r2_stopping': {'default': 1.7976931348623157e+308,\n",
       "  'actual': 1.7976931348623157e+308},\n",
       " 'stopping_rounds': {'default': 0, 'actual': 0},\n",
       " 'stopping_metric': {'default': 'AUTO', 'actual': 'deviance'},\n",
       " 'stopping_tolerance': {'default': 0.001, 'actual': 0.006802091556591675},\n",
       " 'max_runtime_secs': {'default': 0.0, 'actual': 0.0},\n",
       " 'seed': {'default': -1, 'actual': 3582472035998997326},\n",
       " 'build_tree_one_node': {'default': False, 'actual': False},\n",
       " 'mtries': {'default': -1, 'actual': -1},\n",
       " 'sample_rate': {'default': 0.6320000290870667, 'actual': 0.6320000290870667},\n",
       " 'sample_rate_per_class': {'default': None, 'actual': None},\n",
       " 'binomial_double_trees': {'default': False, 'actual': False},\n",
       " 'checkpoint': {'default': None, 'actual': None},\n",
       " 'col_sample_rate_change_per_level': {'default': 1.0, 'actual': 1.0},\n",
       " 'col_sample_rate_per_tree': {'default': 1.0, 'actual': 1.0},\n",
       " 'min_split_improvement': {'default': 1e-05, 'actual': 1e-05},\n",
       " 'histogram_type': {'default': 'AUTO', 'actual': 'AUTO'},\n",
       " 'categorical_encoding': {'default': 'AUTO', 'actual': 'AUTO'},\n",
       " 'calibrate_model': {'default': False, 'actual': False},\n",
       " 'calibration_frame': {'default': None, 'actual': None},\n",
       " 'distribution': {'default': 'AUTO', 'actual': 'gaussian'},\n",
       " 'custom_metric_func': {'default': None, 'actual': None},\n",
       " 'export_checkpoints_dir': {'default': None, 'actual': None}}"
      ]
     },
     "execution_count": 78,
     "metadata": {},
     "output_type": "execute_result"
    }
   ],
   "source": [
    "mod_best10=h2o.get_model(model_set[10])\n",
    "mod_best10.params"
   ]
  },
  {
   "cell_type": "code",
   "execution_count": 79,
   "metadata": {},
   "outputs": [],
   "source": [
    "hyperparameters = [mod_best10.params]\n",
    "hyperparameter_json(hyperparameters,'DRF2_500_seconds')"
   ]
  },
  {
   "cell_type": "code",
   "execution_count": 82,
   "metadata": {},
   "outputs": [
    {
     "name": "stdout",
     "output_type": "stream",
     "text": [
      "Model Details\n",
      "=============\n",
      "H2ORandomForestEstimator :  Distributed Random Forest\n",
      "Model Key:  XRT_1_AutoML_20190415_212612\n",
      "\n",
      "\n",
      "ModelMetricsRegression: drf\n",
      "** Reported on train data. **\n",
      "\n",
      "MSE: 18937730395.824776\n",
      "RMSE: 137614.42655413994\n",
      "MAE: 74778.13522114372\n",
      "RMSLE: 0.18602423592774556\n",
      "Mean Residual Deviance: 18937730395.824776\n",
      "\n",
      "ModelMetricsRegression: drf\n",
      "** Reported on cross-validation data. **\n",
      "\n",
      "MSE: 17626462803.094093\n",
      "RMSE: 132764.6895943876\n",
      "MAE: 73268.32452943541\n",
      "RMSLE: 0.18318894493295276\n",
      "Mean Residual Deviance: 17626462803.094093\n",
      "Cross-Validation Metrics Summary: \n"
     ]
    },
    {
     "data": {
      "text/html": [
       "<div style=\"overflow:auto\"><table style=\"width:50%\"><tr><td><b></b></td>\n",
       "<td><b>mean</b></td>\n",
       "<td><b>sd</b></td>\n",
       "<td><b>cv_1_valid</b></td>\n",
       "<td><b>cv_2_valid</b></td>\n",
       "<td><b>cv_3_valid</b></td>\n",
       "<td><b>cv_4_valid</b></td>\n",
       "<td><b>cv_5_valid</b></td></tr>\n",
       "<tr><td>mae</td>\n",
       "<td>73268.29</td>\n",
       "<td>534.4192</td>\n",
       "<td>74244.81</td>\n",
       "<td>72681.53</td>\n",
       "<td>73581.67</td>\n",
       "<td>72138.02</td>\n",
       "<td>73695.42</td></tr>\n",
       "<tr><td>mean_residual_deviance</td>\n",
       "<td>17626470400.0000000</td>\n",
       "<td>849258180.0000000</td>\n",
       "<td>17945980900.0000000</td>\n",
       "<td>16529925100.0000000</td>\n",
       "<td>18219049000.0000000</td>\n",
       "<td>16054409200.0000000</td>\n",
       "<td>19382992900.0000000</td></tr>\n",
       "<tr><td>mse</td>\n",
       "<td>17626470400.0000000</td>\n",
       "<td>849258180.0000000</td>\n",
       "<td>17945980900.0000000</td>\n",
       "<td>16529925100.0000000</td>\n",
       "<td>18219049000.0000000</td>\n",
       "<td>16054409200.0000000</td>\n",
       "<td>19382992900.0000000</td></tr>\n",
       "<tr><td>r2</td>\n",
       "<td>0.8694342</td>\n",
       "<td>0.0037373</td>\n",
       "<td>0.8683518</td>\n",
       "<td>0.8672432</td>\n",
       "<td>0.8695064</td>\n",
       "<td>0.8790526</td>\n",
       "<td>0.8630171</td></tr>\n",
       "<tr><td>residual_deviance</td>\n",
       "<td>17626470400.0000000</td>\n",
       "<td>849258180.0000000</td>\n",
       "<td>17945980900.0000000</td>\n",
       "<td>16529925100.0000000</td>\n",
       "<td>18219049000.0000000</td>\n",
       "<td>16054409200.0000000</td>\n",
       "<td>19382992900.0000000</td></tr>\n",
       "<tr><td>rmse</td>\n",
       "<td>132687.62</td>\n",
       "<td>3198.8264</td>\n",
       "<td>133962.61</td>\n",
       "<td>128568.76</td>\n",
       "<td>134977.95</td>\n",
       "<td>126705.99</td>\n",
       "<td>139222.81</td></tr>\n",
       "<tr><td>rmsle</td>\n",
       "<td>0.1831785</td>\n",
       "<td>0.0013763</td>\n",
       "<td>0.1840113</td>\n",
       "<td>0.1815668</td>\n",
       "<td>0.1863896</td>\n",
       "<td>0.1808713</td>\n",
       "<td>0.1830534</td></tr></table></div>"
      ],
      "text/plain": [
       "                        mean         sd           cv_1_valid    cv_2_valid    cv_3_valid    cv_4_valid    cv_5_valid\n",
       "----------------------  -----------  -----------  ------------  ------------  ------------  ------------  ------------\n",
       "mae                     73268.3      534.419      74244.8       72681.5       73581.7       72138         73695.4\n",
       "mean_residual_deviance  1.76265e+10  8.49258e+08  1.7946e+10    1.65299e+10   1.8219e+10    1.60544e+10   1.9383e+10\n",
       "mse                     1.76265e+10  8.49258e+08  1.7946e+10    1.65299e+10   1.8219e+10    1.60544e+10   1.9383e+10\n",
       "r2                      0.869434     0.00373725   0.868352      0.867243      0.869506      0.879053      0.863017\n",
       "residual_deviance       1.76265e+10  8.49258e+08  1.7946e+10    1.65299e+10   1.8219e+10    1.60544e+10   1.9383e+10\n",
       "rmse                    132688       3198.83      133963        128569        134978        126706        139223\n",
       "rmsle                   0.183178     0.00137627   0.184011      0.181567      0.18639       0.180871      0.183053"
      ]
     },
     "metadata": {},
     "output_type": "execute_result"
    },
    {
     "name": "stdout",
     "output_type": "stream",
     "text": [
      "Scoring History: \n"
     ]
    },
    {
     "data": {
      "text/html": [
       "<div style=\"overflow:auto\"><table style=\"width:50%\"><tr><td><b></b></td>\n",
       "<td><b>timestamp</b></td>\n",
       "<td><b>duration</b></td>\n",
       "<td><b>number_of_trees</b></td>\n",
       "<td><b>training_rmse</b></td>\n",
       "<td><b>training_mae</b></td>\n",
       "<td><b>training_deviance</b></td></tr>\n",
       "<tr><td></td>\n",
       "<td>2019-04-15 21:30:35</td>\n",
       "<td> 2 min 22.385 sec</td>\n",
       "<td>0.0</td>\n",
       "<td>nan</td>\n",
       "<td>nan</td>\n",
       "<td>nan</td></tr>\n",
       "<tr><td></td>\n",
       "<td>2019-04-15 21:30:35</td>\n",
       "<td> 2 min 22.935 sec</td>\n",
       "<td>1.0</td>\n",
       "<td>220827.0002503</td>\n",
       "<td>116296.4033087</td>\n",
       "<td>48764564039.5421982</td></tr>\n",
       "<tr><td></td>\n",
       "<td>2019-04-15 21:30:36</td>\n",
       "<td> 2 min 23.498 sec</td>\n",
       "<td>2.0</td>\n",
       "<td>209752.7325560</td>\n",
       "<td>110469.5156165</td>\n",
       "<td>43996208814.7262955</td></tr>\n",
       "<tr><td></td>\n",
       "<td>2019-04-15 21:30:37</td>\n",
       "<td> 2 min 24.078 sec</td>\n",
       "<td>3.0</td>\n",
       "<td>203773.8647017</td>\n",
       "<td>105663.4944436</td>\n",
       "<td>41523787935.4592361</td></tr>\n",
       "<tr><td></td>\n",
       "<td>2019-04-15 21:30:37</td>\n",
       "<td> 2 min 24.694 sec</td>\n",
       "<td>4.0</td>\n",
       "<td>193490.8678526</td>\n",
       "<td>101971.2248846</td>\n",
       "<td>37438715942.3527451</td></tr>\n",
       "<tr><td></td>\n",
       "<td>2019-04-15 21:30:38</td>\n",
       "<td> 2 min 25.287 sec</td>\n",
       "<td>5.0</td>\n",
       "<td>186764.0349779</td>\n",
       "<td>99901.9508356</td>\n",
       "<td>34880804761.2300949</td></tr>\n",
       "<tr><td></td>\n",
       "<td>2019-04-15 21:30:38</td>\n",
       "<td> 2 min 25.888 sec</td>\n",
       "<td>6.0</td>\n",
       "<td>183382.9836914</td>\n",
       "<td>97053.9308096</td>\n",
       "<td>33629318707.5493736</td></tr>\n",
       "<tr><td></td>\n",
       "<td>2019-04-15 21:30:43</td>\n",
       "<td> 2 min 30.004 sec</td>\n",
       "<td>13.0</td>\n",
       "<td>156161.7988090</td>\n",
       "<td>85418.2471662</td>\n",
       "<td>24386507407.2604904</td></tr>\n",
       "<tr><td></td>\n",
       "<td>2019-04-15 21:30:47</td>\n",
       "<td> 2 min 34.538 sec</td>\n",
       "<td>20.0</td>\n",
       "<td>145292.6070490</td>\n",
       "<td>79917.7577923</td>\n",
       "<td>21109941663.0882530</td></tr>\n",
       "<tr><td></td>\n",
       "<td>2019-04-15 21:30:52</td>\n",
       "<td> 2 min 39.154 sec</td>\n",
       "<td>26.0</td>\n",
       "<td>143442.3772177</td>\n",
       "<td>77973.9773965</td>\n",
       "<td>20575715581.8739204</td></tr>\n",
       "<tr><td></td>\n",
       "<td>2019-04-15 21:30:56</td>\n",
       "<td> 2 min 43.200 sec</td>\n",
       "<td>31.0</td>\n",
       "<td>142040.2619059</td>\n",
       "<td>77021.6689228</td>\n",
       "<td>20175436002.2861137</td></tr>\n",
       "<tr><td></td>\n",
       "<td>2019-04-15 21:31:00</td>\n",
       "<td> 2 min 47.526 sec</td>\n",
       "<td>38.0</td>\n",
       "<td>140776.2865587</td>\n",
       "<td>75878.8097492</td>\n",
       "<td>19817962857.2490997</td></tr>\n",
       "<tr><td></td>\n",
       "<td>2019-04-15 21:31:04</td>\n",
       "<td> 2 min 51.924 sec</td>\n",
       "<td>45.0</td>\n",
       "<td>138535.9676581</td>\n",
       "<td>75159.6719023</td>\n",
       "<td>19192214334.9788513</td></tr>\n",
       "<tr><td></td>\n",
       "<td>2019-04-15 21:31:08</td>\n",
       "<td> 2 min 55.212 sec</td>\n",
       "<td>50.0</td>\n",
       "<td>137614.4265541</td>\n",
       "<td>74778.1352211</td>\n",
       "<td>18937730395.8247757</td></tr></table></div>"
      ],
      "text/plain": [
       "    timestamp            duration          number_of_trees    training_rmse    training_mae    training_deviance\n",
       "--  -------------------  ----------------  -----------------  ---------------  --------------  -------------------\n",
       "    2019-04-15 21:30:35  2 min 22.385 sec  0                  nan              nan             nan\n",
       "    2019-04-15 21:30:35  2 min 22.935 sec  1                  220827           116296          4.87646e+10\n",
       "    2019-04-15 21:30:36  2 min 23.498 sec  2                  209753           110470          4.39962e+10\n",
       "    2019-04-15 21:30:37  2 min 24.078 sec  3                  203774           105663          4.15238e+10\n",
       "    2019-04-15 21:30:37  2 min 24.694 sec  4                  193491           101971          3.74387e+10\n",
       "    2019-04-15 21:30:38  2 min 25.287 sec  5                  186764           99902           3.48808e+10\n",
       "    2019-04-15 21:30:38  2 min 25.888 sec  6                  183383           97053.9         3.36293e+10\n",
       "    2019-04-15 21:30:43  2 min 30.004 sec  13                 156162           85418.2         2.43865e+10\n",
       "    2019-04-15 21:30:47  2 min 34.538 sec  20                 145293           79917.8         2.11099e+10\n",
       "    2019-04-15 21:30:52  2 min 39.154 sec  26                 143442           77974           2.05757e+10\n",
       "    2019-04-15 21:30:56  2 min 43.200 sec  31                 142040           77021.7         2.01754e+10\n",
       "    2019-04-15 21:31:00  2 min 47.526 sec  38                 140776           75878.8         1.9818e+10\n",
       "    2019-04-15 21:31:04  2 min 51.924 sec  45                 138536           75159.7         1.91922e+10\n",
       "    2019-04-15 21:31:08  2 min 55.212 sec  50                 137614           74778.1         1.89377e+10"
      ]
     },
     "metadata": {},
     "output_type": "execute_result"
    },
    {
     "name": "stdout",
     "output_type": "stream",
     "text": [
      "Variable Importances: \n"
     ]
    },
    {
     "data": {
      "text/html": [
       "<div style=\"overflow:auto\"><table style=\"width:50%\"><tr><td><b>variable</b></td>\n",
       "<td><b>relative_importance</b></td>\n",
       "<td><b>scaled_importance</b></td>\n",
       "<td><b>percentage</b></td></tr>\n",
       "<tr><td>grade</td>\n",
       "<td>28488262523813888.0000000</td>\n",
       "<td>1.0</td>\n",
       "<td>0.2172395</td></tr>\n",
       "<tr><td>date</td>\n",
       "<td>23956921702678528.0000000</td>\n",
       "<td>0.8409401</td>\n",
       "<td>0.1826854</td></tr>\n",
       "<tr><td>sqft_living</td>\n",
       "<td>19099689500540928.0000000</td>\n",
       "<td>0.6704407</td>\n",
       "<td>0.1456462</td></tr>\n",
       "<tr><td>lat</td>\n",
       "<td>12628495561654272.0000000</td>\n",
       "<td>0.4432877</td>\n",
       "<td>0.0962996</td></tr>\n",
       "<tr><td>bathrooms</td>\n",
       "<td>9764094898864128.0000000</td>\n",
       "<td>0.3427410</td>\n",
       "<td>0.0744569</td></tr>\n",
       "<tr><td>sqft_living15</td>\n",
       "<td>8275283677282304.0000000</td>\n",
       "<td>0.2904805</td>\n",
       "<td>0.0631038</td></tr>\n",
       "<tr><td>sqft_above</td>\n",
       "<td>7251288311988224.0000000</td>\n",
       "<td>0.2545360</td>\n",
       "<td>0.0552953</td></tr>\n",
       "<tr><td>long</td>\n",
       "<td>4983625573466112.0000000</td>\n",
       "<td>0.1749361</td>\n",
       "<td>0.0380030</td></tr>\n",
       "<tr><td>yr_built</td>\n",
       "<td>3099904188612608.0000000</td>\n",
       "<td>0.1088134</td>\n",
       "<td>0.0236386</td></tr>\n",
       "<tr><td>view</td>\n",
       "<td>2867548068511744.0000000</td>\n",
       "<td>0.1006572</td>\n",
       "<td>0.0218667</td></tr>\n",
       "<tr><td>waterfront</td>\n",
       "<td>2068087151001600.0000000</td>\n",
       "<td>0.0725944</td>\n",
       "<td>0.0157704</td></tr>\n",
       "<tr><td>zipcode</td>\n",
       "<td>1884394352541696.0000000</td>\n",
       "<td>0.0661463</td>\n",
       "<td>0.0143696</td></tr>\n",
       "<tr><td>sqft_basement</td>\n",
       "<td>1450388712587264.0000000</td>\n",
       "<td>0.0509118</td>\n",
       "<td>0.0110601</td></tr>\n",
       "<tr><td>id</td>\n",
       "<td>1127694666301440.0000000</td>\n",
       "<td>0.0395845</td>\n",
       "<td>0.0085993</td></tr>\n",
       "<tr><td>sqft_lot</td>\n",
       "<td>1062384051421184.0000000</td>\n",
       "<td>0.0372920</td>\n",
       "<td>0.0081013</td></tr>\n",
       "<tr><td>sqft_lot15</td>\n",
       "<td>931615316377600.0000000</td>\n",
       "<td>0.0327017</td>\n",
       "<td>0.0071041</td></tr>\n",
       "<tr><td>bedrooms</td>\n",
       "<td>729755812888576.0000000</td>\n",
       "<td>0.0256160</td>\n",
       "<td>0.0055648</td></tr>\n",
       "<tr><td>floors</td>\n",
       "<td>643046060326912.0000000</td>\n",
       "<td>0.0225723</td>\n",
       "<td>0.0049036</td></tr>\n",
       "<tr><td>condition</td>\n",
       "<td>536524798033920.0000000</td>\n",
       "<td>0.0188332</td>\n",
       "<td>0.0040913</td></tr>\n",
       "<tr><td>yr_renovated</td>\n",
       "<td>288552277508096.0000000</td>\n",
       "<td>0.0101288</td>\n",
       "<td>0.0022004</td></tr></table></div>"
      ],
      "text/plain": [
       "variable       relative_importance    scaled_importance    percentage\n",
       "-------------  ---------------------  -------------------  ------------\n",
       "grade          2.84883e+16            1                    0.21724\n",
       "date           2.39569e+16            0.84094              0.182685\n",
       "sqft_living    1.90997e+16            0.670441             0.145646\n",
       "lat            1.26285e+16            0.443288             0.0962996\n",
       "bathrooms      9.76409e+15            0.342741             0.0744569\n",
       "sqft_living15  8.27528e+15            0.29048              0.0631038\n",
       "sqft_above     7.25129e+15            0.254536             0.0552953\n",
       "long           4.98363e+15            0.174936             0.038003\n",
       "yr_built       3.0999e+15             0.108813             0.0236386\n",
       "view           2.86755e+15            0.100657             0.0218667\n",
       "waterfront     2.06809e+15            0.0725944            0.0157704\n",
       "zipcode        1.88439e+15            0.0661463            0.0143696\n",
       "sqft_basement  1.45039e+15            0.0509118            0.0110601\n",
       "id             1.12769e+15            0.0395845            0.00859933\n",
       "sqft_lot       1.06238e+15            0.037292             0.0081013\n",
       "sqft_lot15     9.31615e+14            0.0327017            0.00710411\n",
       "bedrooms       7.29756e+14            0.025616             0.00556481\n",
       "floors         6.43046e+14            0.0225723            0.0049036\n",
       "condition      5.36525e+14            0.0188332            0.00409131\n",
       "yr_renovated   2.88552e+14            0.0101288            0.00220038"
      ]
     },
     "metadata": {},
     "output_type": "execute_result"
    },
    {
     "data": {
      "text/plain": []
     },
     "execution_count": 82,
     "metadata": {},
     "output_type": "execute_result"
    }
   ],
   "source": [
    "# view best model \n",
    "best = aml.leader\n",
    "best "
   ]
  },
  {
   "cell_type": "code",
   "execution_count": 89,
   "metadata": {},
   "outputs": [
    {
     "data": {
      "text/plain": [
       "'drf'"
      ]
     },
     "execution_count": 89,
     "metadata": {},
     "output_type": "execute_result"
    }
   ],
   "source": [
    "best_model = h2o.get_model(aml.leaderboard[0,'model_id'])#Getting the best model based on the leaderboard\n",
    "best_model.algo"
   ]
  },
  {
   "cell_type": "markdown",
   "metadata": {},
   "source": [
    "# 700 Seconds"
   ]
  },
  {
   "cell_type": "code",
   "execution_count": 70,
   "metadata": {},
   "outputs": [],
   "source": [
    "project =\"automl_run\"\n",
    "run_time=700"
   ]
  },
  {
   "cell_type": "code",
   "execution_count": 71,
   "metadata": {},
   "outputs": [
    {
     "name": "stdout",
     "output_type": "stream",
     "text": [
      "AutoML progress: |████████████████████████████████████████████████████████| 100%\n"
     ]
    }
   ],
   "source": [
    "aml = H2OAutoML(max_runtime_secs=run_time,project_name = project) # init automl, run for 500 seconds\n",
    "aml.train(x=X,  \n",
    "           y=y,\n",
    "           training_frame=df)"
   ]
  },
  {
   "cell_type": "code",
   "execution_count": 72,
   "metadata": {},
   "outputs": [
    {
     "name": "stdout",
     "output_type": "stream",
     "text": [
      "YfC3rnqOaw\n"
     ]
    }
   ],
   "source": [
    "runid=run_id(10)\n",
    "if server_path==None:\n",
    "    server_path=os.path.abspath(os.curdir)\n",
    "os.chdir(server_path) \n",
    "run_dir = os.path.join(server_path,runid)\n",
    "os.mkdir(run_dir)\n",
    "os.chdir(run_dir)    \n",
    "\n",
    "# run_id to std out\n",
    "print (runid)"
   ]
  },
  {
   "cell_type": "code",
   "execution_count": 22,
   "metadata": {},
   "outputs": [
    {
     "data": {
      "text/html": [
       "<table>\n",
       "<thead>\n",
       "<tr><th>model_id                                           </th><th style=\"text-align: right;\">  mean_residual_deviance</th><th style=\"text-align: right;\">  rmse</th><th style=\"text-align: right;\">        mse</th><th style=\"text-align: right;\">     mae</th><th style=\"text-align: right;\">     rmsle</th></tr>\n",
       "</thead>\n",
       "<tbody>\n",
       "<tr><td>XRT_1_AutoML_20190416_102359                       </td><td style=\"text-align: right;\">             1.83029e+10</td><td style=\"text-align: right;\">135288</td><td style=\"text-align: right;\">1.83029e+10</td><td style=\"text-align: right;\"> 73472.3</td><td style=\"text-align: right;\">  0.184148</td></tr>\n",
       "<tr><td>DeepLearning_1_AutoML_20190416_102359              </td><td style=\"text-align: right;\">             2.06752e+10</td><td style=\"text-align: right;\">143789</td><td style=\"text-align: right;\">2.06752e+10</td><td style=\"text-align: right;\"> 85999.9</td><td style=\"text-align: right;\">  0.212836</td></tr>\n",
       "<tr><td>GBM_grid_1_AutoML_20190416_102359_model_1          </td><td style=\"text-align: right;\">             2.32787e+10</td><td style=\"text-align: right;\">152574</td><td style=\"text-align: right;\">2.32787e+10</td><td style=\"text-align: right;\"> 79337  </td><td style=\"text-align: right;\">  0.192312</td></tr>\n",
       "<tr><td>GBM_1_AutoML_20190416_102359                       </td><td style=\"text-align: right;\">             2.39859e+10</td><td style=\"text-align: right;\">154874</td><td style=\"text-align: right;\">2.39859e+10</td><td style=\"text-align: right;\"> 79910.5</td><td style=\"text-align: right;\">  0.191558</td></tr>\n",
       "<tr><td>DeepLearning_grid_1_AutoML_20190416_102359_model_1 </td><td style=\"text-align: right;\">             2.42318e+10</td><td style=\"text-align: right;\">155666</td><td style=\"text-align: right;\">2.42318e+10</td><td style=\"text-align: right;\"> 93651.4</td><td style=\"text-align: right;\">nan       </td></tr>\n",
       "<tr><td>DeepLearning_grid_1_AutoML_20190416_102359_model_2 </td><td style=\"text-align: right;\">             2.43735e+10</td><td style=\"text-align: right;\">156120</td><td style=\"text-align: right;\">2.43735e+10</td><td style=\"text-align: right;\"> 89142.7</td><td style=\"text-align: right;\">  0.210536</td></tr>\n",
       "<tr><td>GBM_3_AutoML_20190416_102359                       </td><td style=\"text-align: right;\">             2.45314e+10</td><td style=\"text-align: right;\">156625</td><td style=\"text-align: right;\">2.45314e+10</td><td style=\"text-align: right;\"> 81308.3</td><td style=\"text-align: right;\">  0.194879</td></tr>\n",
       "<tr><td>GBM_2_AutoML_20190416_102359                       </td><td style=\"text-align: right;\">             2.45739e+10</td><td style=\"text-align: right;\">156761</td><td style=\"text-align: right;\">2.45739e+10</td><td style=\"text-align: right;\"> 80998.5</td><td style=\"text-align: right;\">  0.193553</td></tr>\n",
       "<tr><td>GBM_grid_1_AutoML_20190416_102359_model_2          </td><td style=\"text-align: right;\">             2.56772e+10</td><td style=\"text-align: right;\">160241</td><td style=\"text-align: right;\">2.56772e+10</td><td style=\"text-align: right;\"> 81458.4</td><td style=\"text-align: right;\">  0.198495</td></tr>\n",
       "<tr><td>GBM_4_AutoML_20190416_102359                       </td><td style=\"text-align: right;\">             2.61078e+10</td><td style=\"text-align: right;\">161579</td><td style=\"text-align: right;\">2.61078e+10</td><td style=\"text-align: right;\"> 83255  </td><td style=\"text-align: right;\">  0.199277</td></tr>\n",
       "<tr><td>GBM_5_AutoML_20190416_102359                       </td><td style=\"text-align: right;\">             2.65838e+10</td><td style=\"text-align: right;\">163045</td><td style=\"text-align: right;\">2.65838e+10</td><td style=\"text-align: right;\"> 83634.1</td><td style=\"text-align: right;\">  0.198975</td></tr>\n",
       "<tr><td>DRF_1_AutoML_20190416_102359                       </td><td style=\"text-align: right;\">             2.68242e+10</td><td style=\"text-align: right;\">163781</td><td style=\"text-align: right;\">2.68242e+10</td><td style=\"text-align: right;\"> 84240.3</td><td style=\"text-align: right;\">  0.201843</td></tr>\n",
       "<tr><td>DeepLearning_grid_1_AutoML_20190416_102359_model_3 </td><td style=\"text-align: right;\">             3.54966e+10</td><td style=\"text-align: right;\">188405</td><td style=\"text-align: right;\">3.54966e+10</td><td style=\"text-align: right;\">149634  </td><td style=\"text-align: right;\">  0.382594</td></tr>\n",
       "<tr><td>StackedEnsemble_AllModels_AutoML_20190416_102359   </td><td style=\"text-align: right;\">             1.28433e+11</td><td style=\"text-align: right;\">358375</td><td style=\"text-align: right;\">1.28433e+11</td><td style=\"text-align: right;\">227757  </td><td style=\"text-align: right;\">  0.533376</td></tr>\n",
       "<tr><td>StackedEnsemble_BestOfFamily_AutoML_20190416_102359</td><td style=\"text-align: right;\">             1.32847e+11</td><td style=\"text-align: right;\">364482</td><td style=\"text-align: right;\">1.32847e+11</td><td style=\"text-align: right;\">232074  </td><td style=\"text-align: right;\">  0.543471</td></tr>\n",
       "<tr><td>GLM_grid_1_AutoML_20190416_102359_model_1          </td><td style=\"text-align: right;\">             1.34955e+11</td><td style=\"text-align: right;\">367363</td><td style=\"text-align: right;\">1.34955e+11</td><td style=\"text-align: right;\">234075  </td><td style=\"text-align: right;\">  0.548253</td></tr>\n",
       "</tbody>\n",
       "</table>"
      ]
     },
     "metadata": {},
     "output_type": "execute_result"
    },
    {
     "data": {
      "text/plain": []
     },
     "execution_count": 22,
     "metadata": {},
     "output_type": "execute_result"
    }
   ],
   "source": [
    "# view leaderboard\n",
    "lb = aml.leaderboard\n",
    "lb.head(500)"
   ]
  },
  {
   "cell_type": "code",
   "execution_count": 23,
   "metadata": {},
   "outputs": [
    {
     "data": {
      "text/plain": [
       "0                          XRT_1_AutoML_20190416_102359\n",
       "1                 DeepLearning_1_AutoML_20190416_102359\n",
       "2             GBM_grid_1_AutoML_20190416_102359_model_1\n",
       "3                          GBM_1_AutoML_20190416_102359\n",
       "4     DeepLearning_grid_1_AutoML_20190416_102359_mod...\n",
       "5     DeepLearning_grid_1_AutoML_20190416_102359_mod...\n",
       "6                          GBM_3_AutoML_20190416_102359\n",
       "7                          GBM_2_AutoML_20190416_102359\n",
       "8             GBM_grid_1_AutoML_20190416_102359_model_2\n",
       "9                          GBM_4_AutoML_20190416_102359\n",
       "10                         GBM_5_AutoML_20190416_102359\n",
       "11                         DRF_1_AutoML_20190416_102359\n",
       "12    DeepLearning_grid_1_AutoML_20190416_102359_mod...\n",
       "13     StackedEnsemble_AllModels_AutoML_20190416_102359\n",
       "14    StackedEnsemble_BestOfFamily_AutoML_20190416_1...\n",
       "15            GLM_grid_1_AutoML_20190416_102359_model_1\n",
       "Name: model_id, dtype: object"
      ]
     },
     "execution_count": 23,
     "metadata": {},
     "output_type": "execute_result"
    }
   ],
   "source": [
    "aml_leaderboard_df=aml.leaderboard.as_data_frame()\n",
    "model_set=aml_leaderboard_df['model_id']\n",
    "model_set"
   ]
  },
  {
   "cell_type": "code",
   "execution_count": 73,
   "metadata": {},
   "outputs": [
    {
     "name": "stdout",
     "output_type": "stream",
     "text": [
      "{'start_time': 1555517307.7962842, 'target': 'price', 'server_path': 'C:\\\\Users\\\\Samartha\\\\Desktop\\\\ML_Project\\\\8b8zChwtBp\\\\rnPfAUKCEQ\\\\ER0YMNYr4\\\\LG06TboLD', 'data_path': None, 'test_path': None, 'max_models': 10, 'run_time': 700, 'run_id': 'YfC3rnqOaw', 'regression': True, 'scale': False, 'model_path': None, 'balance': False, 'balance_threshold': 0.2, 'project': None, 'end_time': 1555517307.7962842, 'execution_time': 0.0, 'run_path': 'C:\\\\Users\\\\Samartha\\\\Desktop\\\\ML_Project\\\\8b8zChwtBp\\\\rnPfAUKCEQ\\\\ER0YMNYr4\\\\LG06TboLD\\\\YfC3rnqOaw', 'nthreads': 1, 'min_mem_size': 6}\n"
     ]
    }
   ],
   "source": [
    "# meta data\n",
    "metadata = meta_data(runid,server_path,data_path,test_path,model_path,target,run_time,regression,max_models,balance_y,balance_threshold,name,run_dir,nthreads,min_mem_size)\n",
    "print(metadata)"
   ]
  },
  {
   "cell_type": "markdown",
   "metadata": {},
   "source": [
    "### XRT 700 Seconds"
   ]
  },
  {
   "cell_type": "code",
   "execution_count": 24,
   "metadata": {},
   "outputs": [
    {
     "data": {
      "text/plain": [
       "{'model_id': {'default': None,\n",
       "  'actual': {'__meta': {'schema_version': 3,\n",
       "    'schema_name': 'ModelKeyV3',\n",
       "    'schema_type': 'Key<Model>'},\n",
       "   'name': 'XRT_1_AutoML_20190416_102359',\n",
       "   'type': 'Key<Model>',\n",
       "   'URL': '/3/Models/XRT_1_AutoML_20190416_102359'}},\n",
       " 'training_frame': {'default': None,\n",
       "  'actual': {'__meta': {'schema_version': 3,\n",
       "    'schema_name': 'FrameKeyV3',\n",
       "    'schema_type': 'Key<Frame>'},\n",
       "   'name': 'automl_training_kc_house_data.hex',\n",
       "   'type': 'Key<Frame>',\n",
       "   'URL': '/3/Frames/automl_training_kc_house_data.hex'}},\n",
       " 'validation_frame': {'default': None, 'actual': None},\n",
       " 'nfolds': {'default': 0, 'actual': 5},\n",
       " 'keep_cross_validation_models': {'default': True, 'actual': False},\n",
       " 'keep_cross_validation_predictions': {'default': False, 'actual': True},\n",
       " 'keep_cross_validation_fold_assignment': {'default': False, 'actual': False},\n",
       " 'score_each_iteration': {'default': False, 'actual': False},\n",
       " 'score_tree_interval': {'default': 0, 'actual': 0},\n",
       " 'fold_assignment': {'default': 'AUTO', 'actual': 'Modulo'},\n",
       " 'fold_column': {'default': None, 'actual': None},\n",
       " 'response_column': {'default': None,\n",
       "  'actual': {'__meta': {'schema_version': 3,\n",
       "    'schema_name': 'ColSpecifierV3',\n",
       "    'schema_type': 'VecSpecifier'},\n",
       "   'column_name': 'price',\n",
       "   'is_member_of_frames': None}},\n",
       " 'ignored_columns': {'default': None, 'actual': []},\n",
       " 'ignore_const_cols': {'default': True, 'actual': True},\n",
       " 'offset_column': {'default': None, 'actual': None},\n",
       " 'weights_column': {'default': None, 'actual': None},\n",
       " 'balance_classes': {'default': False, 'actual': False},\n",
       " 'class_sampling_factors': {'default': None, 'actual': None},\n",
       " 'max_after_balance_size': {'default': 5.0, 'actual': 5.0},\n",
       " 'max_confusion_matrix_size': {'default': 20, 'actual': 20},\n",
       " 'max_hit_ratio_k': {'default': 0, 'actual': 0},\n",
       " 'ntrees': {'default': 50, 'actual': 50},\n",
       " 'max_depth': {'default': 20, 'actual': 20},\n",
       " 'min_rows': {'default': 1.0, 'actual': 1.0},\n",
       " 'nbins': {'default': 20, 'actual': 20},\n",
       " 'nbins_top_level': {'default': 1024, 'actual': 1024},\n",
       " 'nbins_cats': {'default': 1024, 'actual': 1024},\n",
       " 'r2_stopping': {'default': 1.7976931348623157e+308,\n",
       "  'actual': 1.7976931348623157e+308},\n",
       " 'stopping_rounds': {'default': 0, 'actual': 0},\n",
       " 'stopping_metric': {'default': 'AUTO', 'actual': 'deviance'},\n",
       " 'stopping_tolerance': {'default': 0.001, 'actual': 0.006802091556591675},\n",
       " 'max_runtime_secs': {'default': 0.0, 'actual': 0.0},\n",
       " 'seed': {'default': -1, 'actual': -893774886866376391},\n",
       " 'build_tree_one_node': {'default': False, 'actual': False},\n",
       " 'mtries': {'default': -1, 'actual': -1},\n",
       " 'sample_rate': {'default': 0.6320000290870667, 'actual': 0.6320000290870667},\n",
       " 'sample_rate_per_class': {'default': None, 'actual': None},\n",
       " 'binomial_double_trees': {'default': False, 'actual': False},\n",
       " 'checkpoint': {'default': None, 'actual': None},\n",
       " 'col_sample_rate_change_per_level': {'default': 1.0, 'actual': 1.0},\n",
       " 'col_sample_rate_per_tree': {'default': 1.0, 'actual': 1.0},\n",
       " 'min_split_improvement': {'default': 1e-05, 'actual': 1e-05},\n",
       " 'histogram_type': {'default': 'AUTO', 'actual': 'Random'},\n",
       " 'categorical_encoding': {'default': 'AUTO', 'actual': 'AUTO'},\n",
       " 'calibrate_model': {'default': False, 'actual': False},\n",
       " 'calibration_frame': {'default': None, 'actual': None},\n",
       " 'distribution': {'default': 'AUTO', 'actual': 'gaussian'},\n",
       " 'custom_metric_func': {'default': None, 'actual': None},\n",
       " 'export_checkpoints_dir': {'default': None, 'actual': None}}"
      ]
     },
     "execution_count": 24,
     "metadata": {},
     "output_type": "execute_result"
    }
   ],
   "source": [
    "aml_leaderboard_df=aml.leaderboard.as_data_frame()\n",
    "model_set=aml_leaderboard_df['model_id']\n",
    "mod_best0=h2o.get_model(model_set[0])\n",
    "mod_best0.params"
   ]
  },
  {
   "cell_type": "code",
   "execution_count": 25,
   "metadata": {},
   "outputs": [],
   "source": [
    "hyperparameters = [mod_best0.params]\n",
    "hyperparameter_json(hyperparameters,'XRT_700_seconds')"
   ]
  },
  {
   "cell_type": "markdown",
   "metadata": {},
   "source": [
    "### GBM 700 SECONDS\n"
   ]
  },
  {
   "cell_type": "code",
   "execution_count": 26,
   "metadata": {},
   "outputs": [
    {
     "data": {
      "text/plain": [
       "{'model_id': {'default': None,\n",
       "  'actual': {'__meta': {'schema_version': 3,\n",
       "    'schema_name': 'ModelKeyV3',\n",
       "    'schema_type': 'Key<Model>'},\n",
       "   'name': 'GBM_5_AutoML_20190416_102359',\n",
       "   'type': 'Key<Model>',\n",
       "   'URL': '/3/Models/GBM_5_AutoML_20190416_102359'}},\n",
       " 'training_frame': {'default': None,\n",
       "  'actual': {'__meta': {'schema_version': 3,\n",
       "    'schema_name': 'FrameKeyV3',\n",
       "    'schema_type': 'Key<Frame>'},\n",
       "   'name': 'automl_training_kc_house_data.hex',\n",
       "   'type': 'Key<Frame>',\n",
       "   'URL': '/3/Frames/automl_training_kc_house_data.hex'}},\n",
       " 'validation_frame': {'default': None, 'actual': None},\n",
       " 'nfolds': {'default': 0, 'actual': 5},\n",
       " 'keep_cross_validation_models': {'default': True, 'actual': False},\n",
       " 'keep_cross_validation_predictions': {'default': False, 'actual': True},\n",
       " 'keep_cross_validation_fold_assignment': {'default': False, 'actual': False},\n",
       " 'score_each_iteration': {'default': False, 'actual': False},\n",
       " 'score_tree_interval': {'default': 0, 'actual': 5},\n",
       " 'fold_assignment': {'default': 'AUTO', 'actual': 'Modulo'},\n",
       " 'fold_column': {'default': None, 'actual': None},\n",
       " 'response_column': {'default': None,\n",
       "  'actual': {'__meta': {'schema_version': 3,\n",
       "    'schema_name': 'ColSpecifierV3',\n",
       "    'schema_type': 'VecSpecifier'},\n",
       "   'column_name': 'price',\n",
       "   'is_member_of_frames': None}},\n",
       " 'ignored_columns': {'default': None, 'actual': []},\n",
       " 'ignore_const_cols': {'default': True, 'actual': True},\n",
       " 'offset_column': {'default': None, 'actual': None},\n",
       " 'weights_column': {'default': None, 'actual': None},\n",
       " 'balance_classes': {'default': False, 'actual': False},\n",
       " 'class_sampling_factors': {'default': None, 'actual': None},\n",
       " 'max_after_balance_size': {'default': 5.0, 'actual': 5.0},\n",
       " 'max_confusion_matrix_size': {'default': 20, 'actual': 20},\n",
       " 'max_hit_ratio_k': {'default': 0, 'actual': 0},\n",
       " 'ntrees': {'default': 50, 'actual': 80},\n",
       " 'max_depth': {'default': 5, 'actual': 15},\n",
       " 'min_rows': {'default': 10.0, 'actual': 100.0},\n",
       " 'nbins': {'default': 20, 'actual': 20},\n",
       " 'nbins_top_level': {'default': 1024, 'actual': 1024},\n",
       " 'nbins_cats': {'default': 1024, 'actual': 1024},\n",
       " 'r2_stopping': {'default': 1.7976931348623157e+308,\n",
       "  'actual': 1.7976931348623157e+308},\n",
       " 'stopping_rounds': {'default': 0, 'actual': 0},\n",
       " 'stopping_metric': {'default': 'AUTO', 'actual': 'deviance'},\n",
       " 'stopping_tolerance': {'default': 0.001, 'actual': 0.006802091556591675},\n",
       " 'max_runtime_secs': {'default': 0.0, 'actual': 0.0},\n",
       " 'seed': {'default': -1, 'actual': 8512100207211281622},\n",
       " 'build_tree_one_node': {'default': False, 'actual': False},\n",
       " 'learn_rate': {'default': 0.1, 'actual': 0.1},\n",
       " 'learn_rate_annealing': {'default': 1.0, 'actual': 1.0},\n",
       " 'distribution': {'default': 'AUTO', 'actual': 'gaussian'},\n",
       " 'quantile_alpha': {'default': 0.5, 'actual': 0.5},\n",
       " 'tweedie_power': {'default': 1.5, 'actual': 1.5},\n",
       " 'huber_alpha': {'default': 0.9, 'actual': 0.9},\n",
       " 'checkpoint': {'default': None, 'actual': None},\n",
       " 'sample_rate': {'default': 1.0, 'actual': 0.8},\n",
       " 'sample_rate_per_class': {'default': None, 'actual': None},\n",
       " 'col_sample_rate': {'default': 1.0, 'actual': 0.8},\n",
       " 'col_sample_rate_change_per_level': {'default': 1.0, 'actual': 1.0},\n",
       " 'col_sample_rate_per_tree': {'default': 1.0, 'actual': 0.8},\n",
       " 'min_split_improvement': {'default': 1e-05, 'actual': 1e-05},\n",
       " 'histogram_type': {'default': 'AUTO', 'actual': 'AUTO'},\n",
       " 'max_abs_leafnode_pred': {'default': 1.7976931348623157e+308,\n",
       "  'actual': 1.7976931348623157e+308},\n",
       " 'pred_noise_bandwidth': {'default': 0.0, 'actual': 0.0},\n",
       " 'categorical_encoding': {'default': 'AUTO', 'actual': 'AUTO'},\n",
       " 'calibrate_model': {'default': False, 'actual': False},\n",
       " 'calibration_frame': {'default': None, 'actual': None},\n",
       " 'custom_metric_func': {'default': None, 'actual': None},\n",
       " 'export_checkpoints_dir': {'default': None, 'actual': None},\n",
       " 'monotone_constraints': {'default': None, 'actual': None}}"
      ]
     },
     "execution_count": 26,
     "metadata": {},
     "output_type": "execute_result"
    }
   ],
   "source": [
    "mod_best3=h2o.get_model(model_set[3])\n",
    "mod_best6=h2o.get_model(model_set[6])\n",
    "mod_best7=h2o.get_model(model_set[7])\n",
    "mod_best9=h2o.get_model(model_set[9])\n",
    "mod_best10=h2o.get_model(model_set[10])\n",
    "mod_best3.params\n",
    "mod_best6.params\n",
    "mod_best7.params\n",
    "mod_best9.params\n",
    "mod_best10.params"
   ]
  },
  {
   "cell_type": "code",
   "execution_count": 27,
   "metadata": {},
   "outputs": [],
   "source": [
    "hyperparameters = [mod_best3.params]\n",
    "hyperparameter_json(hyperparameters,'GBM1_700_seconds')"
   ]
  },
  {
   "cell_type": "code",
   "execution_count": 28,
   "metadata": {},
   "outputs": [],
   "source": [
    "hyperparameters = [mod_best6.params]\n",
    "hyperparameter_json(hyperparameters,'GBM2_700_seconds')"
   ]
  },
  {
   "cell_type": "code",
   "execution_count": 29,
   "metadata": {},
   "outputs": [],
   "source": [
    "hyperparameters = [mod_best7.params]\n",
    "hyperparameter_json(hyperparameters,'GBM3_700_seconds')"
   ]
  },
  {
   "cell_type": "code",
   "execution_count": 30,
   "metadata": {},
   "outputs": [],
   "source": [
    "hyperparameters = [mod_best9.params]\n",
    "hyperparameter_json(hyperparameters,'GBM4_700_seconds')"
   ]
  },
  {
   "cell_type": "code",
   "execution_count": 31,
   "metadata": {},
   "outputs": [],
   "source": [
    "hyperparameters = [mod_best10.params]\n",
    "hyperparameter_json(hyperparameters,'GBM5_700_seconds')"
   ]
  },
  {
   "cell_type": "markdown",
   "metadata": {},
   "source": [
    "### Deep Learning 700 seconds"
   ]
  },
  {
   "cell_type": "code",
   "execution_count": 33,
   "metadata": {},
   "outputs": [
    {
     "data": {
      "text/plain": [
       "{'model_id': {'default': None,\n",
       "  'actual': {'__meta': {'schema_version': 3,\n",
       "    'schema_name': 'ModelKeyV3',\n",
       "    'schema_type': 'Key<Model>'},\n",
       "   'name': 'DeepLearning_grid_1_AutoML_20190416_102359_model_3',\n",
       "   'type': 'Key<Model>',\n",
       "   'URL': '/3/Models/DeepLearning_grid_1_AutoML_20190416_102359_model_3'}},\n",
       " 'training_frame': {'default': None,\n",
       "  'actual': {'__meta': {'schema_version': 3,\n",
       "    'schema_name': 'FrameKeyV3',\n",
       "    'schema_type': 'Key<Frame>'},\n",
       "   'name': 'automl_training_kc_house_data.hex',\n",
       "   'type': 'Key<Frame>',\n",
       "   'URL': '/3/Frames/automl_training_kc_house_data.hex'}},\n",
       " 'validation_frame': {'default': None, 'actual': None},\n",
       " 'nfolds': {'default': 0, 'actual': 5},\n",
       " 'keep_cross_validation_models': {'default': True, 'actual': False},\n",
       " 'keep_cross_validation_predictions': {'default': False, 'actual': True},\n",
       " 'keep_cross_validation_fold_assignment': {'default': False, 'actual': False},\n",
       " 'fold_assignment': {'default': 'AUTO', 'actual': 'Modulo'},\n",
       " 'fold_column': {'default': None, 'actual': None},\n",
       " 'response_column': {'default': None,\n",
       "  'actual': {'__meta': {'schema_version': 3,\n",
       "    'schema_name': 'ColSpecifierV3',\n",
       "    'schema_type': 'VecSpecifier'},\n",
       "   'column_name': 'price',\n",
       "   'is_member_of_frames': None}},\n",
       " 'ignored_columns': {'default': None, 'actual': []},\n",
       " 'ignore_const_cols': {'default': True, 'actual': True},\n",
       " 'score_each_iteration': {'default': False, 'actual': False},\n",
       " 'weights_column': {'default': None, 'actual': None},\n",
       " 'offset_column': {'default': None, 'actual': None},\n",
       " 'balance_classes': {'default': False, 'actual': False},\n",
       " 'class_sampling_factors': {'default': None, 'actual': None},\n",
       " 'max_after_balance_size': {'default': 5.0, 'actual': 5.0},\n",
       " 'max_confusion_matrix_size': {'default': 20, 'actual': 20},\n",
       " 'max_hit_ratio_k': {'default': 0, 'actual': 0},\n",
       " 'checkpoint': {'default': None, 'actual': None},\n",
       " 'pretrained_autoencoder': {'default': None, 'actual': None},\n",
       " 'overwrite_with_best_model': {'default': True, 'actual': False},\n",
       " 'use_all_factor_levels': {'default': True, 'actual': True},\n",
       " 'standardize': {'default': True, 'actual': True},\n",
       " 'activation': {'default': 'Rectifier', 'actual': 'RectifierWithDropout'},\n",
       " 'hidden': {'default': [200, 200], 'actual': [50, 50, 50]},\n",
       " 'epochs': {'default': 10.0, 'actual': 9.388331199557241},\n",
       " 'train_samples_per_iteration': {'default': -2, 'actual': -2},\n",
       " 'target_ratio_comm_to_comp': {'default': 0.05, 'actual': 0.05},\n",
       " 'seed': {'default': -1, 'actual': 7369419992095606222},\n",
       " 'adaptive_rate': {'default': True, 'actual': True},\n",
       " 'rho': {'default': 0.99, 'actual': 0.95},\n",
       " 'epsilon': {'default': 1e-08, 'actual': 1e-07},\n",
       " 'rate': {'default': 0.005, 'actual': 0.005},\n",
       " 'rate_annealing': {'default': 1e-06, 'actual': 1e-06},\n",
       " 'rate_decay': {'default': 1.0, 'actual': 1.0},\n",
       " 'momentum_start': {'default': 0.0, 'actual': 0.0},\n",
       " 'momentum_ramp': {'default': 1000000.0, 'actual': 1000000.0},\n",
       " 'momentum_stable': {'default': 0.0, 'actual': 0.0},\n",
       " 'nesterov_accelerated_gradient': {'default': True, 'actual': True},\n",
       " 'input_dropout_ratio': {'default': 0.0, 'actual': 0.15},\n",
       " 'hidden_dropout_ratios': {'default': None, 'actual': [0.3, 0.3, 0.3]},\n",
       " 'l1': {'default': 0.0, 'actual': 0.0},\n",
       " 'l2': {'default': 0.0, 'actual': 0.0},\n",
       " 'max_w2': {'default': 3.4028235e+38, 'actual': 3.4028235e+38},\n",
       " 'initial_weight_distribution': {'default': 'UniformAdaptive',\n",
       "  'actual': 'UniformAdaptive'},\n",
       " 'initial_weight_scale': {'default': 1.0, 'actual': 1.0},\n",
       " 'initial_weights': {'default': None, 'actual': None},\n",
       " 'initial_biases': {'default': None, 'actual': None},\n",
       " 'loss': {'default': 'Automatic', 'actual': 'Automatic'},\n",
       " 'distribution': {'default': 'AUTO', 'actual': 'AUTO'},\n",
       " 'quantile_alpha': {'default': 0.5, 'actual': 0.5},\n",
       " 'tweedie_power': {'default': 1.5, 'actual': 1.5},\n",
       " 'huber_alpha': {'default': 0.9, 'actual': 0.9},\n",
       " 'score_interval': {'default': 5.0, 'actual': 5.0},\n",
       " 'score_training_samples': {'default': 10000, 'actual': 10000},\n",
       " 'score_validation_samples': {'default': 0, 'actual': 0},\n",
       " 'score_duty_cycle': {'default': 0.1, 'actual': 0.1},\n",
       " 'classification_stop': {'default': 0.0, 'actual': 0.0},\n",
       " 'regression_stop': {'default': 1e-06, 'actual': 1e-06},\n",
       " 'stopping_rounds': {'default': 5, 'actual': 0},\n",
       " 'stopping_metric': {'default': 'AUTO', 'actual': 'deviance'},\n",
       " 'stopping_tolerance': {'default': 0.0, 'actual': 0.006802091556591675},\n",
       " 'max_runtime_secs': {'default': 0.0, 'actual': 0.0},\n",
       " 'score_validation_sampling': {'default': 'Uniform', 'actual': 'Uniform'},\n",
       " 'diagnostics': {'default': True, 'actual': True},\n",
       " 'fast_mode': {'default': True, 'actual': True},\n",
       " 'force_load_balance': {'default': True, 'actual': True},\n",
       " 'variable_importances': {'default': True, 'actual': True},\n",
       " 'replicate_training_data': {'default': True, 'actual': True},\n",
       " 'single_node_mode': {'default': False, 'actual': False},\n",
       " 'shuffle_training_data': {'default': False, 'actual': False},\n",
       " 'missing_values_handling': {'default': 'MeanImputation',\n",
       "  'actual': 'MeanImputation'},\n",
       " 'quiet_mode': {'default': False, 'actual': False},\n",
       " 'autoencoder': {'default': False, 'actual': False},\n",
       " 'sparse': {'default': False, 'actual': False},\n",
       " 'col_major': {'default': False, 'actual': False},\n",
       " 'average_activation': {'default': 0.0, 'actual': 0.0},\n",
       " 'sparsity_beta': {'default': 0.0, 'actual': 0.0},\n",
       " 'max_categorical_features': {'default': 2147483647, 'actual': 2147483647},\n",
       " 'reproducible': {'default': False, 'actual': False},\n",
       " 'export_weights_and_biases': {'default': False, 'actual': False},\n",
       " 'mini_batch_size': {'default': 1, 'actual': 1},\n",
       " 'categorical_encoding': {'default': 'AUTO', 'actual': 'AUTO'},\n",
       " 'elastic_averaging': {'default': False, 'actual': False},\n",
       " 'elastic_averaging_moving_rate': {'default': 0.9, 'actual': 0.9},\n",
       " 'elastic_averaging_regularization': {'default': 0.001, 'actual': 0.001},\n",
       " 'export_checkpoints_dir': {'default': None, 'actual': None}}"
      ]
     },
     "execution_count": 33,
     "metadata": {},
     "output_type": "execute_result"
    }
   ],
   "source": [
    "mod_best1=h2o.get_model(model_set[1])\n",
    "mod_best4=h2o.get_model(model_set[4])\n",
    "mod_best5=h2o.get_model(model_set[5])\n",
    "mod_best12=h2o.get_model(model_set[12])\n",
    "mod_best1.params\n",
    "mod_best4.params\n",
    "mod_best5.params\n",
    "mod_best12.params"
   ]
  },
  {
   "cell_type": "code",
   "execution_count": 34,
   "metadata": {},
   "outputs": [],
   "source": [
    "hyperparameters = [mod_best1.params]\n",
    "hyperparameter_json(hyperparameters,'Deep_Learning1_700_seconds')"
   ]
  },
  {
   "cell_type": "code",
   "execution_count": 35,
   "metadata": {},
   "outputs": [],
   "source": [
    "hyperparameters = [mod_best4.params]\n",
    "hyperparameter_json(hyperparameters,'Deep_Learning2_700_seconds')"
   ]
  },
  {
   "cell_type": "code",
   "execution_count": 36,
   "metadata": {},
   "outputs": [],
   "source": [
    "hyperparameters = [mod_best5.params]\n",
    "hyperparameter_json(hyperparameters,'Deep_Learning3_700_seconds')"
   ]
  },
  {
   "cell_type": "code",
   "execution_count": 37,
   "metadata": {},
   "outputs": [],
   "source": [
    "hyperparameters = [mod_best12.params]\n",
    "hyperparameter_json(hyperparameters,'Deep_Learning4_700_seconds')"
   ]
  },
  {
   "cell_type": "markdown",
   "metadata": {},
   "source": [
    "### GBM_Grid 700 seconds"
   ]
  },
  {
   "cell_type": "code",
   "execution_count": 38,
   "metadata": {},
   "outputs": [
    {
     "data": {
      "text/plain": [
       "{'model_id': {'default': None,\n",
       "  'actual': {'__meta': {'schema_version': 3,\n",
       "    'schema_name': 'ModelKeyV3',\n",
       "    'schema_type': 'Key<Model>'},\n",
       "   'name': 'GLM_grid_1_AutoML_20190416_102359_model_1',\n",
       "   'type': 'Key<Model>',\n",
       "   'URL': '/3/Models/GLM_grid_1_AutoML_20190416_102359_model_1'}},\n",
       " 'training_frame': {'default': None,\n",
       "  'actual': {'__meta': {'schema_version': 3,\n",
       "    'schema_name': 'FrameKeyV3',\n",
       "    'schema_type': 'Key<Frame>'},\n",
       "   'name': 'automl_training_kc_house_data.hex',\n",
       "   'type': 'Key<Frame>',\n",
       "   'URL': '/3/Frames/automl_training_kc_house_data.hex'}},\n",
       " 'validation_frame': {'default': None, 'actual': None},\n",
       " 'nfolds': {'default': 0, 'actual': 5},\n",
       " 'seed': {'default': -1, 'actual': 4850358334050151948},\n",
       " 'keep_cross_validation_models': {'default': True, 'actual': False},\n",
       " 'keep_cross_validation_predictions': {'default': False, 'actual': True},\n",
       " 'keep_cross_validation_fold_assignment': {'default': False, 'actual': False},\n",
       " 'fold_assignment': {'default': 'AUTO', 'actual': 'Modulo'},\n",
       " 'fold_column': {'default': None, 'actual': None},\n",
       " 'response_column': {'default': None,\n",
       "  'actual': {'__meta': {'schema_version': 3,\n",
       "    'schema_name': 'ColSpecifierV3',\n",
       "    'schema_type': 'VecSpecifier'},\n",
       "   'column_name': 'price',\n",
       "   'is_member_of_frames': None}},\n",
       " 'ignored_columns': {'default': None, 'actual': []},\n",
       " 'ignore_const_cols': {'default': True, 'actual': True},\n",
       " 'score_each_iteration': {'default': False, 'actual': False},\n",
       " 'offset_column': {'default': None, 'actual': None},\n",
       " 'weights_column': {'default': None, 'actual': None},\n",
       " 'family': {'default': 'gaussian', 'actual': 'gaussian'},\n",
       " 'tweedie_variance_power': {'default': 0.0, 'actual': 0.0},\n",
       " 'tweedie_link_power': {'default': 1.0, 'actual': 1.0},\n",
       " 'solver': {'default': 'AUTO', 'actual': 'COORDINATE_DESCENT'},\n",
       " 'alpha': {'default': None, 'actual': [0.0, 0.2, 0.4, 0.6, 0.8, 1.0]},\n",
       " 'lambda': {'default': None,\n",
       "  'actual': [25789241.536127478,\n",
       "   16015555.912468724,\n",
       "   9945931.555454643,\n",
       "   6176591.998831225,\n",
       "   3835768.2744260547]},\n",
       " 'lambda_search': {'default': False, 'actual': True},\n",
       " 'early_stopping': {'default': True, 'actual': True},\n",
       " 'nlambdas': {'default': -1, 'actual': 30},\n",
       " 'standardize': {'default': True, 'actual': True},\n",
       " 'missing_values_handling': {'default': 'MeanImputation',\n",
       "  'actual': 'MeanImputation'},\n",
       " 'compute_p_values': {'default': False, 'actual': False},\n",
       " 'remove_collinear_columns': {'default': False, 'actual': False},\n",
       " 'intercept': {'default': True, 'actual': True},\n",
       " 'non_negative': {'default': False, 'actual': False},\n",
       " 'max_iterations': {'default': -1, 'actual': 300},\n",
       " 'objective_epsilon': {'default': -1.0, 'actual': 0.0001},\n",
       " 'beta_epsilon': {'default': 0.0001, 'actual': 0.0001},\n",
       " 'gradient_epsilon': {'default': -1.0, 'actual': 1.0000000000000002e-06},\n",
       " 'link': {'default': 'family_default', 'actual': 'identity'},\n",
       " 'prior': {'default': -1.0, 'actual': -1.0},\n",
       " 'lambda_min_ratio': {'default': -1.0, 'actual': 1.0000000000000002e-06},\n",
       " 'beta_constraints': {'default': None, 'actual': None},\n",
       " 'max_active_predictors': {'default': -1, 'actual': 5000},\n",
       " 'interactions': {'default': None, 'actual': None},\n",
       " 'interaction_pairs': {'default': None, 'actual': None},\n",
       " 'obj_reg': {'default': -1.0, 'actual': 4.6268449544255775e-05},\n",
       " 'export_checkpoints_dir': {'default': None, 'actual': None},\n",
       " 'balance_classes': {'default': False, 'actual': False},\n",
       " 'class_sampling_factors': {'default': None, 'actual': None},\n",
       " 'max_after_balance_size': {'default': 5.0, 'actual': 5.0},\n",
       " 'max_confusion_matrix_size': {'default': 20, 'actual': 20},\n",
       " 'max_hit_ratio_k': {'default': 0, 'actual': 0},\n",
       " 'max_runtime_secs': {'default': 0.0, 'actual': 7.0},\n",
       " 'custom_metric_func': {'default': None, 'actual': None}}"
      ]
     },
     "execution_count": 38,
     "metadata": {},
     "output_type": "execute_result"
    }
   ],
   "source": [
    "mod_best2=h2o.get_model(model_set[2])\n",
    "mod_best8=h2o.get_model(model_set[8])\n",
    "mod_best15=h2o.get_model(model_set[15])\n",
    "mod_best2.params\n",
    "mod_best8.params\n",
    "mod_best15.params"
   ]
  },
  {
   "cell_type": "code",
   "execution_count": 39,
   "metadata": {},
   "outputs": [],
   "source": [
    "hyperparameters = [mod_best2.params]\n",
    "hyperparameter_json(hyperparameters,'GBM_Grid1_700_seconds')"
   ]
  },
  {
   "cell_type": "code",
   "execution_count": 40,
   "metadata": {},
   "outputs": [],
   "source": [
    "hyperparameters = [mod_best8.params]\n",
    "hyperparameter_json(hyperparameters,'GBM_Grid2_700_seconds')"
   ]
  },
  {
   "cell_type": "code",
   "execution_count": 41,
   "metadata": {},
   "outputs": [],
   "source": [
    "hyperparameters = [mod_best15.params]\n",
    "hyperparameter_json(hyperparameters,'GBM_Grid3_700_seconds')"
   ]
  },
  {
   "cell_type": "markdown",
   "metadata": {},
   "source": [
    "### Stacked Ensemble 700 seconds"
   ]
  },
  {
   "cell_type": "code",
   "execution_count": 42,
   "metadata": {},
   "outputs": [
    {
     "data": {
      "text/plain": [
       "{'model_id': {'default': None,\n",
       "  'actual': {'__meta': {'schema_version': 3,\n",
       "    'schema_name': 'ModelKeyV3',\n",
       "    'schema_type': 'Key<Model>'},\n",
       "   'name': 'StackedEnsemble_BestOfFamily_AutoML_20190416_102359',\n",
       "   'type': 'Key<Model>',\n",
       "   'URL': '/3/Models/StackedEnsemble_BestOfFamily_AutoML_20190416_102359'}},\n",
       " 'training_frame': {'default': None,\n",
       "  'actual': {'__meta': {'schema_version': 3,\n",
       "    'schema_name': 'FrameKeyV3',\n",
       "    'schema_type': 'Key<Frame>'},\n",
       "   'name': 'automl_training_kc_house_data.hex',\n",
       "   'type': 'Key<Frame>',\n",
       "   'URL': '/3/Frames/automl_training_kc_house_data.hex'}},\n",
       " 'response_column': {'default': None,\n",
       "  'actual': {'__meta': {'schema_version': 3,\n",
       "    'schema_name': 'ColSpecifierV3',\n",
       "    'schema_type': 'VecSpecifier'},\n",
       "   'column_name': 'price',\n",
       "   'is_member_of_frames': None}},\n",
       " 'validation_frame': {'default': None, 'actual': None},\n",
       " 'base_models': {'default': [],\n",
       "  'actual': [{'__meta': {'schema_version': 3,\n",
       "     'schema_name': 'ModelKeyV3',\n",
       "     'schema_type': 'Key<Model>'},\n",
       "    'name': 'XRT_1_AutoML_20190416_102359',\n",
       "    'type': 'Key<Model>',\n",
       "    'URL': '/3/Models/XRT_1_AutoML_20190416_102359'},\n",
       "   {'__meta': {'schema_version': 3,\n",
       "     'schema_name': 'ModelKeyV3',\n",
       "     'schema_type': 'Key<Model>'},\n",
       "    'name': 'DeepLearning_1_AutoML_20190416_102359',\n",
       "    'type': 'Key<Model>',\n",
       "    'URL': '/3/Models/DeepLearning_1_AutoML_20190416_102359'},\n",
       "   {'__meta': {'schema_version': 3,\n",
       "     'schema_name': 'ModelKeyV3',\n",
       "     'schema_type': 'Key<Model>'},\n",
       "    'name': 'GBM_grid_1_AutoML_20190416_102359_model_1',\n",
       "    'type': 'Key<Model>',\n",
       "    'URL': '/3/Models/GBM_grid_1_AutoML_20190416_102359_model_1'},\n",
       "   {'__meta': {'schema_version': 3,\n",
       "     'schema_name': 'ModelKeyV3',\n",
       "     'schema_type': 'Key<Model>'},\n",
       "    'name': 'DRF_1_AutoML_20190416_102359',\n",
       "    'type': 'Key<Model>',\n",
       "    'URL': '/3/Models/DRF_1_AutoML_20190416_102359'},\n",
       "   {'__meta': {'schema_version': 3,\n",
       "     'schema_name': 'ModelKeyV3',\n",
       "     'schema_type': 'Key<Model>'},\n",
       "    'name': 'GLM_grid_1_AutoML_20190416_102359_model_1',\n",
       "    'type': 'Key<Model>',\n",
       "    'URL': '/3/Models/GLM_grid_1_AutoML_20190416_102359_model_1'}]},\n",
       " 'metalearner_algorithm': {'default': 'AUTO', 'actual': 'AUTO'},\n",
       " 'metalearner_nfolds': {'default': 0, 'actual': 5},\n",
       " 'metalearner_fold_assignment': {'default': None, 'actual': None},\n",
       " 'metalearner_fold_column': {'default': None, 'actual': None},\n",
       " 'keep_levelone_frame': {'default': False, 'actual': True},\n",
       " 'metalearner_params': {'default': '', 'actual': ''},\n",
       " 'seed': {'default': -1, 'actual': 6590702504966973490},\n",
       " 'export_checkpoints_dir': {'default': None, 'actual': None}}"
      ]
     },
     "execution_count": 42,
     "metadata": {},
     "output_type": "execute_result"
    }
   ],
   "source": [
    "mod_best13=h2o.get_model(model_set[13])\n",
    "mod_best14=h2o.get_model(model_set[14])\n",
    "mod_best13.params\n",
    "mod_best14.params"
   ]
  },
  {
   "cell_type": "code",
   "execution_count": 43,
   "metadata": {},
   "outputs": [],
   "source": [
    "hyperparameters = [mod_best13.params]\n",
    "hyperparameter_json(hyperparameters,'Stacked_Ensemble1_700_seconds')"
   ]
  },
  {
   "cell_type": "code",
   "execution_count": 44,
   "metadata": {},
   "outputs": [],
   "source": [
    "hyperparameters = [mod_best14.params]\n",
    "hyperparameter_json(hyperparameters,'Stacked_Ensemble2_700_seconds')"
   ]
  },
  {
   "cell_type": "markdown",
   "metadata": {},
   "source": [
    "### DRF 700 Seconds"
   ]
  },
  {
   "cell_type": "code",
   "execution_count": 45,
   "metadata": {},
   "outputs": [
    {
     "data": {
      "text/plain": [
       "{'model_id': {'default': None,\n",
       "  'actual': {'__meta': {'schema_version': 3,\n",
       "    'schema_name': 'ModelKeyV3',\n",
       "    'schema_type': 'Key<Model>'},\n",
       "   'name': 'DRF_1_AutoML_20190416_102359',\n",
       "   'type': 'Key<Model>',\n",
       "   'URL': '/3/Models/DRF_1_AutoML_20190416_102359'}},\n",
       " 'training_frame': {'default': None,\n",
       "  'actual': {'__meta': {'schema_version': 3,\n",
       "    'schema_name': 'FrameKeyV3',\n",
       "    'schema_type': 'Key<Frame>'},\n",
       "   'name': 'automl_training_kc_house_data.hex',\n",
       "   'type': 'Key<Frame>',\n",
       "   'URL': '/3/Frames/automl_training_kc_house_data.hex'}},\n",
       " 'validation_frame': {'default': None, 'actual': None},\n",
       " 'nfolds': {'default': 0, 'actual': 5},\n",
       " 'keep_cross_validation_models': {'default': True, 'actual': False},\n",
       " 'keep_cross_validation_predictions': {'default': False, 'actual': True},\n",
       " 'keep_cross_validation_fold_assignment': {'default': False, 'actual': False},\n",
       " 'score_each_iteration': {'default': False, 'actual': False},\n",
       " 'score_tree_interval': {'default': 0, 'actual': 0},\n",
       " 'fold_assignment': {'default': 'AUTO', 'actual': 'Modulo'},\n",
       " 'fold_column': {'default': None, 'actual': None},\n",
       " 'response_column': {'default': None,\n",
       "  'actual': {'__meta': {'schema_version': 3,\n",
       "    'schema_name': 'ColSpecifierV3',\n",
       "    'schema_type': 'VecSpecifier'},\n",
       "   'column_name': 'price',\n",
       "   'is_member_of_frames': None}},\n",
       " 'ignored_columns': {'default': None, 'actual': []},\n",
       " 'ignore_const_cols': {'default': True, 'actual': True},\n",
       " 'offset_column': {'default': None, 'actual': None},\n",
       " 'weights_column': {'default': None, 'actual': None},\n",
       " 'balance_classes': {'default': False, 'actual': False},\n",
       " 'class_sampling_factors': {'default': None, 'actual': None},\n",
       " 'max_after_balance_size': {'default': 5.0, 'actual': 5.0},\n",
       " 'max_confusion_matrix_size': {'default': 20, 'actual': 20},\n",
       " 'max_hit_ratio_k': {'default': 0, 'actual': 0},\n",
       " 'ntrees': {'default': 50, 'actual': 45},\n",
       " 'max_depth': {'default': 20, 'actual': 20},\n",
       " 'min_rows': {'default': 1.0, 'actual': 1.0},\n",
       " 'nbins': {'default': 20, 'actual': 20},\n",
       " 'nbins_top_level': {'default': 1024, 'actual': 1024},\n",
       " 'nbins_cats': {'default': 1024, 'actual': 1024},\n",
       " 'r2_stopping': {'default': 1.7976931348623157e+308,\n",
       "  'actual': 1.7976931348623157e+308},\n",
       " 'stopping_rounds': {'default': 0, 'actual': 0},\n",
       " 'stopping_metric': {'default': 'AUTO', 'actual': 'AUTO'},\n",
       " 'stopping_tolerance': {'default': 0.001, 'actual': 0.006802091556591675},\n",
       " 'max_runtime_secs': {'default': 0.0, 'actual': 0.0},\n",
       " 'seed': {'default': -1, 'actual': 9117191528931432071},\n",
       " 'build_tree_one_node': {'default': False, 'actual': False},\n",
       " 'mtries': {'default': -1, 'actual': -1},\n",
       " 'sample_rate': {'default': 0.6320000290870667, 'actual': 0.6320000290870667},\n",
       " 'sample_rate_per_class': {'default': None, 'actual': None},\n",
       " 'binomial_double_trees': {'default': False, 'actual': False},\n",
       " 'checkpoint': {'default': None, 'actual': None},\n",
       " 'col_sample_rate_change_per_level': {'default': 1.0, 'actual': 1.0},\n",
       " 'col_sample_rate_per_tree': {'default': 1.0, 'actual': 1.0},\n",
       " 'min_split_improvement': {'default': 1e-05, 'actual': 1e-05},\n",
       " 'histogram_type': {'default': 'AUTO', 'actual': 'AUTO'},\n",
       " 'categorical_encoding': {'default': 'AUTO', 'actual': 'AUTO'},\n",
       " 'calibrate_model': {'default': False, 'actual': False},\n",
       " 'calibration_frame': {'default': None, 'actual': None},\n",
       " 'distribution': {'default': 'AUTO', 'actual': 'gaussian'},\n",
       " 'custom_metric_func': {'default': None, 'actual': None},\n",
       " 'export_checkpoints_dir': {'default': None, 'actual': None}}"
      ]
     },
     "execution_count": 45,
     "metadata": {},
     "output_type": "execute_result"
    }
   ],
   "source": [
    "mod_best11=h2o.get_model(model_set[11])\n",
    "mod_best11.params"
   ]
  },
  {
   "cell_type": "code",
   "execution_count": 46,
   "metadata": {},
   "outputs": [],
   "source": [
    "hyperparameters = [mod_best11.params]\n",
    "hyperparameter_json(hyperparameters,'DRF_700_seconds')"
   ]
  },
  {
   "cell_type": "code",
   "execution_count": 47,
   "metadata": {},
   "outputs": [
    {
     "name": "stdout",
     "output_type": "stream",
     "text": [
      "Model Details\n",
      "=============\n",
      "H2ORandomForestEstimator :  Distributed Random Forest\n",
      "Model Key:  XRT_1_AutoML_20190416_102359\n",
      "\n",
      "\n",
      "ModelMetricsRegression: drf\n",
      "** Reported on train data. **\n",
      "\n",
      "MSE: 18529845962.48197\n",
      "RMSE: 136124.37681209773\n",
      "MAE: 74806.60975247707\n",
      "RMSLE: 0.18678496600933744\n",
      "Mean Residual Deviance: 18529845962.48197\n",
      "\n",
      "ModelMetricsRegression: drf\n",
      "** Reported on cross-validation data. **\n",
      "\n",
      "MSE: 18302874993.578114\n",
      "RMSE: 135288.11844939715\n",
      "MAE: 73472.27456214864\n",
      "RMSLE: 0.18414782353427286\n",
      "Mean Residual Deviance: 18302874993.578114\n",
      "Cross-Validation Metrics Summary: \n"
     ]
    },
    {
     "data": {
      "text/html": [
       "<div style=\"overflow:auto\"><table style=\"width:50%\"><tr><td><b></b></td>\n",
       "<td><b>mean</b></td>\n",
       "<td><b>sd</b></td>\n",
       "<td><b>cv_1_valid</b></td>\n",
       "<td><b>cv_2_valid</b></td>\n",
       "<td><b>cv_3_valid</b></td>\n",
       "<td><b>cv_4_valid</b></td>\n",
       "<td><b>cv_5_valid</b></td></tr>\n",
       "<tr><td>mae</td>\n",
       "<td>73472.28</td>\n",
       "<td>462.39465</td>\n",
       "<td>74393.53</td>\n",
       "<td>72530.586</td>\n",
       "<td>73388.336</td>\n",
       "<td>73082.83</td>\n",
       "<td>73966.125</td></tr>\n",
       "<tr><td>mean_residual_deviance</td>\n",
       "<td>18302924800.0000000</td>\n",
       "<td>995116290.0000000</td>\n",
       "<td>18916042800.0000000</td>\n",
       "<td>16324233200.0000000</td>\n",
       "<td>18613741600.0000000</td>\n",
       "<td>17255725100.0000000</td>\n",
       "<td>20404875300.0000000</td></tr>\n",
       "<tr><td>mse</td>\n",
       "<td>18302924800.0000000</td>\n",
       "<td>995116290.0000000</td>\n",
       "<td>18916042800.0000000</td>\n",
       "<td>16324233200.0000000</td>\n",
       "<td>18613741600.0000000</td>\n",
       "<td>17255725100.0000000</td>\n",
       "<td>20404875300.0000000</td></tr>\n",
       "<tr><td>r2</td>\n",
       "<td>0.8645216</td>\n",
       "<td>0.0037519</td>\n",
       "<td>0.8612356</td>\n",
       "<td>0.8688952</td>\n",
       "<td>0.8666794</td>\n",
       "<td>0.8700024</td>\n",
       "<td>0.8557953</td></tr>\n",
       "<tr><td>residual_deviance</td>\n",
       "<td>18302924800.0000000</td>\n",
       "<td>995116290.0000000</td>\n",
       "<td>18916042800.0000000</td>\n",
       "<td>16324233200.0000000</td>\n",
       "<td>18613741600.0000000</td>\n",
       "<td>17255725100.0000000</td>\n",
       "<td>20404875300.0000000</td></tr>\n",
       "<tr><td>rmse</td>\n",
       "<td>135188.16</td>\n",
       "<td>3680.02</td>\n",
       "<td>137535.61</td>\n",
       "<td>127766.32</td>\n",
       "<td>136432.19</td>\n",
       "<td>131361.05</td>\n",
       "<td>142845.64</td></tr>\n",
       "<tr><td>rmsle</td>\n",
       "<td>0.1841376</td>\n",
       "<td>0.0013704</td>\n",
       "<td>0.1847973</td>\n",
       "<td>0.1814790</td>\n",
       "<td>0.1873705</td>\n",
       "<td>0.1833443</td>\n",
       "<td>0.1836968</td></tr></table></div>"
      ],
      "text/plain": [
       "                        mean         sd           cv_1_valid    cv_2_valid    cv_3_valid    cv_4_valid    cv_5_valid\n",
       "----------------------  -----------  -----------  ------------  ------------  ------------  ------------  ------------\n",
       "mae                     73472.3      462.395      74393.5       72530.6       73388.3       73082.8       73966.1\n",
       "mean_residual_deviance  1.83029e+10  9.95116e+08  1.8916e+10    1.63242e+10   1.86137e+10   1.72557e+10   2.04049e+10\n",
       "mse                     1.83029e+10  9.95116e+08  1.8916e+10    1.63242e+10   1.86137e+10   1.72557e+10   2.04049e+10\n",
       "r2                      0.864522     0.00375194   0.861236      0.868895      0.866679      0.870002      0.855795\n",
       "residual_deviance       1.83029e+10  9.95116e+08  1.8916e+10    1.63242e+10   1.86137e+10   1.72557e+10   2.04049e+10\n",
       "rmse                    135188       3680.02      137536        127766        136432        131361        142846\n",
       "rmsle                   0.184138     0.00137036   0.184797      0.181479      0.187371      0.183344      0.183697"
      ]
     },
     "metadata": {},
     "output_type": "execute_result"
    },
    {
     "name": "stdout",
     "output_type": "stream",
     "text": [
      "Scoring History: \n"
     ]
    },
    {
     "data": {
      "text/html": [
       "<div style=\"overflow:auto\"><table style=\"width:50%\"><tr><td><b></b></td>\n",
       "<td><b>timestamp</b></td>\n",
       "<td><b>duration</b></td>\n",
       "<td><b>number_of_trees</b></td>\n",
       "<td><b>training_rmse</b></td>\n",
       "<td><b>training_mae</b></td>\n",
       "<td><b>training_deviance</b></td></tr>\n",
       "<tr><td></td>\n",
       "<td>2019-04-16 10:27:09</td>\n",
       "<td> 1 min 36.337 sec</td>\n",
       "<td>0.0</td>\n",
       "<td>nan</td>\n",
       "<td>nan</td>\n",
       "<td>nan</td></tr>\n",
       "<tr><td></td>\n",
       "<td>2019-04-16 10:27:10</td>\n",
       "<td> 1 min 36.744 sec</td>\n",
       "<td>1.0</td>\n",
       "<td>207432.3152430</td>\n",
       "<td>110709.0636450</td>\n",
       "<td>43028165407.0675125</td></tr>\n",
       "<tr><td></td>\n",
       "<td>2019-04-16 10:27:10</td>\n",
       "<td> 1 min 37.168 sec</td>\n",
       "<td>2.0</td>\n",
       "<td>208052.5367471</td>\n",
       "<td>109486.1699705</td>\n",
       "<td>43285858046.9161911</td></tr>\n",
       "<tr><td></td>\n",
       "<td>2019-04-16 10:27:10</td>\n",
       "<td> 1 min 37.602 sec</td>\n",
       "<td>3.0</td>\n",
       "<td>210415.8687229</td>\n",
       "<td>106249.6209436</td>\n",
       "<td>44274837810.3934402</td></tr>\n",
       "<tr><td></td>\n",
       "<td>2019-04-16 10:27:11</td>\n",
       "<td> 1 min 38.024 sec</td>\n",
       "<td>4.0</td>\n",
       "<td>198244.2577432</td>\n",
       "<td>102876.3632743</td>\n",
       "<td>39300785728.1332474</td></tr>\n",
       "<tr><td></td>\n",
       "<td>2019-04-16 10:27:11</td>\n",
       "<td> 1 min 38.486 sec</td>\n",
       "<td>5.0</td>\n",
       "<td>190193.4684510</td>\n",
       "<td>99527.0832966</td>\n",
       "<td>36173555441.4126129</td></tr>\n",
       "<tr><td></td>\n",
       "<td>2019-04-16 10:27:12</td>\n",
       "<td> 1 min 39.213 sec</td>\n",
       "<td>6.0</td>\n",
       "<td>186037.3421727</td>\n",
       "<td>97157.3928207</td>\n",
       "<td>34609892682.6930923</td></tr>\n",
       "<tr><td></td>\n",
       "<td>2019-04-16 10:27:13</td>\n",
       "<td> 1 min 39.749 sec</td>\n",
       "<td>7.0</td>\n",
       "<td>175913.0383044</td>\n",
       "<td>94090.3130843</td>\n",
       "<td>30945397045.4986153</td></tr>\n",
       "<tr><td></td>\n",
       "<td>2019-04-16 10:27:17</td>\n",
       "<td> 1 min 43.785 sec</td>\n",
       "<td>15.0</td>\n",
       "<td>152004.6807230</td>\n",
       "<td>83242.3638792</td>\n",
       "<td>23105422961.7030754</td></tr>\n",
       "<tr><td></td>\n",
       "<td>2019-04-16 10:27:21</td>\n",
       "<td> 1 min 48.161 sec</td>\n",
       "<td>26.0</td>\n",
       "<td>142388.9161678</td>\n",
       "<td>78155.1287255</td>\n",
       "<td>20274603447.4524422</td></tr>\n",
       "<tr><td></td>\n",
       "<td>2019-04-16 10:27:25</td>\n",
       "<td> 1 min 52.228 sec</td>\n",
       "<td>36.0</td>\n",
       "<td>139135.7576707</td>\n",
       "<td>76378.1699894</td>\n",
       "<td>19358759062.5926971</td></tr>\n",
       "<tr><td></td>\n",
       "<td>2019-04-16 10:27:29</td>\n",
       "<td> 1 min 56.298 sec</td>\n",
       "<td>46.0</td>\n",
       "<td>135952.9779214</td>\n",
       "<td>75084.8630118</td>\n",
       "<td>18483212205.6883888</td></tr>\n",
       "<tr><td></td>\n",
       "<td>2019-04-16 10:27:31</td>\n",
       "<td> 1 min 57.973 sec</td>\n",
       "<td>50.0</td>\n",
       "<td>136124.3768121</td>\n",
       "<td>74806.6097525</td>\n",
       "<td>18529845962.4819717</td></tr></table></div>"
      ],
      "text/plain": [
       "    timestamp            duration          number_of_trees    training_rmse    training_mae    training_deviance\n",
       "--  -------------------  ----------------  -----------------  ---------------  --------------  -------------------\n",
       "    2019-04-16 10:27:09  1 min 36.337 sec  0                  nan              nan             nan\n",
       "    2019-04-16 10:27:10  1 min 36.744 sec  1                  207432           110709          4.30282e+10\n",
       "    2019-04-16 10:27:10  1 min 37.168 sec  2                  208053           109486          4.32859e+10\n",
       "    2019-04-16 10:27:10  1 min 37.602 sec  3                  210416           106250          4.42748e+10\n",
       "    2019-04-16 10:27:11  1 min 38.024 sec  4                  198244           102876          3.93008e+10\n",
       "    2019-04-16 10:27:11  1 min 38.486 sec  5                  190193           99527.1         3.61736e+10\n",
       "    2019-04-16 10:27:12  1 min 39.213 sec  6                  186037           97157.4         3.46099e+10\n",
       "    2019-04-16 10:27:13  1 min 39.749 sec  7                  175913           94090.3         3.09454e+10\n",
       "    2019-04-16 10:27:17  1 min 43.785 sec  15                 152005           83242.4         2.31054e+10\n",
       "    2019-04-16 10:27:21  1 min 48.161 sec  26                 142389           78155.1         2.02746e+10\n",
       "    2019-04-16 10:27:25  1 min 52.228 sec  36                 139136           76378.2         1.93588e+10\n",
       "    2019-04-16 10:27:29  1 min 56.298 sec  46                 135953           75084.9         1.84832e+10\n",
       "    2019-04-16 10:27:31  1 min 57.973 sec  50                 136124           74806.6         1.85298e+10"
      ]
     },
     "metadata": {},
     "output_type": "execute_result"
    },
    {
     "name": "stdout",
     "output_type": "stream",
     "text": [
      "Variable Importances: \n"
     ]
    },
    {
     "data": {
      "text/html": [
       "<div style=\"overflow:auto\"><table style=\"width:50%\"><tr><td><b>variable</b></td>\n",
       "<td><b>relative_importance</b></td>\n",
       "<td><b>scaled_importance</b></td>\n",
       "<td><b>percentage</b></td></tr>\n",
       "<tr><td>date</td>\n",
       "<td>24735412442365952.0000000</td>\n",
       "<td>1.0</td>\n",
       "<td>0.1904938</td></tr>\n",
       "<tr><td>sqft_living</td>\n",
       "<td>22859390054825984.0000000</td>\n",
       "<td>0.9241564</td>\n",
       "<td>0.1760461</td></tr>\n",
       "<tr><td>grade</td>\n",
       "<td>18864071889649664.0000000</td>\n",
       "<td>0.7626342</td>\n",
       "<td>0.1452771</td></tr>\n",
       "<tr><td>lat</td>\n",
       "<td>12730031809757184.0000000</td>\n",
       "<td>0.5146481</td>\n",
       "<td>0.0980373</td></tr>\n",
       "<tr><td>sqft_living15</td>\n",
       "<td>9965286199394304.0000000</td>\n",
       "<td>0.4028753</td>\n",
       "<td>0.0767452</td></tr>\n",
       "<tr><td>sqft_above</td>\n",
       "<td>9866010177830912.0000000</td>\n",
       "<td>0.3988618</td>\n",
       "<td>0.0759807</td></tr>\n",
       "<tr><td>bathrooms</td>\n",
       "<td>8284462022393856.0000000</td>\n",
       "<td>0.3349231</td>\n",
       "<td>0.0638008</td></tr>\n",
       "<tr><td>long</td>\n",
       "<td>4865798514409472.0000000</td>\n",
       "<td>0.1967139</td>\n",
       "<td>0.0374728</td></tr>\n",
       "<tr><td>view</td>\n",
       "<td>3723600548855808.0000000</td>\n",
       "<td>0.1505372</td>\n",
       "<td>0.0286764</td></tr>\n",
       "<tr><td>yr_built</td>\n",
       "<td>2876313559891968.0000000</td>\n",
       "<td>0.1162832</td>\n",
       "<td>0.0221512</td></tr>\n",
       "<tr><td>waterfront</td>\n",
       "<td>2528070632210432.0000000</td>\n",
       "<td>0.1022045</td>\n",
       "<td>0.0194693</td></tr>\n",
       "<tr><td>zipcode</td>\n",
       "<td>1853343081168896.0000000</td>\n",
       "<td>0.0749267</td>\n",
       "<td>0.0142731</td></tr>\n",
       "<tr><td>sqft_basement</td>\n",
       "<td>1570196556873728.0000000</td>\n",
       "<td>0.0634797</td>\n",
       "<td>0.0120925</td></tr>\n",
       "<tr><td>id</td>\n",
       "<td>1165059808034816.0000000</td>\n",
       "<td>0.0471009</td>\n",
       "<td>0.0089724</td></tr>\n",
       "<tr><td>sqft_lot15</td>\n",
       "<td>1042726321651712.0000000</td>\n",
       "<td>0.0421552</td>\n",
       "<td>0.0080303</td></tr>\n",
       "<tr><td>sqft_lot</td>\n",
       "<td>951201910751232.0000000</td>\n",
       "<td>0.0384551</td>\n",
       "<td>0.0073255</td></tr>\n",
       "<tr><td>bedrooms</td>\n",
       "<td>745188905451520.0000000</td>\n",
       "<td>0.0301264</td>\n",
       "<td>0.0057389</td></tr>\n",
       "<tr><td>condition</td>\n",
       "<td>496455403962368.0000000</td>\n",
       "<td>0.0200706</td>\n",
       "<td>0.0038233</td></tr>\n",
       "<tr><td>floors</td>\n",
       "<td>415181905592320.0000000</td>\n",
       "<td>0.0167849</td>\n",
       "<td>0.0031974</td></tr>\n",
       "<tr><td>yr_renovated</td>\n",
       "<td>311115988860928.0000000</td>\n",
       "<td>0.0125778</td>\n",
       "<td>0.0023960</td></tr></table></div>"
      ],
      "text/plain": [
       "variable       relative_importance    scaled_importance    percentage\n",
       "-------------  ---------------------  -------------------  ------------\n",
       "date           2.47354e+16            1                    0.190494\n",
       "sqft_living    2.28594e+16            0.924156             0.176046\n",
       "grade          1.88641e+16            0.762634             0.145277\n",
       "lat            1.273e+16              0.514648             0.0980373\n",
       "sqft_living15  9.96529e+15            0.402875             0.0767452\n",
       "sqft_above     9.86601e+15            0.398862             0.0759807\n",
       "bathrooms      8.28446e+15            0.334923             0.0638008\n",
       "long           4.8658e+15             0.196714             0.0374728\n",
       "view           3.7236e+15             0.150537             0.0286764\n",
       "yr_built       2.87631e+15            0.116283             0.0221512\n",
       "waterfront     2.52807e+15            0.102205             0.0194693\n",
       "zipcode        1.85334e+15            0.0749267            0.0142731\n",
       "sqft_basement  1.5702e+15             0.0634797            0.0120925\n",
       "id             1.16506e+15            0.0471009            0.00897243\n",
       "sqft_lot15     1.04273e+15            0.0421552            0.0080303\n",
       "sqft_lot       9.51202e+14            0.0384551            0.00732545\n",
       "bedrooms       7.45189e+14            0.0301264            0.00573889\n",
       "condition      4.96455e+14            0.0200706            0.00382333\n",
       "floors         4.15182e+14            0.0167849            0.00319742\n",
       "yr_renovated   3.11116e+14            0.0125778            0.00239598"
      ]
     },
     "metadata": {},
     "output_type": "execute_result"
    },
    {
     "data": {
      "text/plain": []
     },
     "execution_count": 47,
     "metadata": {},
     "output_type": "execute_result"
    }
   ],
   "source": [
    "# view best model \n",
    "best = aml.leader\n",
    "best \n"
   ]
  },
  {
   "cell_type": "code",
   "execution_count": 48,
   "metadata": {},
   "outputs": [],
   "source": [
    "best_model = h2o.get_model(aml.leaderboard[0,'model_id'])#Getting the best model based on the leaderboard"
   ]
  },
  {
   "cell_type": "code",
   "execution_count": 49,
   "metadata": {},
   "outputs": [
    {
     "data": {
      "text/plain": [
       "'drf'"
      ]
     },
     "execution_count": 49,
     "metadata": {},
     "output_type": "execute_result"
    }
   ],
   "source": [
    "best_model.algo"
   ]
  },
  {
   "cell_type": "code",
   "execution_count": 74,
   "metadata": {},
   "outputs": [],
   "source": [
    "project =\"automl_run\"\n",
    "run_time=1000"
   ]
  },
  {
   "cell_type": "code",
   "execution_count": 75,
   "metadata": {},
   "outputs": [
    {
     "name": "stdout",
     "output_type": "stream",
     "text": [
      "AutoML progress: |████████████████████████████████████████████████████████| 100%\n"
     ]
    }
   ],
   "source": [
    "aml = H2OAutoML(max_runtime_secs=run_time,project_name = project) # run automl for 1000 seconds\n",
    "aml.train(x=X,  \n",
    "           y=y,\n",
    "           training_frame=df)"
   ]
  },
  {
   "cell_type": "code",
   "execution_count": 76,
   "metadata": {},
   "outputs": [
    {
     "name": "stdout",
     "output_type": "stream",
     "text": [
      "9Yse2upyXR\n"
     ]
    }
   ],
   "source": [
    "runid=run_id(10)\n",
    "if server_path==None:\n",
    "    server_path=os.path.abspath(os.curdir)\n",
    "os.chdir(server_path) \n",
    "run_dir = os.path.join(server_path,runid)\n",
    "os.mkdir(run_dir)\n",
    "os.chdir(run_dir)    \n",
    "\n",
    "# run_id to std out\n",
    "print (runid)"
   ]
  },
  {
   "cell_type": "code",
   "execution_count": 65,
   "metadata": {},
   "outputs": [
    {
     "data": {
      "text/html": [
       "<table>\n",
       "<thead>\n",
       "<tr><th>model_id                                           </th><th style=\"text-align: right;\">  mean_residual_deviance</th><th style=\"text-align: right;\">  rmse</th><th style=\"text-align: right;\">        mse</th><th style=\"text-align: right;\">     mae</th><th style=\"text-align: right;\">     rmsle</th></tr>\n",
       "</thead>\n",
       "<tbody>\n",
       "<tr><td>XRT_1_AutoML_20190416_112303                       </td><td style=\"text-align: right;\">             1.76809e+10</td><td style=\"text-align: right;\">132969</td><td style=\"text-align: right;\">1.76809e+10</td><td style=\"text-align: right;\"> 73008.3</td><td style=\"text-align: right;\">  0.183129</td></tr>\n",
       "<tr><td>DeepLearning_1_AutoML_20190416_112303              </td><td style=\"text-align: right;\">             1.87633e+10</td><td style=\"text-align: right;\">136979</td><td style=\"text-align: right;\">1.87633e+10</td><td style=\"text-align: right;\"> 82113.8</td><td style=\"text-align: right;\">  0.202561</td></tr>\n",
       "<tr><td>GBM_grid_1_AutoML_20190416_112303_model_2          </td><td style=\"text-align: right;\">             2.04356e+10</td><td style=\"text-align: right;\">142953</td><td style=\"text-align: right;\">2.04356e+10</td><td style=\"text-align: right;\"> 79153  </td><td style=\"text-align: right;\">  0.19423 </td></tr>\n",
       "<tr><td>GBM_grid_1_AutoML_20190416_112303_model_3          </td><td style=\"text-align: right;\">             2.23121e+10</td><td style=\"text-align: right;\">149372</td><td style=\"text-align: right;\">2.23121e+10</td><td style=\"text-align: right;\"> 81439.9</td><td style=\"text-align: right;\">  0.19702 </td></tr>\n",
       "<tr><td>DeepLearning_grid_1_AutoML_20190416_112303_model_1 </td><td style=\"text-align: right;\">             2.26044e+10</td><td style=\"text-align: right;\">150348</td><td style=\"text-align: right;\">2.26044e+10</td><td style=\"text-align: right;\"> 87370.5</td><td style=\"text-align: right;\">nan       </td></tr>\n",
       "<tr><td>GBM_2_AutoML_20190416_112303                       </td><td style=\"text-align: right;\">             2.45576e+10</td><td style=\"text-align: right;\">156709</td><td style=\"text-align: right;\">2.45576e+10</td><td style=\"text-align: right;\"> 80115.6</td><td style=\"text-align: right;\">  0.191868</td></tr>\n",
       "<tr><td>GBM_1_AutoML_20190416_112303                       </td><td style=\"text-align: right;\">             2.45851e+10</td><td style=\"text-align: right;\">156796</td><td style=\"text-align: right;\">2.45851e+10</td><td style=\"text-align: right;\"> 80214.4</td><td style=\"text-align: right;\">  0.192261</td></tr>\n",
       "<tr><td>GBM_3_AutoML_20190416_112303                       </td><td style=\"text-align: right;\">             2.53194e+10</td><td style=\"text-align: right;\">159121</td><td style=\"text-align: right;\">2.53194e+10</td><td style=\"text-align: right;\"> 81831.2</td><td style=\"text-align: right;\">  0.195757</td></tr>\n",
       "<tr><td>GBM_5_AutoML_20190416_112303                       </td><td style=\"text-align: right;\">             2.54758e+10</td><td style=\"text-align: right;\">159611</td><td style=\"text-align: right;\">2.54758e+10</td><td style=\"text-align: right;\"> 81325.7</td><td style=\"text-align: right;\">  0.193949</td></tr>\n",
       "<tr><td>GBM_4_AutoML_20190416_112303                       </td><td style=\"text-align: right;\">             2.64029e+10</td><td style=\"text-align: right;\">162490</td><td style=\"text-align: right;\">2.64029e+10</td><td style=\"text-align: right;\"> 83287.4</td><td style=\"text-align: right;\">  0.198625</td></tr>\n",
       "<tr><td>DRF_1_AutoML_20190416_112303                       </td><td style=\"text-align: right;\">             2.69687e+10</td><td style=\"text-align: right;\">164222</td><td style=\"text-align: right;\">2.69687e+10</td><td style=\"text-align: right;\"> 83523.4</td><td style=\"text-align: right;\">  0.200045</td></tr>\n",
       "<tr><td>GBM_grid_1_AutoML_20190416_112303_model_1          </td><td style=\"text-align: right;\">             2.71319e+10</td><td style=\"text-align: right;\">164718</td><td style=\"text-align: right;\">2.71319e+10</td><td style=\"text-align: right;\"> 82036  </td><td style=\"text-align: right;\">  0.196589</td></tr>\n",
       "<tr><td>GBM_grid_1_AutoML_20190416_112303_model_5          </td><td style=\"text-align: right;\">             3.09888e+10</td><td style=\"text-align: right;\">176036</td><td style=\"text-align: right;\">3.09888e+10</td><td style=\"text-align: right;\"> 88851.6</td><td style=\"text-align: right;\">  0.217298</td></tr>\n",
       "<tr><td>DeepLearning_grid_1_AutoML_20190416_112303_model_2 </td><td style=\"text-align: right;\">             3.48627e+10</td><td style=\"text-align: right;\">186716</td><td style=\"text-align: right;\">3.48627e+10</td><td style=\"text-align: right;\">115077  </td><td style=\"text-align: right;\">  0.260986</td></tr>\n",
       "<tr><td>DeepLearning_grid_1_AutoML_20190416_112303_model_3 </td><td style=\"text-align: right;\">             3.5139e+10 </td><td style=\"text-align: right;\">187454</td><td style=\"text-align: right;\">3.5139e+10 </td><td style=\"text-align: right;\">117240  </td><td style=\"text-align: right;\">nan       </td></tr>\n",
       "<tr><td>GBM_grid_1_AutoML_20190416_112303_model_4          </td><td style=\"text-align: right;\">             4.19546e+10</td><td style=\"text-align: right;\">204828</td><td style=\"text-align: right;\">4.19546e+10</td><td style=\"text-align: right;\">112782  </td><td style=\"text-align: right;\">  0.268308</td></tr>\n",
       "<tr><td>DeepLearning_grid_1_AutoML_20190416_112303_model_4 </td><td style=\"text-align: right;\">             5.41442e+10</td><td style=\"text-align: right;\">232689</td><td style=\"text-align: right;\">5.41442e+10</td><td style=\"text-align: right;\">180727  </td><td style=\"text-align: right;\">  0.460172</td></tr>\n",
       "<tr><td>StackedEnsemble_AllModels_AutoML_20190416_112303   </td><td style=\"text-align: right;\">             1.26739e+11</td><td style=\"text-align: right;\">356004</td><td style=\"text-align: right;\">1.26739e+11</td><td style=\"text-align: right;\">226016  </td><td style=\"text-align: right;\">  0.529407</td></tr>\n",
       "<tr><td>StackedEnsemble_BestOfFamily_AutoML_20190416_112303</td><td style=\"text-align: right;\">             1.32832e+11</td><td style=\"text-align: right;\">364461</td><td style=\"text-align: right;\">1.32832e+11</td><td style=\"text-align: right;\">232061  </td><td style=\"text-align: right;\">  0.543442</td></tr>\n",
       "<tr><td>GLM_grid_1_AutoML_20190416_112303_model_1          </td><td style=\"text-align: right;\">             1.34955e+11</td><td style=\"text-align: right;\">367363</td><td style=\"text-align: right;\">1.34955e+11</td><td style=\"text-align: right;\">234075  </td><td style=\"text-align: right;\">  0.548253</td></tr>\n",
       "</tbody>\n",
       "</table>"
      ]
     },
     "metadata": {},
     "output_type": "execute_result"
    },
    {
     "data": {
      "text/plain": []
     },
     "execution_count": 65,
     "metadata": {},
     "output_type": "execute_result"
    }
   ],
   "source": [
    "# view leaderboard\n",
    "lb = aml.leaderboard\n",
    "lb.head(500)"
   ]
  },
  {
   "cell_type": "code",
   "execution_count": 66,
   "metadata": {},
   "outputs": [
    {
     "data": {
      "text/plain": [
       "0                          XRT_1_AutoML_20190416_112303\n",
       "1                 DeepLearning_1_AutoML_20190416_112303\n",
       "2             GBM_grid_1_AutoML_20190416_112303_model_2\n",
       "3             GBM_grid_1_AutoML_20190416_112303_model_3\n",
       "4     DeepLearning_grid_1_AutoML_20190416_112303_mod...\n",
       "5                          GBM_2_AutoML_20190416_112303\n",
       "6                          GBM_1_AutoML_20190416_112303\n",
       "7                          GBM_3_AutoML_20190416_112303\n",
       "8                          GBM_5_AutoML_20190416_112303\n",
       "9                          GBM_4_AutoML_20190416_112303\n",
       "10                         DRF_1_AutoML_20190416_112303\n",
       "11            GBM_grid_1_AutoML_20190416_112303_model_1\n",
       "12            GBM_grid_1_AutoML_20190416_112303_model_5\n",
       "13    DeepLearning_grid_1_AutoML_20190416_112303_mod...\n",
       "14    DeepLearning_grid_1_AutoML_20190416_112303_mod...\n",
       "15            GBM_grid_1_AutoML_20190416_112303_model_4\n",
       "16    DeepLearning_grid_1_AutoML_20190416_112303_mod...\n",
       "17     StackedEnsemble_AllModels_AutoML_20190416_112303\n",
       "18    StackedEnsemble_BestOfFamily_AutoML_20190416_1...\n",
       "19            GLM_grid_1_AutoML_20190416_112303_model_1\n",
       "Name: model_id, dtype: object"
      ]
     },
     "execution_count": 66,
     "metadata": {},
     "output_type": "execute_result"
    }
   ],
   "source": [
    "aml_leaderboard_df=aml.leaderboard.as_data_frame()\n",
    "model_set=aml_leaderboard_df['model_id']\n",
    "model_set"
   ]
  },
  {
   "cell_type": "code",
   "execution_count": 77,
   "metadata": {},
   "outputs": [
    {
     "name": "stdout",
     "output_type": "stream",
     "text": [
      "{'start_time': 1555518380.0179133, 'target': 'price', 'server_path': 'C:\\\\Users\\\\Samartha\\\\Desktop\\\\ML_Project\\\\8b8zChwtBp\\\\rnPfAUKCEQ\\\\ER0YMNYr4\\\\LG06TboLD', 'data_path': None, 'test_path': None, 'max_models': 10, 'run_time': 1000, 'run_id': '9Yse2upyXR', 'regression': True, 'scale': False, 'model_path': None, 'balance': False, 'balance_threshold': 0.2, 'project': None, 'end_time': 1555518380.0179133, 'execution_time': 0.0, 'run_path': 'C:\\\\Users\\\\Samartha\\\\Desktop\\\\ML_Project\\\\8b8zChwtBp\\\\rnPfAUKCEQ\\\\ER0YMNYr4\\\\LG06TboLD\\\\9Yse2upyXR', 'nthreads': 1, 'min_mem_size': 6}\n"
     ]
    }
   ],
   "source": [
    "# meta data\n",
    "metadata = meta_data(runid,server_path,data_path,test_path,model_path,target,run_time,regression,max_models,balance_y,balance_threshold,name,run_dir,nthreads,min_mem_size)\n",
    "print(metadata)"
   ]
  },
  {
   "cell_type": "markdown",
   "metadata": {},
   "source": [
    "### XRT algorithm 100 Seconds"
   ]
  },
  {
   "cell_type": "code",
   "execution_count": 68,
   "metadata": {},
   "outputs": [
    {
     "data": {
      "text/plain": [
       "{'model_id': {'default': None,\n",
       "  'actual': {'__meta': {'schema_version': 3,\n",
       "    'schema_name': 'ModelKeyV3',\n",
       "    'schema_type': 'Key<Model>'},\n",
       "   'name': 'XRT_1_AutoML_20190416_112303',\n",
       "   'type': 'Key<Model>',\n",
       "   'URL': '/3/Models/XRT_1_AutoML_20190416_112303'}},\n",
       " 'training_frame': {'default': None,\n",
       "  'actual': {'__meta': {'schema_version': 3,\n",
       "    'schema_name': 'FrameKeyV3',\n",
       "    'schema_type': 'Key<Frame>'},\n",
       "   'name': 'automl_training_kc_house_data.hex',\n",
       "   'type': 'Key<Frame>',\n",
       "   'URL': '/3/Frames/automl_training_kc_house_data.hex'}},\n",
       " 'validation_frame': {'default': None, 'actual': None},\n",
       " 'nfolds': {'default': 0, 'actual': 5},\n",
       " 'keep_cross_validation_models': {'default': True, 'actual': False},\n",
       " 'keep_cross_validation_predictions': {'default': False, 'actual': True},\n",
       " 'keep_cross_validation_fold_assignment': {'default': False, 'actual': False},\n",
       " 'score_each_iteration': {'default': False, 'actual': False},\n",
       " 'score_tree_interval': {'default': 0, 'actual': 0},\n",
       " 'fold_assignment': {'default': 'AUTO', 'actual': 'Modulo'},\n",
       " 'fold_column': {'default': None, 'actual': None},\n",
       " 'response_column': {'default': None,\n",
       "  'actual': {'__meta': {'schema_version': 3,\n",
       "    'schema_name': 'ColSpecifierV3',\n",
       "    'schema_type': 'VecSpecifier'},\n",
       "   'column_name': 'price',\n",
       "   'is_member_of_frames': None}},\n",
       " 'ignored_columns': {'default': None, 'actual': []},\n",
       " 'ignore_const_cols': {'default': True, 'actual': True},\n",
       " 'offset_column': {'default': None, 'actual': None},\n",
       " 'weights_column': {'default': None, 'actual': None},\n",
       " 'balance_classes': {'default': False, 'actual': False},\n",
       " 'class_sampling_factors': {'default': None, 'actual': None},\n",
       " 'max_after_balance_size': {'default': 5.0, 'actual': 5.0},\n",
       " 'max_confusion_matrix_size': {'default': 20, 'actual': 20},\n",
       " 'max_hit_ratio_k': {'default': 0, 'actual': 0},\n",
       " 'ntrees': {'default': 50, 'actual': 50},\n",
       " 'max_depth': {'default': 20, 'actual': 20},\n",
       " 'min_rows': {'default': 1.0, 'actual': 1.0},\n",
       " 'nbins': {'default': 20, 'actual': 20},\n",
       " 'nbins_top_level': {'default': 1024, 'actual': 1024},\n",
       " 'nbins_cats': {'default': 1024, 'actual': 1024},\n",
       " 'r2_stopping': {'default': 1.7976931348623157e+308,\n",
       "  'actual': 1.7976931348623157e+308},\n",
       " 'stopping_rounds': {'default': 0, 'actual': 0},\n",
       " 'stopping_metric': {'default': 'AUTO', 'actual': 'deviance'},\n",
       " 'stopping_tolerance': {'default': 0.001, 'actual': 0.006802091556591675},\n",
       " 'max_runtime_secs': {'default': 0.0, 'actual': 0.0},\n",
       " 'seed': {'default': -1, 'actual': 3956522368262092058},\n",
       " 'build_tree_one_node': {'default': False, 'actual': False},\n",
       " 'mtries': {'default': -1, 'actual': -1},\n",
       " 'sample_rate': {'default': 0.6320000290870667, 'actual': 0.6320000290870667},\n",
       " 'sample_rate_per_class': {'default': None, 'actual': None},\n",
       " 'binomial_double_trees': {'default': False, 'actual': False},\n",
       " 'checkpoint': {'default': None, 'actual': None},\n",
       " 'col_sample_rate_change_per_level': {'default': 1.0, 'actual': 1.0},\n",
       " 'col_sample_rate_per_tree': {'default': 1.0, 'actual': 1.0},\n",
       " 'min_split_improvement': {'default': 1e-05, 'actual': 1e-05},\n",
       " 'histogram_type': {'default': 'AUTO', 'actual': 'Random'},\n",
       " 'categorical_encoding': {'default': 'AUTO', 'actual': 'AUTO'},\n",
       " 'calibrate_model': {'default': False, 'actual': False},\n",
       " 'calibration_frame': {'default': None, 'actual': None},\n",
       " 'distribution': {'default': 'AUTO', 'actual': 'gaussian'},\n",
       " 'custom_metric_func': {'default': None, 'actual': None},\n",
       " 'export_checkpoints_dir': {'default': None, 'actual': None}}"
      ]
     },
     "execution_count": 68,
     "metadata": {},
     "output_type": "execute_result"
    }
   ],
   "source": [
    "aml_leaderboard_df=aml.leaderboard.as_data_frame()\n",
    "model_set=aml_leaderboard_df['model_id']\n",
    "mod_best0=h2o.get_model(model_set[0])\n",
    "mod_best0.params"
   ]
  },
  {
   "cell_type": "code",
   "execution_count": 69,
   "metadata": {},
   "outputs": [],
   "source": [
    "hyperparameters = [mod_best0.params]\n",
    "hyperparameter_json(hyperparameters,'XRT_1000_seconds')"
   ]
  },
  {
   "cell_type": "markdown",
   "metadata": {},
   "source": [
    "### GBM 1000 Seconds"
   ]
  },
  {
   "cell_type": "code",
   "execution_count": 70,
   "metadata": {},
   "outputs": [
    {
     "data": {
      "text/plain": [
       "{'model_id': {'default': None,\n",
       "  'actual': {'__meta': {'schema_version': 3,\n",
       "    'schema_name': 'ModelKeyV3',\n",
       "    'schema_type': 'Key<Model>'},\n",
       "   'name': 'GBM_4_AutoML_20190416_112303',\n",
       "   'type': 'Key<Model>',\n",
       "   'URL': '/3/Models/GBM_4_AutoML_20190416_112303'}},\n",
       " 'training_frame': {'default': None,\n",
       "  'actual': {'__meta': {'schema_version': 3,\n",
       "    'schema_name': 'FrameKeyV3',\n",
       "    'schema_type': 'Key<Frame>'},\n",
       "   'name': 'automl_training_kc_house_data.hex',\n",
       "   'type': 'Key<Frame>',\n",
       "   'URL': '/3/Frames/automl_training_kc_house_data.hex'}},\n",
       " 'validation_frame': {'default': None, 'actual': None},\n",
       " 'nfolds': {'default': 0, 'actual': 5},\n",
       " 'keep_cross_validation_models': {'default': True, 'actual': False},\n",
       " 'keep_cross_validation_predictions': {'default': False, 'actual': True},\n",
       " 'keep_cross_validation_fold_assignment': {'default': False, 'actual': False},\n",
       " 'score_each_iteration': {'default': False, 'actual': False},\n",
       " 'score_tree_interval': {'default': 0, 'actual': 5},\n",
       " 'fold_assignment': {'default': 'AUTO', 'actual': 'Modulo'},\n",
       " 'fold_column': {'default': None, 'actual': None},\n",
       " 'response_column': {'default': None,\n",
       "  'actual': {'__meta': {'schema_version': 3,\n",
       "    'schema_name': 'ColSpecifierV3',\n",
       "    'schema_type': 'VecSpecifier'},\n",
       "   'column_name': 'price',\n",
       "   'is_member_of_frames': None}},\n",
       " 'ignored_columns': {'default': None, 'actual': []},\n",
       " 'ignore_const_cols': {'default': True, 'actual': True},\n",
       " 'offset_column': {'default': None, 'actual': None},\n",
       " 'weights_column': {'default': None, 'actual': None},\n",
       " 'balance_classes': {'default': False, 'actual': False},\n",
       " 'class_sampling_factors': {'default': None, 'actual': None},\n",
       " 'max_after_balance_size': {'default': 5.0, 'actual': 5.0},\n",
       " 'max_confusion_matrix_size': {'default': 20, 'actual': 20},\n",
       " 'max_hit_ratio_k': {'default': 0, 'actual': 0},\n",
       " 'ntrees': {'default': 50, 'actual': 78},\n",
       " 'max_depth': {'default': 5, 'actual': 15},\n",
       " 'min_rows': {'default': 10.0, 'actual': 100.0},\n",
       " 'nbins': {'default': 20, 'actual': 20},\n",
       " 'nbins_top_level': {'default': 1024, 'actual': 1024},\n",
       " 'nbins_cats': {'default': 1024, 'actual': 1024},\n",
       " 'r2_stopping': {'default': 1.7976931348623157e+308,\n",
       "  'actual': 1.7976931348623157e+308},\n",
       " 'stopping_rounds': {'default': 0, 'actual': 0},\n",
       " 'stopping_metric': {'default': 'AUTO', 'actual': 'deviance'},\n",
       " 'stopping_tolerance': {'default': 0.001, 'actual': 0.006802091556591675},\n",
       " 'max_runtime_secs': {'default': 0.0, 'actual': 0.0},\n",
       " 'seed': {'default': -1, 'actual': 5295483885421755599},\n",
       " 'build_tree_one_node': {'default': False, 'actual': False},\n",
       " 'learn_rate': {'default': 0.1, 'actual': 0.1},\n",
       " 'learn_rate_annealing': {'default': 1.0, 'actual': 1.0},\n",
       " 'distribution': {'default': 'AUTO', 'actual': 'gaussian'},\n",
       " 'quantile_alpha': {'default': 0.5, 'actual': 0.5},\n",
       " 'tweedie_power': {'default': 1.5, 'actual': 1.5},\n",
       " 'huber_alpha': {'default': 0.9, 'actual': 0.9},\n",
       " 'checkpoint': {'default': None, 'actual': None},\n",
       " 'sample_rate': {'default': 1.0, 'actual': 0.8},\n",
       " 'sample_rate_per_class': {'default': None, 'actual': None},\n",
       " 'col_sample_rate': {'default': 1.0, 'actual': 0.8},\n",
       " 'col_sample_rate_change_per_level': {'default': 1.0, 'actual': 1.0},\n",
       " 'col_sample_rate_per_tree': {'default': 1.0, 'actual': 0.8},\n",
       " 'min_split_improvement': {'default': 1e-05, 'actual': 1e-05},\n",
       " 'histogram_type': {'default': 'AUTO', 'actual': 'AUTO'},\n",
       " 'max_abs_leafnode_pred': {'default': 1.7976931348623157e+308,\n",
       "  'actual': 1.7976931348623157e+308},\n",
       " 'pred_noise_bandwidth': {'default': 0.0, 'actual': 0.0},\n",
       " 'categorical_encoding': {'default': 'AUTO', 'actual': 'AUTO'},\n",
       " 'calibrate_model': {'default': False, 'actual': False},\n",
       " 'calibration_frame': {'default': None, 'actual': None},\n",
       " 'custom_metric_func': {'default': None, 'actual': None},\n",
       " 'export_checkpoints_dir': {'default': None, 'actual': None},\n",
       " 'monotone_constraints': {'default': None, 'actual': None}}"
      ]
     },
     "execution_count": 70,
     "metadata": {},
     "output_type": "execute_result"
    }
   ],
   "source": [
    "mod_best5=h2o.get_model(model_set[5])\n",
    "mod_best6=h2o.get_model(model_set[6])\n",
    "mod_best7=h2o.get_model(model_set[7])\n",
    "mod_best8=h2o.get_model(model_set[8])\n",
    "mod_best9=h2o.get_model(model_set[9])\n",
    "mod_best5.params\n",
    "mod_best6.params\n",
    "mod_best7.params\n",
    "mod_best8.params\n",
    "mod_best9.params"
   ]
  },
  {
   "cell_type": "code",
   "execution_count": 71,
   "metadata": {},
   "outputs": [],
   "source": [
    "hyperparameters = [mod_best5.params]\n",
    "hyperparameter_json(hyperparameters,'GBM1_1000_seconds')"
   ]
  },
  {
   "cell_type": "code",
   "execution_count": 72,
   "metadata": {},
   "outputs": [],
   "source": [
    "hyperparameters = [mod_best6.params]\n",
    "hyperparameter_json(hyperparameters,'GBM2_1000_seconds')"
   ]
  },
  {
   "cell_type": "code",
   "execution_count": 73,
   "metadata": {},
   "outputs": [],
   "source": [
    "hyperparameters = [mod_best7.params]\n",
    "hyperparameter_json(hyperparameters,'GBM3_1000_seconds')"
   ]
  },
  {
   "cell_type": "code",
   "execution_count": 74,
   "metadata": {},
   "outputs": [],
   "source": [
    "hyperparameters = [mod_best8.params]\n",
    "hyperparameter_json(hyperparameters,'GBM4_1000_seconds')"
   ]
  },
  {
   "cell_type": "code",
   "execution_count": 99,
   "metadata": {},
   "outputs": [],
   "source": [
    "hyperparameters = [mod_best9.params]\n",
    "hyperparameter_json(hyperparameters,'GBM5_1000_seconds')"
   ]
  },
  {
   "cell_type": "markdown",
   "metadata": {},
   "source": [
    "### GBM Grid 1000 Seconds"
   ]
  },
  {
   "cell_type": "code",
   "execution_count": 76,
   "metadata": {},
   "outputs": [
    {
     "data": {
      "text/plain": [
       "{'model_id': {'default': None,\n",
       "  'actual': {'__meta': {'schema_version': 3,\n",
       "    'schema_name': 'ModelKeyV3',\n",
       "    'schema_type': 'Key<Model>'},\n",
       "   'name': 'GBM_grid_1_AutoML_20190416_112303_model_4',\n",
       "   'type': 'Key<Model>',\n",
       "   'URL': '/3/Models/GBM_grid_1_AutoML_20190416_112303_model_4'}},\n",
       " 'training_frame': {'default': None,\n",
       "  'actual': {'__meta': {'schema_version': 3,\n",
       "    'schema_name': 'FrameKeyV3',\n",
       "    'schema_type': 'Key<Frame>'},\n",
       "   'name': 'automl_training_kc_house_data.hex',\n",
       "   'type': 'Key<Frame>',\n",
       "   'URL': '/3/Frames/automl_training_kc_house_data.hex'}},\n",
       " 'validation_frame': {'default': None, 'actual': None},\n",
       " 'nfolds': {'default': 0, 'actual': 5},\n",
       " 'keep_cross_validation_models': {'default': True, 'actual': False},\n",
       " 'keep_cross_validation_predictions': {'default': False, 'actual': True},\n",
       " 'keep_cross_validation_fold_assignment': {'default': False, 'actual': False},\n",
       " 'score_each_iteration': {'default': False, 'actual': False},\n",
       " 'score_tree_interval': {'default': 0, 'actual': 5},\n",
       " 'fold_assignment': {'default': 'AUTO', 'actual': 'Modulo'},\n",
       " 'fold_column': {'default': None, 'actual': None},\n",
       " 'response_column': {'default': None,\n",
       "  'actual': {'__meta': {'schema_version': 3,\n",
       "    'schema_name': 'ColSpecifierV3',\n",
       "    'schema_type': 'VecSpecifier'},\n",
       "   'column_name': 'price',\n",
       "   'is_member_of_frames': None}},\n",
       " 'ignored_columns': {'default': None, 'actual': []},\n",
       " 'ignore_const_cols': {'default': True, 'actual': True},\n",
       " 'offset_column': {'default': None, 'actual': None},\n",
       " 'weights_column': {'default': None, 'actual': None},\n",
       " 'balance_classes': {'default': False, 'actual': False},\n",
       " 'class_sampling_factors': {'default': None, 'actual': None},\n",
       " 'max_after_balance_size': {'default': 5.0, 'actual': 5.0},\n",
       " 'max_confusion_matrix_size': {'default': 20, 'actual': 20},\n",
       " 'max_hit_ratio_k': {'default': 0, 'actual': 0},\n",
       " 'ntrees': {'default': 50, 'actual': 38},\n",
       " 'max_depth': {'default': 5, 'actual': 11},\n",
       " 'min_rows': {'default': 10.0, 'actual': 15.0},\n",
       " 'nbins': {'default': 20, 'actual': 20},\n",
       " 'nbins_top_level': {'default': 1024, 'actual': 1024},\n",
       " 'nbins_cats': {'default': 1024, 'actual': 1024},\n",
       " 'r2_stopping': {'default': 1.7976931348623157e+308,\n",
       "  'actual': 1.7976931348623157e+308},\n",
       " 'stopping_rounds': {'default': 0, 'actual': 0},\n",
       " 'stopping_metric': {'default': 'AUTO', 'actual': 'deviance'},\n",
       " 'stopping_tolerance': {'default': 0.001, 'actual': 0.006802091556591675},\n",
       " 'max_runtime_secs': {'default': 0.0, 'actual': 0.0},\n",
       " 'seed': {'default': -1, 'actual': 3344337981670259880},\n",
       " 'build_tree_one_node': {'default': False, 'actual': False},\n",
       " 'learn_rate': {'default': 0.1, 'actual': 0.5},\n",
       " 'learn_rate_annealing': {'default': 1.0, 'actual': 1.0},\n",
       " 'distribution': {'default': 'AUTO', 'actual': 'gaussian'},\n",
       " 'quantile_alpha': {'default': 0.5, 'actual': 0.5},\n",
       " 'tweedie_power': {'default': 1.5, 'actual': 1.5},\n",
       " 'huber_alpha': {'default': 0.9, 'actual': 0.9},\n",
       " 'checkpoint': {'default': None, 'actual': None},\n",
       " 'sample_rate': {'default': 1.0, 'actual': 0.6},\n",
       " 'sample_rate_per_class': {'default': None, 'actual': None},\n",
       " 'col_sample_rate': {'default': 1.0, 'actual': 0.7},\n",
       " 'col_sample_rate_change_per_level': {'default': 1.0, 'actual': 1.0},\n",
       " 'col_sample_rate_per_tree': {'default': 1.0, 'actual': 1.0},\n",
       " 'min_split_improvement': {'default': 1e-05, 'actual': 0.0001},\n",
       " 'histogram_type': {'default': 'AUTO', 'actual': 'AUTO'},\n",
       " 'max_abs_leafnode_pred': {'default': 1.7976931348623157e+308,\n",
       "  'actual': 1.7976931348623157e+308},\n",
       " 'pred_noise_bandwidth': {'default': 0.0, 'actual': 0.0},\n",
       " 'categorical_encoding': {'default': 'AUTO', 'actual': 'AUTO'},\n",
       " 'calibrate_model': {'default': False, 'actual': False},\n",
       " 'calibration_frame': {'default': None, 'actual': None},\n",
       " 'custom_metric_func': {'default': None, 'actual': None},\n",
       " 'export_checkpoints_dir': {'default': None, 'actual': None},\n",
       " 'monotone_constraints': {'default': None, 'actual': None}}"
      ]
     },
     "execution_count": 76,
     "metadata": {},
     "output_type": "execute_result"
    }
   ],
   "source": [
    "mod_best2=h2o.get_model(model_set[2])\n",
    "mod_best3=h2o.get_model(model_set[3])\n",
    "mod_best11=h2o.get_model(model_set[11])\n",
    "mod_best12=h2o.get_model(model_set[12])\n",
    "mod_best15=h2o.get_model(model_set[15])\n",
    "mod_best2.params\n",
    "mod_best3.params\n",
    "mod_best11.params\n",
    "mod_best12.params\n",
    "mod_best15.params"
   ]
  },
  {
   "cell_type": "code",
   "execution_count": 77,
   "metadata": {},
   "outputs": [],
   "source": [
    "hyperparameters = [mod_best2.params]\n",
    "hyperparameter_json(hyperparameters,'GBM_Grid1_1000_seconds')"
   ]
  },
  {
   "cell_type": "code",
   "execution_count": 78,
   "metadata": {},
   "outputs": [],
   "source": [
    "hyperparameters = [mod_best3.params]\n",
    "hyperparameter_json(hyperparameters,'GBM_Grid2_1000_seconds')"
   ]
  },
  {
   "cell_type": "code",
   "execution_count": 79,
   "metadata": {},
   "outputs": [],
   "source": [
    "hyperparameters = [mod_best11.params]\n",
    "hyperparameter_json(hyperparameters,'GBM_Grid3_1000_seconds')"
   ]
  },
  {
   "cell_type": "code",
   "execution_count": 80,
   "metadata": {},
   "outputs": [],
   "source": [
    "hyperparameters = [mod_best12.params]\n",
    "hyperparameter_json(hyperparameters,'GBM_Grid4_1000_seconds')"
   ]
  },
  {
   "cell_type": "code",
   "execution_count": 81,
   "metadata": {},
   "outputs": [],
   "source": [
    "hyperparameters = [mod_best15.params]\n",
    "hyperparameter_json(hyperparameters,'GBM_Grid5_1000_seconds')"
   ]
  },
  {
   "cell_type": "markdown",
   "metadata": {},
   "source": [
    "### Deep Learning Grid 1000 Seconds"
   ]
  },
  {
   "cell_type": "code",
   "execution_count": 82,
   "metadata": {},
   "outputs": [
    {
     "data": {
      "text/plain": [
       "{'model_id': {'default': None,\n",
       "  'actual': {'__meta': {'schema_version': 3,\n",
       "    'schema_name': 'ModelKeyV3',\n",
       "    'schema_type': 'Key<Model>'},\n",
       "   'name': 'DeepLearning_grid_1_AutoML_20190416_112303_model_4',\n",
       "   'type': 'Key<Model>',\n",
       "   'URL': '/3/Models/DeepLearning_grid_1_AutoML_20190416_112303_model_4'}},\n",
       " 'training_frame': {'default': None,\n",
       "  'actual': {'__meta': {'schema_version': 3,\n",
       "    'schema_name': 'FrameKeyV3',\n",
       "    'schema_type': 'Key<Frame>'},\n",
       "   'name': 'automl_training_kc_house_data.hex',\n",
       "   'type': 'Key<Frame>',\n",
       "   'URL': '/3/Frames/automl_training_kc_house_data.hex'}},\n",
       " 'validation_frame': {'default': None, 'actual': None},\n",
       " 'nfolds': {'default': 0, 'actual': 5},\n",
       " 'keep_cross_validation_models': {'default': True, 'actual': False},\n",
       " 'keep_cross_validation_predictions': {'default': False, 'actual': True},\n",
       " 'keep_cross_validation_fold_assignment': {'default': False, 'actual': False},\n",
       " 'fold_assignment': {'default': 'AUTO', 'actual': 'Modulo'},\n",
       " 'fold_column': {'default': None, 'actual': None},\n",
       " 'response_column': {'default': None,\n",
       "  'actual': {'__meta': {'schema_version': 3,\n",
       "    'schema_name': 'ColSpecifierV3',\n",
       "    'schema_type': 'VecSpecifier'},\n",
       "   'column_name': 'price',\n",
       "   'is_member_of_frames': None}},\n",
       " 'ignored_columns': {'default': None, 'actual': []},\n",
       " 'ignore_const_cols': {'default': True, 'actual': True},\n",
       " 'score_each_iteration': {'default': False, 'actual': False},\n",
       " 'weights_column': {'default': None, 'actual': None},\n",
       " 'offset_column': {'default': None, 'actual': None},\n",
       " 'balance_classes': {'default': False, 'actual': False},\n",
       " 'class_sampling_factors': {'default': None, 'actual': None},\n",
       " 'max_after_balance_size': {'default': 5.0, 'actual': 5.0},\n",
       " 'max_confusion_matrix_size': {'default': 20, 'actual': 20},\n",
       " 'max_hit_ratio_k': {'default': 0, 'actual': 0},\n",
       " 'checkpoint': {'default': None, 'actual': None},\n",
       " 'pretrained_autoencoder': {'default': None, 'actual': None},\n",
       " 'overwrite_with_best_model': {'default': True, 'actual': False},\n",
       " 'use_all_factor_levels': {'default': True, 'actual': True},\n",
       " 'standardize': {'default': True, 'actual': True},\n",
       " 'activation': {'default': 'Rectifier', 'actual': 'RectifierWithDropout'},\n",
       " 'hidden': {'default': [200, 200], 'actual': [50, 50, 50]},\n",
       " 'epochs': {'default': 10.0, 'actual': 28.108171814427273},\n",
       " 'train_samples_per_iteration': {'default': -2, 'actual': -2},\n",
       " 'target_ratio_comm_to_comp': {'default': 0.05, 'actual': 0.05},\n",
       " 'seed': {'default': -1, 'actual': 4076022894468756973},\n",
       " 'adaptive_rate': {'default': True, 'actual': True},\n",
       " 'rho': {'default': 0.99, 'actual': 0.99},\n",
       " 'epsilon': {'default': 1e-08, 'actual': 1e-06},\n",
       " 'rate': {'default': 0.005, 'actual': 0.005},\n",
       " 'rate_annealing': {'default': 1e-06, 'actual': 1e-06},\n",
       " 'rate_decay': {'default': 1.0, 'actual': 1.0},\n",
       " 'momentum_start': {'default': 0.0, 'actual': 0.0},\n",
       " 'momentum_ramp': {'default': 1000000.0, 'actual': 1000000.0},\n",
       " 'momentum_stable': {'default': 0.0, 'actual': 0.0},\n",
       " 'nesterov_accelerated_gradient': {'default': True, 'actual': True},\n",
       " 'input_dropout_ratio': {'default': 0.0, 'actual': 0.1},\n",
       " 'hidden_dropout_ratios': {'default': None, 'actual': [0.3, 0.3, 0.3]},\n",
       " 'l1': {'default': 0.0, 'actual': 0.0},\n",
       " 'l2': {'default': 0.0, 'actual': 0.0},\n",
       " 'max_w2': {'default': 3.4028235e+38, 'actual': 3.4028235e+38},\n",
       " 'initial_weight_distribution': {'default': 'UniformAdaptive',\n",
       "  'actual': 'UniformAdaptive'},\n",
       " 'initial_weight_scale': {'default': 1.0, 'actual': 1.0},\n",
       " 'initial_weights': {'default': None, 'actual': None},\n",
       " 'initial_biases': {'default': None, 'actual': None},\n",
       " 'loss': {'default': 'Automatic', 'actual': 'Automatic'},\n",
       " 'distribution': {'default': 'AUTO', 'actual': 'AUTO'},\n",
       " 'quantile_alpha': {'default': 0.5, 'actual': 0.5},\n",
       " 'tweedie_power': {'default': 1.5, 'actual': 1.5},\n",
       " 'huber_alpha': {'default': 0.9, 'actual': 0.9},\n",
       " 'score_interval': {'default': 5.0, 'actual': 5.0},\n",
       " 'score_training_samples': {'default': 10000, 'actual': 10000},\n",
       " 'score_validation_samples': {'default': 0, 'actual': 0},\n",
       " 'score_duty_cycle': {'default': 0.1, 'actual': 0.1},\n",
       " 'classification_stop': {'default': 0.0, 'actual': 0.0},\n",
       " 'regression_stop': {'default': 1e-06, 'actual': 1e-06},\n",
       " 'stopping_rounds': {'default': 5, 'actual': 0},\n",
       " 'stopping_metric': {'default': 'AUTO', 'actual': 'deviance'},\n",
       " 'stopping_tolerance': {'default': 0.0, 'actual': 0.006802091556591675},\n",
       " 'max_runtime_secs': {'default': 0.0, 'actual': 0.0},\n",
       " 'score_validation_sampling': {'default': 'Uniform', 'actual': 'Uniform'},\n",
       " 'diagnostics': {'default': True, 'actual': True},\n",
       " 'fast_mode': {'default': True, 'actual': True},\n",
       " 'force_load_balance': {'default': True, 'actual': True},\n",
       " 'variable_importances': {'default': True, 'actual': True},\n",
       " 'replicate_training_data': {'default': True, 'actual': True},\n",
       " 'single_node_mode': {'default': False, 'actual': False},\n",
       " 'shuffle_training_data': {'default': False, 'actual': False},\n",
       " 'missing_values_handling': {'default': 'MeanImputation',\n",
       "  'actual': 'MeanImputation'},\n",
       " 'quiet_mode': {'default': False, 'actual': False},\n",
       " 'autoencoder': {'default': False, 'actual': False},\n",
       " 'sparse': {'default': False, 'actual': False},\n",
       " 'col_major': {'default': False, 'actual': False},\n",
       " 'average_activation': {'default': 0.0, 'actual': 0.0},\n",
       " 'sparsity_beta': {'default': 0.0, 'actual': 0.0},\n",
       " 'max_categorical_features': {'default': 2147483647, 'actual': 2147483647},\n",
       " 'reproducible': {'default': False, 'actual': False},\n",
       " 'export_weights_and_biases': {'default': False, 'actual': False},\n",
       " 'mini_batch_size': {'default': 1, 'actual': 1},\n",
       " 'categorical_encoding': {'default': 'AUTO', 'actual': 'AUTO'},\n",
       " 'elastic_averaging': {'default': False, 'actual': False},\n",
       " 'elastic_averaging_moving_rate': {'default': 0.9, 'actual': 0.9},\n",
       " 'elastic_averaging_regularization': {'default': 0.001, 'actual': 0.001},\n",
       " 'export_checkpoints_dir': {'default': None, 'actual': None}}"
      ]
     },
     "execution_count": 82,
     "metadata": {},
     "output_type": "execute_result"
    }
   ],
   "source": [
    "mod_best4=h2o.get_model(model_set[4])\n",
    "mod_best13=h2o.get_model(model_set[13])\n",
    "mod_best14=h2o.get_model(model_set[14])\n",
    "mod_best16=h2o.get_model(model_set[16])\n",
    "mod_best4.params\n",
    "mod_best13.params\n",
    "mod_best14.params\n",
    "mod_best16.params"
   ]
  },
  {
   "cell_type": "code",
   "execution_count": 83,
   "metadata": {},
   "outputs": [],
   "source": [
    "hyperparameters = [mod_best4.params]\n",
    "hyperparameter_json(hyperparameters,'DeepLearning_Grid1_1000_seconds')"
   ]
  },
  {
   "cell_type": "code",
   "execution_count": 84,
   "metadata": {},
   "outputs": [],
   "source": [
    "hyperparameters = [mod_best13.params]\n",
    "hyperparameter_json(hyperparameters,'DeepLearning_Grid2_1000_seconds')"
   ]
  },
  {
   "cell_type": "code",
   "execution_count": 85,
   "metadata": {},
   "outputs": [],
   "source": [
    "hyperparameters = [mod_best14.params]\n",
    "hyperparameter_json(hyperparameters,'DeepLearning_Grid3_1000_seconds')"
   ]
  },
  {
   "cell_type": "code",
   "execution_count": 86,
   "metadata": {},
   "outputs": [],
   "source": [
    "hyperparameters = [mod_best16.params]\n",
    "hyperparameter_json(hyperparameters,'DeepLearning_Grid4_1000_seconds')"
   ]
  },
  {
   "cell_type": "markdown",
   "metadata": {},
   "source": [
    "## Deep Learning 1000 Seconds run"
   ]
  },
  {
   "cell_type": "code",
   "execution_count": 87,
   "metadata": {},
   "outputs": [
    {
     "data": {
      "text/plain": [
       "{'model_id': {'default': None,\n",
       "  'actual': {'__meta': {'schema_version': 3,\n",
       "    'schema_name': 'ModelKeyV3',\n",
       "    'schema_type': 'Key<Model>'},\n",
       "   'name': 'DeepLearning_1_AutoML_20190416_112303',\n",
       "   'type': 'Key<Model>',\n",
       "   'URL': '/3/Models/DeepLearning_1_AutoML_20190416_112303'}},\n",
       " 'training_frame': {'default': None,\n",
       "  'actual': {'__meta': {'schema_version': 3,\n",
       "    'schema_name': 'FrameKeyV3',\n",
       "    'schema_type': 'Key<Frame>'},\n",
       "   'name': 'automl_training_kc_house_data.hex',\n",
       "   'type': 'Key<Frame>',\n",
       "   'URL': '/3/Frames/automl_training_kc_house_data.hex'}},\n",
       " 'validation_frame': {'default': None, 'actual': None},\n",
       " 'nfolds': {'default': 0, 'actual': 5},\n",
       " 'keep_cross_validation_models': {'default': True, 'actual': False},\n",
       " 'keep_cross_validation_predictions': {'default': False, 'actual': True},\n",
       " 'keep_cross_validation_fold_assignment': {'default': False, 'actual': False},\n",
       " 'fold_assignment': {'default': 'AUTO', 'actual': 'Modulo'},\n",
       " 'fold_column': {'default': None, 'actual': None},\n",
       " 'response_column': {'default': None,\n",
       "  'actual': {'__meta': {'schema_version': 3,\n",
       "    'schema_name': 'ColSpecifierV3',\n",
       "    'schema_type': 'VecSpecifier'},\n",
       "   'column_name': 'price',\n",
       "   'is_member_of_frames': None}},\n",
       " 'ignored_columns': {'default': None, 'actual': []},\n",
       " 'ignore_const_cols': {'default': True, 'actual': True},\n",
       " 'score_each_iteration': {'default': False, 'actual': False},\n",
       " 'weights_column': {'default': None, 'actual': None},\n",
       " 'offset_column': {'default': None, 'actual': None},\n",
       " 'balance_classes': {'default': False, 'actual': False},\n",
       " 'class_sampling_factors': {'default': None, 'actual': None},\n",
       " 'max_after_balance_size': {'default': 5.0, 'actual': 5.0},\n",
       " 'max_confusion_matrix_size': {'default': 20, 'actual': 20},\n",
       " 'max_hit_ratio_k': {'default': 0, 'actual': 0},\n",
       " 'checkpoint': {'default': None, 'actual': None},\n",
       " 'pretrained_autoencoder': {'default': None, 'actual': None},\n",
       " 'overwrite_with_best_model': {'default': True, 'actual': False},\n",
       " 'use_all_factor_levels': {'default': True, 'actual': True},\n",
       " 'standardize': {'default': True, 'actual': True},\n",
       " 'activation': {'default': 'Rectifier', 'actual': 'Rectifier'},\n",
       " 'hidden': {'default': [200, 200], 'actual': [10, 10, 10]},\n",
       " 'epochs': {'default': 10.0, 'actual': 10.401621632144538},\n",
       " 'train_samples_per_iteration': {'default': -2, 'actual': -2},\n",
       " 'target_ratio_comm_to_comp': {'default': 0.05, 'actual': 0.05},\n",
       " 'seed': {'default': -1, 'actual': -2923272195081755950},\n",
       " 'adaptive_rate': {'default': True, 'actual': True},\n",
       " 'rho': {'default': 0.99, 'actual': 0.99},\n",
       " 'epsilon': {'default': 1e-08, 'actual': 1e-08},\n",
       " 'rate': {'default': 0.005, 'actual': 0.005},\n",
       " 'rate_annealing': {'default': 1e-06, 'actual': 1e-06},\n",
       " 'rate_decay': {'default': 1.0, 'actual': 1.0},\n",
       " 'momentum_start': {'default': 0.0, 'actual': 0.0},\n",
       " 'momentum_ramp': {'default': 1000000.0, 'actual': 1000000.0},\n",
       " 'momentum_stable': {'default': 0.0, 'actual': 0.0},\n",
       " 'nesterov_accelerated_gradient': {'default': True, 'actual': True},\n",
       " 'input_dropout_ratio': {'default': 0.0, 'actual': 0.0},\n",
       " 'hidden_dropout_ratios': {'default': None, 'actual': None},\n",
       " 'l1': {'default': 0.0, 'actual': 0.0},\n",
       " 'l2': {'default': 0.0, 'actual': 0.0},\n",
       " 'max_w2': {'default': 3.4028235e+38, 'actual': 3.4028235e+38},\n",
       " 'initial_weight_distribution': {'default': 'UniformAdaptive',\n",
       "  'actual': 'UniformAdaptive'},\n",
       " 'initial_weight_scale': {'default': 1.0, 'actual': 1.0},\n",
       " 'initial_weights': {'default': None, 'actual': None},\n",
       " 'initial_biases': {'default': None, 'actual': None},\n",
       " 'loss': {'default': 'Automatic', 'actual': 'Automatic'},\n",
       " 'distribution': {'default': 'AUTO', 'actual': 'AUTO'},\n",
       " 'quantile_alpha': {'default': 0.5, 'actual': 0.5},\n",
       " 'tweedie_power': {'default': 1.5, 'actual': 1.5},\n",
       " 'huber_alpha': {'default': 0.9, 'actual': 0.9},\n",
       " 'score_interval': {'default': 5.0, 'actual': 5.0},\n",
       " 'score_training_samples': {'default': 10000, 'actual': 10000},\n",
       " 'score_validation_samples': {'default': 0, 'actual': 0},\n",
       " 'score_duty_cycle': {'default': 0.1, 'actual': 0.1},\n",
       " 'classification_stop': {'default': 0.0, 'actual': 0.0},\n",
       " 'regression_stop': {'default': 1e-06, 'actual': 1e-06},\n",
       " 'stopping_rounds': {'default': 5, 'actual': 0},\n",
       " 'stopping_metric': {'default': 'AUTO', 'actual': 'deviance'},\n",
       " 'stopping_tolerance': {'default': 0.0, 'actual': 0.006802091556591675},\n",
       " 'max_runtime_secs': {'default': 0.0, 'actual': 0.0},\n",
       " 'score_validation_sampling': {'default': 'Uniform', 'actual': 'Uniform'},\n",
       " 'diagnostics': {'default': True, 'actual': True},\n",
       " 'fast_mode': {'default': True, 'actual': True},\n",
       " 'force_load_balance': {'default': True, 'actual': True},\n",
       " 'variable_importances': {'default': True, 'actual': True},\n",
       " 'replicate_training_data': {'default': True, 'actual': True},\n",
       " 'single_node_mode': {'default': False, 'actual': False},\n",
       " 'shuffle_training_data': {'default': False, 'actual': False},\n",
       " 'missing_values_handling': {'default': 'MeanImputation',\n",
       "  'actual': 'MeanImputation'},\n",
       " 'quiet_mode': {'default': False, 'actual': False},\n",
       " 'autoencoder': {'default': False, 'actual': False},\n",
       " 'sparse': {'default': False, 'actual': False},\n",
       " 'col_major': {'default': False, 'actual': False},\n",
       " 'average_activation': {'default': 0.0, 'actual': 0.0},\n",
       " 'sparsity_beta': {'default': 0.0, 'actual': 0.0},\n",
       " 'max_categorical_features': {'default': 2147483647, 'actual': 2147483647},\n",
       " 'reproducible': {'default': False, 'actual': False},\n",
       " 'export_weights_and_biases': {'default': False, 'actual': False},\n",
       " 'mini_batch_size': {'default': 1, 'actual': 1},\n",
       " 'categorical_encoding': {'default': 'AUTO', 'actual': 'AUTO'},\n",
       " 'elastic_averaging': {'default': False, 'actual': False},\n",
       " 'elastic_averaging_moving_rate': {'default': 0.9, 'actual': 0.9},\n",
       " 'elastic_averaging_regularization': {'default': 0.001, 'actual': 0.001},\n",
       " 'export_checkpoints_dir': {'default': None, 'actual': None}}"
      ]
     },
     "execution_count": 87,
     "metadata": {},
     "output_type": "execute_result"
    }
   ],
   "source": [
    "mod_best1=h2o.get_model(model_set[1])\n",
    "mod_best1.params"
   ]
  },
  {
   "cell_type": "code",
   "execution_count": 88,
   "metadata": {},
   "outputs": [],
   "source": [
    "hyperparameters = [mod_best1.params]\n",
    "hyperparameter_json(hyperparameters,'DeepLearning_1000_seconds')"
   ]
  },
  {
   "cell_type": "markdown",
   "metadata": {},
   "source": [
    "### DRF 1000 Seconds"
   ]
  },
  {
   "cell_type": "code",
   "execution_count": 89,
   "metadata": {},
   "outputs": [
    {
     "data": {
      "text/plain": [
       "{'model_id': {'default': None,\n",
       "  'actual': {'__meta': {'schema_version': 3,\n",
       "    'schema_name': 'ModelKeyV3',\n",
       "    'schema_type': 'Key<Model>'},\n",
       "   'name': 'DRF_1_AutoML_20190416_112303',\n",
       "   'type': 'Key<Model>',\n",
       "   'URL': '/3/Models/DRF_1_AutoML_20190416_112303'}},\n",
       " 'training_frame': {'default': None,\n",
       "  'actual': {'__meta': {'schema_version': 3,\n",
       "    'schema_name': 'FrameKeyV3',\n",
       "    'schema_type': 'Key<Frame>'},\n",
       "   'name': 'automl_training_kc_house_data.hex',\n",
       "   'type': 'Key<Frame>',\n",
       "   'URL': '/3/Frames/automl_training_kc_house_data.hex'}},\n",
       " 'validation_frame': {'default': None, 'actual': None},\n",
       " 'nfolds': {'default': 0, 'actual': 5},\n",
       " 'keep_cross_validation_models': {'default': True, 'actual': False},\n",
       " 'keep_cross_validation_predictions': {'default': False, 'actual': True},\n",
       " 'keep_cross_validation_fold_assignment': {'default': False, 'actual': False},\n",
       " 'score_each_iteration': {'default': False, 'actual': False},\n",
       " 'score_tree_interval': {'default': 0, 'actual': 0},\n",
       " 'fold_assignment': {'default': 'AUTO', 'actual': 'Modulo'},\n",
       " 'fold_column': {'default': None, 'actual': None},\n",
       " 'response_column': {'default': None,\n",
       "  'actual': {'__meta': {'schema_version': 3,\n",
       "    'schema_name': 'ColSpecifierV3',\n",
       "    'schema_type': 'VecSpecifier'},\n",
       "   'column_name': 'price',\n",
       "   'is_member_of_frames': None}},\n",
       " 'ignored_columns': {'default': None, 'actual': []},\n",
       " 'ignore_const_cols': {'default': True, 'actual': True},\n",
       " 'offset_column': {'default': None, 'actual': None},\n",
       " 'weights_column': {'default': None, 'actual': None},\n",
       " 'balance_classes': {'default': False, 'actual': False},\n",
       " 'class_sampling_factors': {'default': None, 'actual': None},\n",
       " 'max_after_balance_size': {'default': 5.0, 'actual': 5.0},\n",
       " 'max_confusion_matrix_size': {'default': 20, 'actual': 20},\n",
       " 'max_hit_ratio_k': {'default': 0, 'actual': 0},\n",
       " 'ntrees': {'default': 50, 'actual': 50},\n",
       " 'max_depth': {'default': 20, 'actual': 20},\n",
       " 'min_rows': {'default': 1.0, 'actual': 1.0},\n",
       " 'nbins': {'default': 20, 'actual': 20},\n",
       " 'nbins_top_level': {'default': 1024, 'actual': 1024},\n",
       " 'nbins_cats': {'default': 1024, 'actual': 1024},\n",
       " 'r2_stopping': {'default': 1.7976931348623157e+308,\n",
       "  'actual': 1.7976931348623157e+308},\n",
       " 'stopping_rounds': {'default': 0, 'actual': 0},\n",
       " 'stopping_metric': {'default': 'AUTO', 'actual': 'AUTO'},\n",
       " 'stopping_tolerance': {'default': 0.001, 'actual': 0.006802091556591675},\n",
       " 'max_runtime_secs': {'default': 0.0, 'actual': 0.0},\n",
       " 'seed': {'default': -1, 'actual': -966078208540649494},\n",
       " 'build_tree_one_node': {'default': False, 'actual': False},\n",
       " 'mtries': {'default': -1, 'actual': -1},\n",
       " 'sample_rate': {'default': 0.6320000290870667, 'actual': 0.6320000290870667},\n",
       " 'sample_rate_per_class': {'default': None, 'actual': None},\n",
       " 'binomial_double_trees': {'default': False, 'actual': False},\n",
       " 'checkpoint': {'default': None, 'actual': None},\n",
       " 'col_sample_rate_change_per_level': {'default': 1.0, 'actual': 1.0},\n",
       " 'col_sample_rate_per_tree': {'default': 1.0, 'actual': 1.0},\n",
       " 'min_split_improvement': {'default': 1e-05, 'actual': 1e-05},\n",
       " 'histogram_type': {'default': 'AUTO', 'actual': 'AUTO'},\n",
       " 'categorical_encoding': {'default': 'AUTO', 'actual': 'AUTO'},\n",
       " 'calibrate_model': {'default': False, 'actual': False},\n",
       " 'calibration_frame': {'default': None, 'actual': None},\n",
       " 'distribution': {'default': 'AUTO', 'actual': 'gaussian'},\n",
       " 'custom_metric_func': {'default': None, 'actual': None},\n",
       " 'export_checkpoints_dir': {'default': None, 'actual': None}}"
      ]
     },
     "execution_count": 89,
     "metadata": {},
     "output_type": "execute_result"
    }
   ],
   "source": [
    "mod_best10=h2o.get_model(model_set[10])\n",
    "mod_best10.params"
   ]
  },
  {
   "cell_type": "code",
   "execution_count": 91,
   "metadata": {},
   "outputs": [],
   "source": [
    "hyperparameters = [mod_best10.params]\n",
    "hyperparameter_json(hyperparameters,'DRF_1000_seconds')"
   ]
  },
  {
   "cell_type": "markdown",
   "metadata": {},
   "source": [
    "### Stacked Ensemble 1000 seconds"
   ]
  },
  {
   "cell_type": "code",
   "execution_count": 92,
   "metadata": {},
   "outputs": [
    {
     "data": {
      "text/plain": [
       "{'model_id': {'default': None,\n",
       "  'actual': {'__meta': {'schema_version': 3,\n",
       "    'schema_name': 'ModelKeyV3',\n",
       "    'schema_type': 'Key<Model>'},\n",
       "   'name': 'StackedEnsemble_AllModels_AutoML_20190416_112303',\n",
       "   'type': 'Key<Model>',\n",
       "   'URL': '/3/Models/StackedEnsemble_AllModels_AutoML_20190416_112303'}},\n",
       " 'training_frame': {'default': None,\n",
       "  'actual': {'__meta': {'schema_version': 3,\n",
       "    'schema_name': 'FrameKeyV3',\n",
       "    'schema_type': 'Key<Frame>'},\n",
       "   'name': 'automl_training_kc_house_data.hex',\n",
       "   'type': 'Key<Frame>',\n",
       "   'URL': '/3/Frames/automl_training_kc_house_data.hex'}},\n",
       " 'response_column': {'default': None,\n",
       "  'actual': {'__meta': {'schema_version': 3,\n",
       "    'schema_name': 'ColSpecifierV3',\n",
       "    'schema_type': 'VecSpecifier'},\n",
       "   'column_name': 'price',\n",
       "   'is_member_of_frames': None}},\n",
       " 'validation_frame': {'default': None, 'actual': None},\n",
       " 'base_models': {'default': [],\n",
       "  'actual': [{'__meta': {'schema_version': 3,\n",
       "     'schema_name': 'ModelKeyV3',\n",
       "     'schema_type': 'Key<Model>'},\n",
       "    'name': 'XRT_1_AutoML_20190416_112303',\n",
       "    'type': 'Key<Model>',\n",
       "    'URL': '/3/Models/XRT_1_AutoML_20190416_112303'},\n",
       "   {'__meta': {'schema_version': 3,\n",
       "     'schema_name': 'ModelKeyV3',\n",
       "     'schema_type': 'Key<Model>'},\n",
       "    'name': 'DeepLearning_1_AutoML_20190416_112303',\n",
       "    'type': 'Key<Model>',\n",
       "    'URL': '/3/Models/DeepLearning_1_AutoML_20190416_112303'},\n",
       "   {'__meta': {'schema_version': 3,\n",
       "     'schema_name': 'ModelKeyV3',\n",
       "     'schema_type': 'Key<Model>'},\n",
       "    'name': 'GBM_grid_1_AutoML_20190416_112303_model_2',\n",
       "    'type': 'Key<Model>',\n",
       "    'URL': '/3/Models/GBM_grid_1_AutoML_20190416_112303_model_2'},\n",
       "   {'__meta': {'schema_version': 3,\n",
       "     'schema_name': 'ModelKeyV3',\n",
       "     'schema_type': 'Key<Model>'},\n",
       "    'name': 'GBM_grid_1_AutoML_20190416_112303_model_3',\n",
       "    'type': 'Key<Model>',\n",
       "    'URL': '/3/Models/GBM_grid_1_AutoML_20190416_112303_model_3'},\n",
       "   {'__meta': {'schema_version': 3,\n",
       "     'schema_name': 'ModelKeyV3',\n",
       "     'schema_type': 'Key<Model>'},\n",
       "    'name': 'DeepLearning_grid_1_AutoML_20190416_112303_model_1',\n",
       "    'type': 'Key<Model>',\n",
       "    'URL': '/3/Models/DeepLearning_grid_1_AutoML_20190416_112303_model_1'},\n",
       "   {'__meta': {'schema_version': 3,\n",
       "     'schema_name': 'ModelKeyV3',\n",
       "     'schema_type': 'Key<Model>'},\n",
       "    'name': 'GBM_2_AutoML_20190416_112303',\n",
       "    'type': 'Key<Model>',\n",
       "    'URL': '/3/Models/GBM_2_AutoML_20190416_112303'},\n",
       "   {'__meta': {'schema_version': 3,\n",
       "     'schema_name': 'ModelKeyV3',\n",
       "     'schema_type': 'Key<Model>'},\n",
       "    'name': 'GBM_1_AutoML_20190416_112303',\n",
       "    'type': 'Key<Model>',\n",
       "    'URL': '/3/Models/GBM_1_AutoML_20190416_112303'},\n",
       "   {'__meta': {'schema_version': 3,\n",
       "     'schema_name': 'ModelKeyV3',\n",
       "     'schema_type': 'Key<Model>'},\n",
       "    'name': 'GBM_3_AutoML_20190416_112303',\n",
       "    'type': 'Key<Model>',\n",
       "    'URL': '/3/Models/GBM_3_AutoML_20190416_112303'},\n",
       "   {'__meta': {'schema_version': 3,\n",
       "     'schema_name': 'ModelKeyV3',\n",
       "     'schema_type': 'Key<Model>'},\n",
       "    'name': 'GBM_5_AutoML_20190416_112303',\n",
       "    'type': 'Key<Model>',\n",
       "    'URL': '/3/Models/GBM_5_AutoML_20190416_112303'},\n",
       "   {'__meta': {'schema_version': 3,\n",
       "     'schema_name': 'ModelKeyV3',\n",
       "     'schema_type': 'Key<Model>'},\n",
       "    'name': 'GBM_4_AutoML_20190416_112303',\n",
       "    'type': 'Key<Model>',\n",
       "    'URL': '/3/Models/GBM_4_AutoML_20190416_112303'},\n",
       "   {'__meta': {'schema_version': 3,\n",
       "     'schema_name': 'ModelKeyV3',\n",
       "     'schema_type': 'Key<Model>'},\n",
       "    'name': 'DRF_1_AutoML_20190416_112303',\n",
       "    'type': 'Key<Model>',\n",
       "    'URL': '/3/Models/DRF_1_AutoML_20190416_112303'},\n",
       "   {'__meta': {'schema_version': 3,\n",
       "     'schema_name': 'ModelKeyV3',\n",
       "     'schema_type': 'Key<Model>'},\n",
       "    'name': 'GBM_grid_1_AutoML_20190416_112303_model_1',\n",
       "    'type': 'Key<Model>',\n",
       "    'URL': '/3/Models/GBM_grid_1_AutoML_20190416_112303_model_1'},\n",
       "   {'__meta': {'schema_version': 3,\n",
       "     'schema_name': 'ModelKeyV3',\n",
       "     'schema_type': 'Key<Model>'},\n",
       "    'name': 'GBM_grid_1_AutoML_20190416_112303_model_5',\n",
       "    'type': 'Key<Model>',\n",
       "    'URL': '/3/Models/GBM_grid_1_AutoML_20190416_112303_model_5'},\n",
       "   {'__meta': {'schema_version': 3,\n",
       "     'schema_name': 'ModelKeyV3',\n",
       "     'schema_type': 'Key<Model>'},\n",
       "    'name': 'DeepLearning_grid_1_AutoML_20190416_112303_model_2',\n",
       "    'type': 'Key<Model>',\n",
       "    'URL': '/3/Models/DeepLearning_grid_1_AutoML_20190416_112303_model_2'},\n",
       "   {'__meta': {'schema_version': 3,\n",
       "     'schema_name': 'ModelKeyV3',\n",
       "     'schema_type': 'Key<Model>'},\n",
       "    'name': 'DeepLearning_grid_1_AutoML_20190416_112303_model_3',\n",
       "    'type': 'Key<Model>',\n",
       "    'URL': '/3/Models/DeepLearning_grid_1_AutoML_20190416_112303_model_3'},\n",
       "   {'__meta': {'schema_version': 3,\n",
       "     'schema_name': 'ModelKeyV3',\n",
       "     'schema_type': 'Key<Model>'},\n",
       "    'name': 'GBM_grid_1_AutoML_20190416_112303_model_4',\n",
       "    'type': 'Key<Model>',\n",
       "    'URL': '/3/Models/GBM_grid_1_AutoML_20190416_112303_model_4'},\n",
       "   {'__meta': {'schema_version': 3,\n",
       "     'schema_name': 'ModelKeyV3',\n",
       "     'schema_type': 'Key<Model>'},\n",
       "    'name': 'DeepLearning_grid_1_AutoML_20190416_112303_model_4',\n",
       "    'type': 'Key<Model>',\n",
       "    'URL': '/3/Models/DeepLearning_grid_1_AutoML_20190416_112303_model_4'},\n",
       "   {'__meta': {'schema_version': 3,\n",
       "     'schema_name': 'ModelKeyV3',\n",
       "     'schema_type': 'Key<Model>'},\n",
       "    'name': 'GLM_grid_1_AutoML_20190416_112303_model_1',\n",
       "    'type': 'Key<Model>',\n",
       "    'URL': '/3/Models/GLM_grid_1_AutoML_20190416_112303_model_1'}]},\n",
       " 'metalearner_algorithm': {'default': 'AUTO', 'actual': 'AUTO'},\n",
       " 'metalearner_nfolds': {'default': 0, 'actual': 5},\n",
       " 'metalearner_fold_assignment': {'default': None, 'actual': None},\n",
       " 'metalearner_fold_column': {'default': None, 'actual': None},\n",
       " 'keep_levelone_frame': {'default': False, 'actual': True},\n",
       " 'metalearner_params': {'default': '', 'actual': ''},\n",
       " 'seed': {'default': -1, 'actual': -4024451812177012347},\n",
       " 'export_checkpoints_dir': {'default': None, 'actual': None}}"
      ]
     },
     "execution_count": 92,
     "metadata": {},
     "output_type": "execute_result"
    }
   ],
   "source": [
    "mod_best17=h2o.get_model(model_set[17])\n",
    "mod_best17.params"
   ]
  },
  {
   "cell_type": "code",
   "execution_count": 93,
   "metadata": {},
   "outputs": [],
   "source": [
    "hyperparameters = [mod_best17.params]\n",
    "hyperparameter_json(hyperparameters,'StackedEnsemble_1000_seconds')"
   ]
  },
  {
   "cell_type": "markdown",
   "metadata": {},
   "source": [
    "### Stacked Ensemble Family 1000 seconds"
   ]
  },
  {
   "cell_type": "code",
   "execution_count": 95,
   "metadata": {},
   "outputs": [
    {
     "data": {
      "text/plain": [
       "{'model_id': {'default': None,\n",
       "  'actual': {'__meta': {'schema_version': 3,\n",
       "    'schema_name': 'ModelKeyV3',\n",
       "    'schema_type': 'Key<Model>'},\n",
       "   'name': 'StackedEnsemble_BestOfFamily_AutoML_20190416_112303',\n",
       "   'type': 'Key<Model>',\n",
       "   'URL': '/3/Models/StackedEnsemble_BestOfFamily_AutoML_20190416_112303'}},\n",
       " 'training_frame': {'default': None,\n",
       "  'actual': {'__meta': {'schema_version': 3,\n",
       "    'schema_name': 'FrameKeyV3',\n",
       "    'schema_type': 'Key<Frame>'},\n",
       "   'name': 'automl_training_kc_house_data.hex',\n",
       "   'type': 'Key<Frame>',\n",
       "   'URL': '/3/Frames/automl_training_kc_house_data.hex'}},\n",
       " 'response_column': {'default': None,\n",
       "  'actual': {'__meta': {'schema_version': 3,\n",
       "    'schema_name': 'ColSpecifierV3',\n",
       "    'schema_type': 'VecSpecifier'},\n",
       "   'column_name': 'price',\n",
       "   'is_member_of_frames': None}},\n",
       " 'validation_frame': {'default': None, 'actual': None},\n",
       " 'base_models': {'default': [],\n",
       "  'actual': [{'__meta': {'schema_version': 3,\n",
       "     'schema_name': 'ModelKeyV3',\n",
       "     'schema_type': 'Key<Model>'},\n",
       "    'name': 'XRT_1_AutoML_20190416_112303',\n",
       "    'type': 'Key<Model>',\n",
       "    'URL': '/3/Models/XRT_1_AutoML_20190416_112303'},\n",
       "   {'__meta': {'schema_version': 3,\n",
       "     'schema_name': 'ModelKeyV3',\n",
       "     'schema_type': 'Key<Model>'},\n",
       "    'name': 'DeepLearning_1_AutoML_20190416_112303',\n",
       "    'type': 'Key<Model>',\n",
       "    'URL': '/3/Models/DeepLearning_1_AutoML_20190416_112303'},\n",
       "   {'__meta': {'schema_version': 3,\n",
       "     'schema_name': 'ModelKeyV3',\n",
       "     'schema_type': 'Key<Model>'},\n",
       "    'name': 'GBM_grid_1_AutoML_20190416_112303_model_2',\n",
       "    'type': 'Key<Model>',\n",
       "    'URL': '/3/Models/GBM_grid_1_AutoML_20190416_112303_model_2'},\n",
       "   {'__meta': {'schema_version': 3,\n",
       "     'schema_name': 'ModelKeyV3',\n",
       "     'schema_type': 'Key<Model>'},\n",
       "    'name': 'DRF_1_AutoML_20190416_112303',\n",
       "    'type': 'Key<Model>',\n",
       "    'URL': '/3/Models/DRF_1_AutoML_20190416_112303'},\n",
       "   {'__meta': {'schema_version': 3,\n",
       "     'schema_name': 'ModelKeyV3',\n",
       "     'schema_type': 'Key<Model>'},\n",
       "    'name': 'GLM_grid_1_AutoML_20190416_112303_model_1',\n",
       "    'type': 'Key<Model>',\n",
       "    'URL': '/3/Models/GLM_grid_1_AutoML_20190416_112303_model_1'}]},\n",
       " 'metalearner_algorithm': {'default': 'AUTO', 'actual': 'AUTO'},\n",
       " 'metalearner_nfolds': {'default': 0, 'actual': 5},\n",
       " 'metalearner_fold_assignment': {'default': None, 'actual': None},\n",
       " 'metalearner_fold_column': {'default': None, 'actual': None},\n",
       " 'keep_levelone_frame': {'default': False, 'actual': True},\n",
       " 'metalearner_params': {'default': '', 'actual': ''},\n",
       " 'seed': {'default': -1, 'actual': 6510334021804555172},\n",
       " 'export_checkpoints_dir': {'default': None, 'actual': None}}"
      ]
     },
     "execution_count": 95,
     "metadata": {},
     "output_type": "execute_result"
    }
   ],
   "source": [
    "mod_best18=h2o.get_model(model_set[18])\n",
    "mod_best18.params"
   ]
  },
  {
   "cell_type": "code",
   "execution_count": 96,
   "metadata": {},
   "outputs": [],
   "source": [
    "hyperparameters = [mod_best18.params]\n",
    "hyperparameter_json(hyperparameters,'StackedEnsemble_Family_1000_seconds')"
   ]
  },
  {
   "cell_type": "markdown",
   "metadata": {},
   "source": [
    "### GLM_Grid 1000 seconds"
   ]
  },
  {
   "cell_type": "code",
   "execution_count": 97,
   "metadata": {},
   "outputs": [
    {
     "data": {
      "text/plain": [
       "{'model_id': {'default': None,\n",
       "  'actual': {'__meta': {'schema_version': 3,\n",
       "    'schema_name': 'ModelKeyV3',\n",
       "    'schema_type': 'Key<Model>'},\n",
       "   'name': 'GLM_grid_1_AutoML_20190416_112303_model_1',\n",
       "   'type': 'Key<Model>',\n",
       "   'URL': '/3/Models/GLM_grid_1_AutoML_20190416_112303_model_1'}},\n",
       " 'training_frame': {'default': None,\n",
       "  'actual': {'__meta': {'schema_version': 3,\n",
       "    'schema_name': 'FrameKeyV3',\n",
       "    'schema_type': 'Key<Frame>'},\n",
       "   'name': 'automl_training_kc_house_data.hex',\n",
       "   'type': 'Key<Frame>',\n",
       "   'URL': '/3/Frames/automl_training_kc_house_data.hex'}},\n",
       " 'validation_frame': {'default': None, 'actual': None},\n",
       " 'nfolds': {'default': 0, 'actual': 5},\n",
       " 'seed': {'default': -1, 'actual': 8545980703075643286},\n",
       " 'keep_cross_validation_models': {'default': True, 'actual': False},\n",
       " 'keep_cross_validation_predictions': {'default': False, 'actual': True},\n",
       " 'keep_cross_validation_fold_assignment': {'default': False, 'actual': False},\n",
       " 'fold_assignment': {'default': 'AUTO', 'actual': 'Modulo'},\n",
       " 'fold_column': {'default': None, 'actual': None},\n",
       " 'response_column': {'default': None,\n",
       "  'actual': {'__meta': {'schema_version': 3,\n",
       "    'schema_name': 'ColSpecifierV3',\n",
       "    'schema_type': 'VecSpecifier'},\n",
       "   'column_name': 'price',\n",
       "   'is_member_of_frames': None}},\n",
       " 'ignored_columns': {'default': None, 'actual': []},\n",
       " 'ignore_const_cols': {'default': True, 'actual': True},\n",
       " 'score_each_iteration': {'default': False, 'actual': False},\n",
       " 'offset_column': {'default': None, 'actual': None},\n",
       " 'weights_column': {'default': None, 'actual': None},\n",
       " 'family': {'default': 'gaussian', 'actual': 'gaussian'},\n",
       " 'tweedie_variance_power': {'default': 0.0, 'actual': 0.0},\n",
       " 'tweedie_link_power': {'default': 1.0, 'actual': 1.0},\n",
       " 'solver': {'default': 'AUTO', 'actual': 'COORDINATE_DESCENT'},\n",
       " 'alpha': {'default': None, 'actual': [0.0, 0.2, 0.4, 0.6, 0.8, 1.0]},\n",
       " 'lambda': {'default': None,\n",
       "  'actual': [25789241.536127478,\n",
       "   16015555.912468724,\n",
       "   9945931.555454643,\n",
       "   6176591.998831225,\n",
       "   3835768.2744260547]},\n",
       " 'lambda_search': {'default': False, 'actual': True},\n",
       " 'early_stopping': {'default': True, 'actual': True},\n",
       " 'nlambdas': {'default': -1, 'actual': 30},\n",
       " 'standardize': {'default': True, 'actual': True},\n",
       " 'missing_values_handling': {'default': 'MeanImputation',\n",
       "  'actual': 'MeanImputation'},\n",
       " 'compute_p_values': {'default': False, 'actual': False},\n",
       " 'remove_collinear_columns': {'default': False, 'actual': False},\n",
       " 'intercept': {'default': True, 'actual': True},\n",
       " 'non_negative': {'default': False, 'actual': False},\n",
       " 'max_iterations': {'default': -1, 'actual': 300},\n",
       " 'objective_epsilon': {'default': -1.0, 'actual': 0.0001},\n",
       " 'beta_epsilon': {'default': 0.0001, 'actual': 0.0001},\n",
       " 'gradient_epsilon': {'default': -1.0, 'actual': 1.0000000000000002e-06},\n",
       " 'link': {'default': 'family_default', 'actual': 'identity'},\n",
       " 'prior': {'default': -1.0, 'actual': -1.0},\n",
       " 'lambda_min_ratio': {'default': -1.0, 'actual': 1.0000000000000002e-06},\n",
       " 'beta_constraints': {'default': None, 'actual': None},\n",
       " 'max_active_predictors': {'default': -1, 'actual': 5000},\n",
       " 'interactions': {'default': None, 'actual': None},\n",
       " 'interaction_pairs': {'default': None, 'actual': None},\n",
       " 'obj_reg': {'default': -1.0, 'actual': 4.6268449544255775e-05},\n",
       " 'export_checkpoints_dir': {'default': None, 'actual': None},\n",
       " 'balance_classes': {'default': False, 'actual': False},\n",
       " 'class_sampling_factors': {'default': None, 'actual': None},\n",
       " 'max_after_balance_size': {'default': 5.0, 'actual': 5.0},\n",
       " 'max_confusion_matrix_size': {'default': 20, 'actual': 20},\n",
       " 'max_hit_ratio_k': {'default': 0, 'actual': 0},\n",
       " 'max_runtime_secs': {'default': 0.0, 'actual': 11.333333333333334},\n",
       " 'custom_metric_func': {'default': None, 'actual': None}}"
      ]
     },
     "execution_count": 97,
     "metadata": {},
     "output_type": "execute_result"
    }
   ],
   "source": [
    "mod_best19=h2o.get_model(model_set[19])\n",
    "mod_best19.params"
   ]
  },
  {
   "cell_type": "code",
   "execution_count": 98,
   "metadata": {},
   "outputs": [],
   "source": [
    "hyperparameters = [mod_best19.params]\n",
    "hyperparameter_json(hyperparameters,'GLM_Grid_1000_seconds')"
   ]
  },
  {
   "cell_type": "code",
   "execution_count": 100,
   "metadata": {},
   "outputs": [
    {
     "name": "stdout",
     "output_type": "stream",
     "text": [
      "Model Details\n",
      "=============\n",
      "H2ORandomForestEstimator :  Distributed Random Forest\n",
      "Model Key:  XRT_1_AutoML_20190416_112303\n",
      "\n",
      "\n",
      "ModelMetricsRegression: drf\n",
      "** Reported on train data. **\n",
      "\n",
      "MSE: 18224440884.62036\n",
      "RMSE: 134997.92918641516\n",
      "MAE: 73860.04141482919\n",
      "RMSLE: 0.18439643246762377\n",
      "Mean Residual Deviance: 18224440884.62036\n",
      "\n",
      "ModelMetricsRegression: drf\n",
      "** Reported on cross-validation data. **\n",
      "\n",
      "MSE: 17680869190.12048\n",
      "RMSE: 132969.42953220668\n",
      "MAE: 73008.34311430765\n",
      "RMSLE: 0.18312882287130602\n",
      "Mean Residual Deviance: 17680869190.12048\n",
      "Cross-Validation Metrics Summary: \n"
     ]
    },
    {
     "data": {
      "text/html": [
       "<div style=\"overflow:auto\"><table style=\"width:50%\"><tr><td><b></b></td>\n",
       "<td><b>mean</b></td>\n",
       "<td><b>sd</b></td>\n",
       "<td><b>cv_1_valid</b></td>\n",
       "<td><b>cv_2_valid</b></td>\n",
       "<td><b>cv_3_valid</b></td>\n",
       "<td><b>cv_4_valid</b></td>\n",
       "<td><b>cv_5_valid</b></td></tr>\n",
       "<tr><td>mae</td>\n",
       "<td>73008.35</td>\n",
       "<td>570.96106</td>\n",
       "<td>73961.945</td>\n",
       "<td>71763.83</td>\n",
       "<td>73158.98</td>\n",
       "<td>72458.32</td>\n",
       "<td>73698.69</td></tr>\n",
       "<tr><td>mean_residual_deviance</td>\n",
       "<td>17680939000.0000000</td>\n",
       "<td>1057612480.0000000</td>\n",
       "<td>17960626200.0000000</td>\n",
       "<td>15711238100.0000000</td>\n",
       "<td>17845282800.0000000</td>\n",
       "<td>16706443300.0000000</td>\n",
       "<td>20181106700.0000000</td></tr>\n",
       "<tr><td>mse</td>\n",
       "<td>17680939000.0000000</td>\n",
       "<td>1057612480.0000000</td>\n",
       "<td>17960626200.0000000</td>\n",
       "<td>15711238100.0000000</td>\n",
       "<td>17845282800.0000000</td>\n",
       "<td>16706443300.0000000</td>\n",
       "<td>20181106700.0000000</td></tr>\n",
       "<tr><td>r2</td>\n",
       "<td>0.8691527</td>\n",
       "<td>0.0044196</td>\n",
       "<td>0.8682443</td>\n",
       "<td>0.8738184</td>\n",
       "<td>0.8721835</td>\n",
       "<td>0.8741405</td>\n",
       "<td>0.8573767</td></tr>\n",
       "<tr><td>residual_deviance</td>\n",
       "<td>17680939000.0000000</td>\n",
       "<td>1057612480.0000000</td>\n",
       "<td>17960626200.0000000</td>\n",
       "<td>15711238100.0000000</td>\n",
       "<td>17845282800.0000000</td>\n",
       "<td>16706443300.0000000</td>\n",
       "<td>20181106700.0000000</td></tr>\n",
       "<tr><td>rmse</td>\n",
       "<td>132852.33</td>\n",
       "<td>3949.6978</td>\n",
       "<td>134017.27</td>\n",
       "<td>125344.48</td>\n",
       "<td>133586.23</td>\n",
       "<td>129253.41</td>\n",
       "<td>142060.22</td></tr>\n",
       "<tr><td>rmsle</td>\n",
       "<td>0.1831177</td>\n",
       "<td>0.0014254</td>\n",
       "<td>0.1840242</td>\n",
       "<td>0.1802781</td>\n",
       "<td>0.1863523</td>\n",
       "<td>0.1822196</td>\n",
       "<td>0.1827141</td></tr></table></div>"
      ],
      "text/plain": [
       "                        mean         sd           cv_1_valid    cv_2_valid    cv_3_valid    cv_4_valid    cv_5_valid\n",
       "----------------------  -----------  -----------  ------------  ------------  ------------  ------------  ------------\n",
       "mae                     73008.4      570.961      73961.9       71763.8       73159         72458.3       73698.7\n",
       "mean_residual_deviance  1.76809e+10  1.05761e+09  1.79606e+10   1.57112e+10   1.78453e+10   1.67064e+10   2.01811e+10\n",
       "mse                     1.76809e+10  1.05761e+09  1.79606e+10   1.57112e+10   1.78453e+10   1.67064e+10   2.01811e+10\n",
       "r2                      0.869153     0.00441963   0.868244      0.873818      0.872184      0.87414       0.857377\n",
       "residual_deviance       1.76809e+10  1.05761e+09  1.79606e+10   1.57112e+10   1.78453e+10   1.67064e+10   2.01811e+10\n",
       "rmse                    132852       3949.7       134017        125344        133586        129253        142060\n",
       "rmsle                   0.183118     0.00142539   0.184024      0.180278      0.186352      0.18222       0.182714"
      ]
     },
     "metadata": {},
     "output_type": "execute_result"
    },
    {
     "name": "stdout",
     "output_type": "stream",
     "text": [
      "Scoring History: \n"
     ]
    },
    {
     "data": {
      "text/html": [
       "<div style=\"overflow:auto\"><table style=\"width:50%\"><tr><td><b></b></td>\n",
       "<td><b>timestamp</b></td>\n",
       "<td><b>duration</b></td>\n",
       "<td><b>number_of_trees</b></td>\n",
       "<td><b>training_rmse</b></td>\n",
       "<td><b>training_mae</b></td>\n",
       "<td><b>training_deviance</b></td></tr>\n",
       "<tr><td></td>\n",
       "<td>2019-04-16 11:26:15</td>\n",
       "<td> 1 min 38.621 sec</td>\n",
       "<td>0.0</td>\n",
       "<td>nan</td>\n",
       "<td>nan</td>\n",
       "<td>nan</td></tr>\n",
       "<tr><td></td>\n",
       "<td>2019-04-16 11:26:15</td>\n",
       "<td> 1 min 39.044 sec</td>\n",
       "<td>1.0</td>\n",
       "<td>226665.0540372</td>\n",
       "<td>120248.1531603</td>\n",
       "<td>51377046721.6785202</td></tr>\n",
       "<tr><td></td>\n",
       "<td>2019-04-16 11:26:15</td>\n",
       "<td> 1 min 39.504 sec</td>\n",
       "<td>2.0</td>\n",
       "<td>215083.0556020</td>\n",
       "<td>114256.4997009</td>\n",
       "<td>46260720807.0821533</td></tr>\n",
       "<tr><td></td>\n",
       "<td>2019-04-16 11:26:16</td>\n",
       "<td> 1 min 39.888 sec</td>\n",
       "<td>3.0</td>\n",
       "<td>197665.8191035</td>\n",
       "<td>106255.6918798</td>\n",
       "<td>39071776041.8379364</td></tr>\n",
       "<tr><td></td>\n",
       "<td>2019-04-16 11:26:16</td>\n",
       "<td> 1 min 40.325 sec</td>\n",
       "<td>4.0</td>\n",
       "<td>186402.9322670</td>\n",
       "<td>101331.3889179</td>\n",
       "<td>34746053157.7248459</td></tr>\n",
       "<tr><td></td>\n",
       "<td>2019-04-16 11:26:17</td>\n",
       "<td> 1 min 40.746 sec</td>\n",
       "<td>5.0</td>\n",
       "<td>183370.3823494</td>\n",
       "<td>100091.6982588</td>\n",
       "<td>33624697122.9584999</td></tr>\n",
       "<tr><td></td>\n",
       "<td>2019-04-16 11:26:17</td>\n",
       "<td> 1 min 41.118 sec</td>\n",
       "<td>6.0</td>\n",
       "<td>179536.6905333</td>\n",
       "<td>97504.2018495</td>\n",
       "<td>32233423247.6603394</td></tr>\n",
       "<tr><td></td>\n",
       "<td>2019-04-16 11:26:17</td>\n",
       "<td> 1 min 41.506 sec</td>\n",
       "<td>7.0</td>\n",
       "<td>172028.9922407</td>\n",
       "<td>94353.8800014</td>\n",
       "<td>29593974171.3502693</td></tr>\n",
       "<tr><td></td>\n",
       "<td>2019-04-16 11:26:18</td>\n",
       "<td> 1 min 41.932 sec</td>\n",
       "<td>8.0</td>\n",
       "<td>167777.3916522</td>\n",
       "<td>92054.5609482</td>\n",
       "<td>28149253149.6315689</td></tr>\n",
       "<tr><td></td>\n",
       "<td>2019-04-16 11:26:18</td>\n",
       "<td> 1 min 42.369 sec</td>\n",
       "<td>9.0</td>\n",
       "<td>164181.9451897</td>\n",
       "<td>89928.7113160</td>\n",
       "<td>26955711126.2784004</td></tr>\n",
       "<tr><td></td>\n",
       "<td>2019-04-16 11:26:22</td>\n",
       "<td> 1 min 46.460 sec</td>\n",
       "<td>19.0</td>\n",
       "<td>144608.0171253</td>\n",
       "<td>79940.2026597</td>\n",
       "<td>20911478616.8967361</td></tr>\n",
       "<tr><td></td>\n",
       "<td>2019-04-16 11:26:26</td>\n",
       "<td> 1 min 50.517 sec</td>\n",
       "<td>29.0</td>\n",
       "<td>139251.0732742</td>\n",
       "<td>76341.0356315</td>\n",
       "<td>19390861408.0153770</td></tr>\n",
       "<tr><td></td>\n",
       "<td>2019-04-16 11:26:31</td>\n",
       "<td> 1 min 54.666 sec</td>\n",
       "<td>39.0</td>\n",
       "<td>137666.2201595</td>\n",
       "<td>74954.8224897</td>\n",
       "<td>18951988173.0072136</td></tr>\n",
       "<tr><td></td>\n",
       "<td>2019-04-16 11:26:35</td>\n",
       "<td> 1 min 58.894 sec</td>\n",
       "<td>49.0</td>\n",
       "<td>135432.7085923</td>\n",
       "<td>73945.6869050</td>\n",
       "<td>18342018556.6376534</td></tr>\n",
       "<tr><td></td>\n",
       "<td>2019-04-16 11:26:35</td>\n",
       "<td> 1 min 59.334 sec</td>\n",
       "<td>50.0</td>\n",
       "<td>134997.9291864</td>\n",
       "<td>73860.0414148</td>\n",
       "<td>18224440884.6203613</td></tr></table></div>"
      ],
      "text/plain": [
       "    timestamp            duration          number_of_trees    training_rmse    training_mae    training_deviance\n",
       "--  -------------------  ----------------  -----------------  ---------------  --------------  -------------------\n",
       "    2019-04-16 11:26:15  1 min 38.621 sec  0                  nan              nan             nan\n",
       "    2019-04-16 11:26:15  1 min 39.044 sec  1                  226665           120248          5.1377e+10\n",
       "    2019-04-16 11:26:15  1 min 39.504 sec  2                  215083           114256          4.62607e+10\n",
       "    2019-04-16 11:26:16  1 min 39.888 sec  3                  197666           106256          3.90718e+10\n",
       "    2019-04-16 11:26:16  1 min 40.325 sec  4                  186403           101331          3.47461e+10\n",
       "    2019-04-16 11:26:17  1 min 40.746 sec  5                  183370           100092          3.36247e+10\n",
       "    2019-04-16 11:26:17  1 min 41.118 sec  6                  179537           97504.2         3.22334e+10\n",
       "    2019-04-16 11:26:17  1 min 41.506 sec  7                  172029           94353.9         2.9594e+10\n",
       "    2019-04-16 11:26:18  1 min 41.932 sec  8                  167777           92054.6         2.81493e+10\n",
       "    2019-04-16 11:26:18  1 min 42.369 sec  9                  164182           89928.7         2.69557e+10\n",
       "    2019-04-16 11:26:22  1 min 46.460 sec  19                 144608           79940.2         2.09115e+10\n",
       "    2019-04-16 11:26:26  1 min 50.517 sec  29                 139251           76341           1.93909e+10\n",
       "    2019-04-16 11:26:31  1 min 54.666 sec  39                 137666           74954.8         1.8952e+10\n",
       "    2019-04-16 11:26:35  1 min 58.894 sec  49                 135433           73945.7         1.8342e+10\n",
       "    2019-04-16 11:26:35  1 min 59.334 sec  50                 134998           73860           1.82244e+10"
      ]
     },
     "metadata": {},
     "output_type": "execute_result"
    },
    {
     "name": "stdout",
     "output_type": "stream",
     "text": [
      "Variable Importances: \n"
     ]
    },
    {
     "data": {
      "text/html": [
       "<div style=\"overflow:auto\"><table style=\"width:50%\"><tr><td><b>variable</b></td>\n",
       "<td><b>relative_importance</b></td>\n",
       "<td><b>scaled_importance</b></td>\n",
       "<td><b>percentage</b></td></tr>\n",
       "<tr><td>sqft_living</td>\n",
       "<td>24241950764826624.0000000</td>\n",
       "<td>1.0</td>\n",
       "<td>0.1869383</td></tr>\n",
       "<tr><td>date</td>\n",
       "<td>23971674915340288.0000000</td>\n",
       "<td>0.9888509</td>\n",
       "<td>0.1848541</td></tr>\n",
       "<tr><td>grade</td>\n",
       "<td>20540889399033856.0000000</td>\n",
       "<td>0.8473282</td>\n",
       "<td>0.1583981</td></tr>\n",
       "<tr><td>lat</td>\n",
       "<td>13420278151380992.0000000</td>\n",
       "<td>0.5535973</td>\n",
       "<td>0.1034886</td></tr>\n",
       "<tr><td>sqft_living15</td>\n",
       "<td>11728991970918400.0000000</td>\n",
       "<td>0.4838304</td>\n",
       "<td>0.0904464</td></tr>\n",
       "<tr><td>sqft_above</td>\n",
       "<td>10931669947121664.0000000</td>\n",
       "<td>0.4509402</td>\n",
       "<td>0.0842980</td></tr>\n",
       "<tr><td>long</td>\n",
       "<td>5075788592316416.0000000</td>\n",
       "<td>0.2093804</td>\n",
       "<td>0.0391412</td></tr>\n",
       "<tr><td>bathrooms</td>\n",
       "<td>3421633746305024.0000000</td>\n",
       "<td>0.1411451</td>\n",
       "<td>0.0263854</td></tr>\n",
       "<tr><td>yr_built</td>\n",
       "<td>2899830921756672.0000000</td>\n",
       "<td>0.1196204</td>\n",
       "<td>0.0223616</td></tr>\n",
       "<tr><td>view</td>\n",
       "<td>2880526922809344.0000000</td>\n",
       "<td>0.1188241</td>\n",
       "<td>0.0222128</td></tr>\n",
       "<tr><td>waterfront</td>\n",
       "<td>2564766295916544.0000000</td>\n",
       "<td>0.1057987</td>\n",
       "<td>0.0197778</td></tr>\n",
       "<tr><td>zipcode</td>\n",
       "<td>1915994305986560.0000000</td>\n",
       "<td>0.0790363</td>\n",
       "<td>0.0147749</td></tr>\n",
       "<tr><td>sqft_basement</td>\n",
       "<td>1498966940188672.0000000</td>\n",
       "<td>0.0618336</td>\n",
       "<td>0.0115591</td></tr>\n",
       "<tr><td>id</td>\n",
       "<td>1053249863942144.0000000</td>\n",
       "<td>0.0434474</td>\n",
       "<td>0.0081220</td></tr>\n",
       "<tr><td>sqft_lot15</td>\n",
       "<td>976860313812992.0000000</td>\n",
       "<td>0.0402963</td>\n",
       "<td>0.0075329</td></tr>\n",
       "<tr><td>sqft_lot</td>\n",
       "<td>850441306898432.0000000</td>\n",
       "<td>0.0350814</td>\n",
       "<td>0.0065581</td></tr>\n",
       "<tr><td>floors</td>\n",
       "<td>507222987636736.0000000</td>\n",
       "<td>0.0209234</td>\n",
       "<td>0.0039114</td></tr>\n",
       "<tr><td>condition</td>\n",
       "<td>470149165481984.0000000</td>\n",
       "<td>0.0193940</td>\n",
       "<td>0.0036255</td></tr>\n",
       "<tr><td>bedrooms</td>\n",
       "<td>426045857595392.0000000</td>\n",
       "<td>0.0175747</td>\n",
       "<td>0.0032854</td></tr>\n",
       "<tr><td>yr_renovated</td>\n",
       "<td>301931234852864.0000000</td>\n",
       "<td>0.0124549</td>\n",
       "<td>0.0023283</td></tr></table></div>"
      ],
      "text/plain": [
       "variable       relative_importance    scaled_importance    percentage\n",
       "-------------  ---------------------  -------------------  ------------\n",
       "sqft_living    2.4242e+16             1                    0.186938\n",
       "date           2.39717e+16            0.988851             0.184854\n",
       "grade          2.05409e+16            0.847328             0.158398\n",
       "lat            1.34203e+16            0.553597             0.103489\n",
       "sqft_living15  1.1729e+16             0.48383              0.0904464\n",
       "sqft_above     1.09317e+16            0.45094              0.084298\n",
       "long           5.07579e+15            0.20938              0.0391412\n",
       "bathrooms      3.42163e+15            0.141145             0.0263854\n",
       "yr_built       2.89983e+15            0.11962              0.0223616\n",
       "view           2.88053e+15            0.118824             0.0222128\n",
       "waterfront     2.56477e+15            0.105799             0.0197778\n",
       "zipcode        1.91599e+15            0.0790363            0.0147749\n",
       "sqft_basement  1.49897e+15            0.0618336            0.0115591\n",
       "id             1.05325e+15            0.0434474            0.00812199\n",
       "sqft_lot15     9.7686e+14             0.0402963            0.00753292\n",
       "sqft_lot       8.50441e+14            0.0350814            0.00655806\n",
       "floors         5.07223e+14            0.0209234            0.00391138\n",
       "condition      4.70149e+14            0.019394             0.00362549\n",
       "bedrooms       4.26046e+14            0.0175747            0.00328539\n",
       "yr_renovated   3.01931e+14            0.0124549            0.0023283"
      ]
     },
     "metadata": {},
     "output_type": "execute_result"
    },
    {
     "data": {
      "text/plain": []
     },
     "execution_count": 100,
     "metadata": {},
     "output_type": "execute_result"
    }
   ],
   "source": [
    "# view best model \n",
    "best = aml.leader\n",
    "best "
   ]
  },
  {
   "cell_type": "code",
   "execution_count": 101,
   "metadata": {},
   "outputs": [],
   "source": [
    "best_model = h2o.get_model(aml.leaderboard[0,'model_id'])#Getting the best model based on the leaderboard"
   ]
  },
  {
   "cell_type": "code",
   "execution_count": 102,
   "metadata": {},
   "outputs": [
    {
     "data": {
      "text/plain": [
       "'drf'"
      ]
     },
     "execution_count": 102,
     "metadata": {},
     "output_type": "execute_result"
    }
   ],
   "source": [
    "best_model.algo"
   ]
  }
 ],
 "metadata": {
  "kernelspec": {
   "display_name": "Python 3",
   "language": "python",
   "name": "python3"
  },
  "language_info": {
   "codemirror_mode": {
    "name": "ipython",
    "version": 3
   },
   "file_extension": ".py",
   "mimetype": "text/x-python",
   "name": "python",
   "nbconvert_exporter": "python",
   "pygments_lexer": "ipython3",
   "version": "3.7.1"
  }
 },
 "nbformat": 4,
 "nbformat_minor": 2
}
